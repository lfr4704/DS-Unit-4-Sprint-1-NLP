{
 "cells": [
  {
   "cell_type": "markdown",
   "metadata": {},
   "source": [
    "<img align=\"left\" src=\"https://lever-client-logos.s3.amazonaws.com/864372b1-534c-480e-acd5-9711f850815c-1524247202159.png\" width=200>\n",
    "<br></br>\n",
    "<br></br>\n",
    "\n",
    "# Natural Language Processing (NLP)\n",
    "## *Data Science Unit 4 Sprint 1 Assignment 1*\n",
    "\n",
    "Your goal in this assignment: find the attributes of the best & worst coffee shops in the dataset. The text is fairly raw: dates in the review, extra words in the `star_rating` column, etc. You'll probably want to clean that stuff up for a better analysis. \n",
    "\n",
    "Analyze the corpus of text using text visualizations of token frequency. Try cleaning the data as much as possible. Try the following techniques: \n",
    "- Lemmatization\n",
    "- Custom stopword removal\n",
    "\n",
    "Keep in mind the attributes of good tokens. Once you have a solid baseline, layer in the star rating in your visualization(s). Key part of this assignment - produce a write-up of the attributes of the best and worst coffee shops. Based on your analysis, what makes the best the best and the worst the worst. Use graphs and numbesr from your analysis to support your conclusions. There should be plenty of markdown cells! :coffee:"
   ]
  },
  {
   "cell_type": "code",
   "execution_count": 2,
   "metadata": {},
   "outputs": [
    {
     "data": {
      "image/jpeg": "[encoded data removed]",
      "text/html": [
       "\n",
       "        <iframe\n",
       "            width=\"400\"\n",
       "            height=\"300\"\n",
       "            src=\"https://www.youtube.com/embed/Jml7NVYm8cs\"\n",
       "            frameborder=\"0\"\n",
       "            allowfullscreen\n",
       "        ></iframe>\n",
       "        "
      ],
      "text/plain": [
       "<IPython.lib.display.YouTubeVideo at 0x10a7dae10>"
      ]
     },
     "execution_count": 2,
     "metadata": {},
     "output_type": "execute_result"
    }
   ],
   "source": [
    "from IPython.display import YouTubeVideo\n",
    "\n",
    "YouTubeVideo('Jml7NVYm8cs')"
   ]
  },
  {
   "cell_type": "code",
   "execution_count": 3,
   "metadata": {},
   "outputs": [
    {
     "data": {
      "text/plain": [
       "'/Users/computer/projects/lambda/DS-Unit-4-Sprint-1-NLP/module1-text-data'"
      ]
     },
     "execution_count": 3,
     "metadata": {},
     "output_type": "execute_result"
    }
   ],
   "source": [
    "%pwd"
   ]
  },
  {
   "cell_type": "code",
   "execution_count": 4,
   "metadata": {},
   "outputs": [
    {
     "data": {
      "text/html": [
       "<div>\n",
       "<style scoped>\n",
       "    .dataframe tbody tr th:only-of-type {\n",
       "        vertical-align: middle;\n",
       "    }\n",
       "\n",
       "    .dataframe tbody tr th {\n",
       "        vertical-align: top;\n",
       "    }\n",
       "\n",
       "    .dataframe thead th {\n",
       "        text-align: right;\n",
       "    }\n",
       "</style>\n",
       "<table border=\"1\" class=\"dataframe\">\n",
       "  <thead>\n",
       "    <tr style=\"text-align: right;\">\n",
       "      <th></th>\n",
       "      <th>coffee_shop_name</th>\n",
       "      <th>full_review_text</th>\n",
       "      <th>star_rating</th>\n",
       "    </tr>\n",
       "  </thead>\n",
       "  <tbody>\n",
       "    <tr>\n",
       "      <th>0</th>\n",
       "      <td>The Factory - Cafe With a Soul</td>\n",
       "      <td>11/25/2016 1 check-in Love love loved the atm...</td>\n",
       "      <td>5.0 star rating</td>\n",
       "    </tr>\n",
       "    <tr>\n",
       "      <th>1</th>\n",
       "      <td>The Factory - Cafe With a Soul</td>\n",
       "      <td>12/2/2016 Listed in Date Night: Austin, Ambia...</td>\n",
       "      <td>4.0 star rating</td>\n",
       "    </tr>\n",
       "    <tr>\n",
       "      <th>2</th>\n",
       "      <td>The Factory - Cafe With a Soul</td>\n",
       "      <td>11/30/2016 1 check-in Listed in Brunch Spots ...</td>\n",
       "      <td>4.0 star rating</td>\n",
       "    </tr>\n",
       "    <tr>\n",
       "      <th>3</th>\n",
       "      <td>The Factory - Cafe With a Soul</td>\n",
       "      <td>11/25/2016 Very cool decor! Good drinks Nice ...</td>\n",
       "      <td>2.0 star rating</td>\n",
       "    </tr>\n",
       "    <tr>\n",
       "      <th>4</th>\n",
       "      <td>The Factory - Cafe With a Soul</td>\n",
       "      <td>12/3/2016 1 check-in They are located within ...</td>\n",
       "      <td>4.0 star rating</td>\n",
       "    </tr>\n",
       "  </tbody>\n",
       "</table>\n",
       "</div>"
      ],
      "text/plain": [
       "                  coffee_shop_name  \\\n",
       "0  The Factory - Cafe With a Soul    \n",
       "1  The Factory - Cafe With a Soul    \n",
       "2  The Factory - Cafe With a Soul    \n",
       "3  The Factory - Cafe With a Soul    \n",
       "4  The Factory - Cafe With a Soul    \n",
       "\n",
       "                                    full_review_text        star_rating  \n",
       "0   11/25/2016 1 check-in Love love loved the atm...   5.0 star rating   \n",
       "1   12/2/2016 Listed in Date Night: Austin, Ambia...   4.0 star rating   \n",
       "2   11/30/2016 1 check-in Listed in Brunch Spots ...   4.0 star rating   \n",
       "3   11/25/2016 Very cool decor! Good drinks Nice ...   2.0 star rating   \n",
       "4   12/3/2016 1 check-in They are located within ...   4.0 star rating   "
      ]
     },
     "execution_count": 4,
     "metadata": {},
     "output_type": "execute_result"
    }
   ],
   "source": [
    "import pandas as pd\n",
    "\n",
    "url = \"./data/yelp_coffeeshop_review_data.csv\"\n",
    "\n",
    "shops = pd.read_csv(url)\n",
    "shops.head()"
   ]
  },
  {
   "cell_type": "code",
   "execution_count": 5,
   "metadata": {},
   "outputs": [
    {
     "data": {
      "text/plain": [
       "(7616, 3)"
      ]
     },
     "execution_count": 5,
     "metadata": {},
     "output_type": "execute_result"
    }
   ],
   "source": [
    "# Start here \n",
    "shops.shape"
   ]
  },
  {
   "cell_type": "markdown",
   "metadata": {},
   "source": [
    "## How do we want to analyze these coffee shop tokens? \n",
    "\n",
    "- Overall Word / Token Count\n",
    "- View Counts by Rating \n",
    "- *Hint:* a 'bad' coffee shops has a rating betweeen 1 & 3 based on the distribution of ratings. A 'good' coffee shop is a 4 or 5. "
   ]
  },
  {
   "cell_type": "code",
   "execution_count": 6,
   "metadata": {},
   "outputs": [],
   "source": [
    "\n",
    "\n",
    "# Base\n",
    "from collections import Counter\n",
    "import re\n",
    " \n",
    "import pandas as pd\n",
    "\n",
    "# Plotting\n",
    "import squarify\n",
    "import matplotlib.pyplot as plt\n",
    "import seaborn as sns\n",
    "\n",
    "# NLP Libraries\n",
    "import spacy\n",
    "from spacy.tokenizer import Tokenizer\n",
    "from nltk.stem import PorterStemmer\n",
    "\n",
    "nlp = spacy.load(\"en_core_web_lg\")\n",
    "\n",
    "\n"
   ]
  },
  {
   "cell_type": "code",
   "execution_count": 7,
   "metadata": {},
   "outputs": [],
   "source": [
    "def tokenize(text):\n",
    "    \"\"\"Parses a string into a list of semantic units (words)\n",
    "\n",
    "    Args:\n",
    "        text (str): The string that the function will tokenize.\n",
    "\n",
    "    Returns:\n",
    "        list: tokens parsed out by the mechanics of your choice\n",
    "    \"\"\"\n",
    "    \n",
    "    tokens = re.sub('[^a-zA-Z 0-9]', '', text)\n",
    "    tokens = tokens.lower().split()\n",
    "    \n",
    "    return tokens\n",
    "      \n"
   ]
  },
  {
   "cell_type": "markdown",
   "metadata": {},
   "source": [
    "Try example to test function"
   ]
  },
  {
   "cell_type": "code",
   "execution_count": 8,
   "metadata": {},
   "outputs": [
    {
     "data": {
      "text/plain": [
       "['try', 'tokenize', 'this', 'string']"
      ]
     },
     "execution_count": 8,
     "metadata": {},
     "output_type": "execute_result"
    }
   ],
   "source": [
    "sample = \"Try tokenize this string\"\n",
    "\n",
    "tokenize(sample)"
   ]
  },
  {
   "cell_type": "code",
   "execution_count": 9,
   "metadata": {},
   "outputs": [
    {
     "data": {
      "text/html": [
       "<div>\n",
       "<style scoped>\n",
       "    .dataframe tbody tr th:only-of-type {\n",
       "        vertical-align: middle;\n",
       "    }\n",
       "\n",
       "    .dataframe tbody tr th {\n",
       "        vertical-align: top;\n",
       "    }\n",
       "\n",
       "    .dataframe thead th {\n",
       "        text-align: right;\n",
       "    }\n",
       "</style>\n",
       "<table border=\"1\" class=\"dataframe\">\n",
       "  <thead>\n",
       "    <tr style=\"text-align: right;\">\n",
       "      <th></th>\n",
       "      <th>coffee_shop_name</th>\n",
       "      <th>full_review_text</th>\n",
       "      <th>star_rating</th>\n",
       "    </tr>\n",
       "  </thead>\n",
       "  <tbody>\n",
       "    <tr>\n",
       "      <th>0</th>\n",
       "      <td>The Factory - Cafe With a Soul</td>\n",
       "      <td>11/25/2016 1 check-in Love love loved the atm...</td>\n",
       "      <td>5.0 star rating</td>\n",
       "    </tr>\n",
       "    <tr>\n",
       "      <th>1</th>\n",
       "      <td>The Factory - Cafe With a Soul</td>\n",
       "      <td>12/2/2016 Listed in Date Night: Austin, Ambia...</td>\n",
       "      <td>4.0 star rating</td>\n",
       "    </tr>\n",
       "    <tr>\n",
       "      <th>2</th>\n",
       "      <td>The Factory - Cafe With a Soul</td>\n",
       "      <td>11/30/2016 1 check-in Listed in Brunch Spots ...</td>\n",
       "      <td>4.0 star rating</td>\n",
       "    </tr>\n",
       "    <tr>\n",
       "      <th>3</th>\n",
       "      <td>The Factory - Cafe With a Soul</td>\n",
       "      <td>11/25/2016 Very cool decor! Good drinks Nice ...</td>\n",
       "      <td>2.0 star rating</td>\n",
       "    </tr>\n",
       "    <tr>\n",
       "      <th>4</th>\n",
       "      <td>The Factory - Cafe With a Soul</td>\n",
       "      <td>12/3/2016 1 check-in They are located within ...</td>\n",
       "      <td>4.0 star rating</td>\n",
       "    </tr>\n",
       "  </tbody>\n",
       "</table>\n",
       "</div>"
      ],
      "text/plain": [
       "                  coffee_shop_name  \\\n",
       "0  The Factory - Cafe With a Soul    \n",
       "1  The Factory - Cafe With a Soul    \n",
       "2  The Factory - Cafe With a Soul    \n",
       "3  The Factory - Cafe With a Soul    \n",
       "4  The Factory - Cafe With a Soul    \n",
       "\n",
       "                                    full_review_text        star_rating  \n",
       "0   11/25/2016 1 check-in Love love loved the atm...   5.0 star rating   \n",
       "1   12/2/2016 Listed in Date Night: Austin, Ambia...   4.0 star rating   \n",
       "2   11/30/2016 1 check-in Listed in Brunch Spots ...   4.0 star rating   \n",
       "3   11/25/2016 Very cool decor! Good drinks Nice ...   2.0 star rating   \n",
       "4   12/3/2016 1 check-in They are located within ...   4.0 star rating   "
      ]
     },
     "execution_count": 9,
     "metadata": {},
     "output_type": "execute_result"
    }
   ],
   "source": [
    "shops.head()"
   ]
  },
  {
   "cell_type": "code",
   "execution_count": 10,
   "metadata": {},
   "outputs": [
    {
     "data": {
      "text/plain": [
       " 10/10/2016 This place is so cute. New favorite coffee spot on Burnet/in Northcross. Almost wish I was still in grad school,  so I would have an excuse to be there everyday.  Amazing coffee and best chicken & waffles ever! The chicken was seasoned perfectly and made for a delicious savory brunch (with the house made slaw they give you on the side). The olive oil cake was also awesome, light and sweet. Perfect coffee companion. My husband and I will definitely be back, as we loved everything and felt it was all very reasonable priced. Olive oil cake, chicken & waffle and 15-minutes-of-fame coffee! So good.                                                                                                                                                                                                                                                                                                                                                                                                                                                                                                                                                                                                                                                                                                                  0.000525\n",
       " 11/30/2016 Love this place. I really appreciate the lack of wifi. Makes it much easier to have good conversations or lose yourself in a good book. Agree that it's a bit pricey, but the drinks are really good.                                                                                                                                                                                                                                                                                                                                                                                                                                                                                                                                                                                                                                                                                                                                                                                                                                                                                                                                                                                                                                                                                                                                     0.000525\n",
       " 12/2/2016 What a fantastic atmosphere. I dropped in to catch up on some work and found a fantastic atmosphere and a great staff. I wish I could work here every day. I had the Darling pour-over and olive bread, and camped out near the pop-art fabric fire in the fireplace nook. Wallace (owner) and his team were spot-on with service and help. Full disclosure: The place is so beautiful on the inside that I Instagrammed it - couldn't help it, I claimed it for my own, like dozens of other folks. Highly recommended, so get here when you can!                                                                                                                                                                                                                                                                                                                                                                                                                                                                                                                                                                                                                                                                                                                                                                                         0.000525\n",
       " 11/17/2016 Craft coffee drinks, tea, and beer/wine. Friendly staff, good music and nice atmosphere complete with with a few rope swings from he ceiling. And let's not forget the amazing waffles!! Nice place to chill with friends.                                                                                                                                                                                                                                                                                                                                                                                                                                                                                                                                                                                                                                                                                                                                                                                                                                                                                                                                                                                                                                                                                                                0.000525\n",
       " 11/20/2016 This is a tough one for me.  I took my children here as a treat one afternoon and our first impression was good.  I liked the decor and the place has swings and a chess set!  Score for the kids! I went to place my order and had to use an ipad.  It was DIY-ordering.  I hit the wrong button of course and ended up messing up my order and having to redo the whole thing.  Not too thrilled with the ipad idea but I moved on.  I sat down and when our drinks were ready, they called my name to go get them.  They had a tip jar on the counter.  I have an issue with this since I had to place my own order and then go get my own drink.  I'm not sure what they did extra that constitutes a tip?  The milk tea was delicious!  The kids loved their drinks and \"pop tarts.\"  I started glancing at some of the books laying on the table and the first one I picked up was on tattoos and had a few nude people inside.  I pushed that one aside to be sure the kids didn't pick it up.  I went to use the restroom and framed on the hall wall was a picture with the F-word all over it.  Hmm, not my idea of tasteful art.  I was glad my children didn't need to use the bathroom.  While my milk tea was good, I wouldn't go back.  It was very expensive for what you get and I'd have to blindfold the children.     0.000525\n",
       "                                                                                                                                                                                                                                                                                                                                                                                                                                                                                                                                                                                                                                                                                                                                                                                                                                                                                                                                                                                                                                                                                                                                                                                                                                                                                                                                                        ...   \n",
       " 7/29/2016 I'm not a big fan of the Domain, but the Rock Rose section is ok and this coffee shop is pretty groovy, so I've been a number of times. The baristas have always been friendly and my drinks were good.                                                                                                                                                                                                                                                                                                                                                                                                                                                                                                                                                                                                                                                                                                                                                                                                                                                                                                                                                                                                                                                                                                                                    0.000131\n",
       " 2/29/2016 Great coffee. Plentiful wall sockets. Quality wi-fi. Energetic music playing. Richly diverse clientele. Really enthusiastic counter staff. And half price appetizers during happy hour. Hashtag ribs, bro.                                                                                                                                                                                                                                                                                                                                                                                                                                                                                                                                                                                                                                                                                                                                                                                                                                                                                                                                                                                                                                                                                                                                 0.000131\n",
       " 2/1/2013 Just went to Trianon for the first and last time. It looked like a cute little coffee shop, which it kind of is, but the waitstaff/baristas are awful. Very rude, charged me for my order but never brought it out and then when I came up asking about it, the woman had an attitude about it. She was soo busy doing her closing chores for the day, she didn't even focus or care about my order. The coffee shop wasn't even busy, that's why this is unacceptable. I regret dropping a sizeable tip in the tip jar after I ordered.                                                                                                                                                                                                                                                                                                                                                                                                                                                                                                                                                                                                                                                                                                                                                                                                    0.000131\n",
       " 2/3/2016 1 check-in This place is a TWO AT BEST. On Saturday there was a average crowd and they had one person making every single drink which took FOREVER. I felt bad for the barista she plugged away while another staff member worked a register across from the coffee bar... WHY? Terrible system that stresses the employee and pisses off the customer.                                                                                                                                                                                                                                                                                                                                                                                                                                                                                                                                                                                                                                                                                                                                                                                                                                                                                                                                                                                     0.000131\n",
       " 8/11/2014 The customer service. OH. MY. GOD.  There was one sweet brown headed girl who was sincere and helpful but the shaggy haired blonde seemed like a pretentious jerk. You could tell she was new and trying to learn but he seemed completely bothered by the matter. I asked him a question about the shot sizing and he acted like I asked him to join the NRA. The dude was completely and utterly rude. Not to mention he didn't even look clean. I can't imagine returning until this place revamps it's customer service skills. It also appears that previous bad reviews relayed the same issue.  Plus the place smelled rancid when you walked in. so if they're cleaning skills mirror their people skills it's safe to assume that they are incredibly poor.                                                                                                                                                                                                                                                                                                                                                                                                                                                                                                                                                                       0.000131\n",
       "Name: full_review_text, Length: 6915, dtype: float64"
      ]
     },
     "execution_count": 10,
     "metadata": {},
     "output_type": "execute_result"
    }
   ],
   "source": [
    "shops['full_review_text'].value_counts(normalize=True)"
   ]
  },
  {
   "cell_type": "code",
   "execution_count": 11,
   "metadata": {},
   "outputs": [],
   "source": [
    "shops['tokens']= shops['full_review_text'].apply(tokenize)"
   ]
  },
  {
   "cell_type": "code",
   "execution_count": 12,
   "metadata": {},
   "outputs": [
    {
     "data": {
      "text/plain": [
       "0    [11252016, 1, checkin, love, love, loved, the,...\n",
       "1    [1222016, listed, in, date, night, austin, amb...\n",
       "2    [11302016, 1, checkin, listed, in, brunch, spo...\n",
       "3    [11252016, very, cool, decor, good, drinks, ni...\n",
       "4    [1232016, 1, checkin, they, are, located, with...\n",
       "Name: tokens, dtype: object"
      ]
     },
     "execution_count": 12,
     "metadata": {},
     "output_type": "execute_result"
    }
   ],
   "source": [
    "shops['tokens'].head()"
   ]
  },
  {
   "cell_type": "code",
   "execution_count": 13,
   "metadata": {},
   "outputs": [
    {
     "data": {
      "text/plain": [
       "[1192016, 1, checkin, listed, in, in, search, of, fantastic, coffee, so, i, really, didnt, want, to, write, this, review, i, didnt, want, to, tell, anyone, how, awesome, the, factory, cafe, with, a, soul, is, because, i, dont, want, it, overrun, and, super, busy, with, no, place, to, sit, like, so, many, other, decent, coffee, shops, in, austin, i, happened, to, come, in, here, with, a, friend, midweek, and, we, sat, here, for, several, hours, enjoying, the, peace, and, quiet, the, atmosphere, and, the, awesome, coffee, this, place, is, a, little, eclectic, lots, of, peculiar, art, books, games, knickknacks, and, an, ...]                                 0.000525\n",
       "[10252016, tried, this, new, cafe, spot, on, burnet, with, a, friend, unassuming, storefront, the, decor, is, quaint, af, and, you, have, to, order, from, ipads, at, the, counter, and, then, choose, a, place, to, sit, not, a, brunch, spot, as, we, had, thought, just, a, cafe, with, a, couple, of, food, options, the, nutella, waffles, we, got, were, on, point, theres, also, a, chicken, option, the, cold, brew, coffee, was, fantastic, and, my, friends, milk, tea, turned, out, great, too, good, spot, for, conversations, only, knocking, down, a, star, for, the, limited, options, i, hope, they, add, more, items, to, ...]                                       0.000525\n",
       "[10102016, this, place, is, so, cute, new, favorite, coffee, spot, on, burnetin, northcross, almost, wish, i, was, still, in, grad, school, so, i, would, have, an, excuse, to, be, there, everyday, amazing, coffee, and, best, chicken, waffles, ever, the, chicken, was, seasoned, perfectly, and, made, for, a, delicious, savory, brunch, with, the, house, made, slaw, they, give, you, on, the, side, the, olive, oil, cake, was, also, awesome, light, and, sweet, perfect, coffee, companion, my, husband, and, i, will, definitely, be, back, as, we, loved, everything, and, felt, it, was, all, very, reasonable, priced, olive, oil, cake, chicken, waffle, and, ...]    0.000525\n",
       "[11252016, 1, checkin, love, love, loved, the, atmosphere, every, corner, of, the, coffee, shop, had, its, own, style, and, there, were, swings, i, ordered, the, matcha, latte, and, it, was, muy, fantastico, ordering, and, getting, my, drink, were, pretty, streamlined, i, ordered, on, an, ipad, which, included, all, beverage, selections, that, ranged, from, coffee, to, wine, desired, level, of, sweetness, and, a, checkout, system, i, got, my, latte, within, minutes, i, was, hoping, for, a, typical, heart, or, feather, on, my, latte, but, found, myself, listing, out, all, the, possibilities, of, what, the, art, may, be, any, ideas]                        0.000525\n",
       "[10122016, 1, checkin, checked, out, the, factory, this, past, sunday, with, my, husband, we, wanted, to, try, their, delicious, looking, waffles, and, were, definitely, not, disappointed, husband, ordered, an, iced, coffee, drink, that, was, delicious, but, it, wasnt, as, good, as, my, golden, age, of, milk, tea, well, worth, the, 10, minute, wait, for, the, tea, to, steep, we, both, ordered, the, nutella, waffle, and, it, was, perfect, from, the, wood, plate, with, the, amazing, paper, liner, printed, with, a, famous, person, and, an, inspirational, quote, from, them, i, wanted, just, the, paper, because, it, was, so, cute, and, well, ...]             0.000525\n",
       "                                                                                                                                                                                                                                                                                                                                                                                                                                                                                                                                                                                                                                                                                        ...   \n",
       "[11152014, was, here, for, an, event, and, besides, the, very, flappy, rugs, in, the, back, room, that, can, trip, you, this, place, is, awesome, staff, and, their, service, were, a, ok]                                                                                                                                                                                                                                                                                                                                                                                                                                                                                            0.000131\n",
       "[7142015, 2, checkins, everything, on, the, menu, is, amazing, the, gelato, frapps, are, so, delicious, and, my, breakfast, sandwich, smell, phenomenal, and, the, gelato, pops, are, so, refreshing]                                                                                                                                                                                                                                                                                                                                                                                                                                                                                 0.000131\n",
       "[9242016, 1, checkin, this, place, can, be, a, bit, difficult, to, find, if, youre, an, outoftowner, like, myself, i, was, using, google, maps, on, my, phone, and, passed, up, saten, a, couple, times, mainly, because, the, front, of, the, building, looks, like, a, warehouse, saten, is, nested, behind, the, back, along, with, a, few, other, establishments, that, appears, to, be, galleries, i, drove, to, atx, from, houston, that, day, for, some, franklins, bbq, as, stuffed, as, i, was, i, wanted, to, stop, by, saten, to, try, their, salmon, toast, my, order, came, out, a, tad, burnt, on, the, edges, but, ...]                                                0.000131\n",
       "[1082016, beware, of, their, breakfast, tacos, they, are, filled, with, egg, shells, disgusting, the, coffee, is, fine, but, i, would, steer, way, clear, of, some, of, the, lowest, quality, breakfast, tacos, in, austin]                                                                                                                                                                                                                                                                                                                                                                                                                                                           0.000131\n",
       "[292016, their, coffee, is, awesome, their, service, is, great, and, the, atmosphere, is, very, unique, and, comfortable, no, chain, store, feel, here]                                                                                                                                                                                                                                                                                                                                                                                                                                                                                                                               0.000131\n",
       "Name: tokens, Length: 6915, dtype: float64"
      ]
     },
     "execution_count": 13,
     "metadata": {},
     "output_type": "execute_result"
    }
   ],
   "source": [
    "shops['tokens'].value_counts(normalize=True)"
   ]
  },
  {
   "cell_type": "code",
   "execution_count": 14,
   "metadata": {},
   "outputs": [
    {
     "data": {
      "text/html": [
       "<div>\n",
       "<style scoped>\n",
       "    .dataframe tbody tr th:only-of-type {\n",
       "        vertical-align: middle;\n",
       "    }\n",
       "\n",
       "    .dataframe tbody tr th {\n",
       "        vertical-align: top;\n",
       "    }\n",
       "\n",
       "    .dataframe thead th {\n",
       "        text-align: right;\n",
       "    }\n",
       "</style>\n",
       "<table border=\"1\" class=\"dataframe\">\n",
       "  <thead>\n",
       "    <tr style=\"text-align: right;\">\n",
       "      <th></th>\n",
       "      <th>full_review_text</th>\n",
       "      <th>tokens</th>\n",
       "    </tr>\n",
       "  </thead>\n",
       "  <tbody>\n",
       "    <tr>\n",
       "      <th>0</th>\n",
       "      <td>11/25/2016 1 check-in Love love loved the atm...</td>\n",
       "      <td>[11252016, 1, checkin, love, love, loved, the,...</td>\n",
       "    </tr>\n",
       "    <tr>\n",
       "      <th>1</th>\n",
       "      <td>12/2/2016 Listed in Date Night: Austin, Ambia...</td>\n",
       "      <td>[1222016, listed, in, date, night, austin, amb...</td>\n",
       "    </tr>\n",
       "    <tr>\n",
       "      <th>2</th>\n",
       "      <td>11/30/2016 1 check-in Listed in Brunch Spots ...</td>\n",
       "      <td>[11302016, 1, checkin, listed, in, brunch, spo...</td>\n",
       "    </tr>\n",
       "    <tr>\n",
       "      <th>3</th>\n",
       "      <td>11/25/2016 Very cool decor! Good drinks Nice ...</td>\n",
       "      <td>[11252016, very, cool, decor, good, drinks, ni...</td>\n",
       "    </tr>\n",
       "    <tr>\n",
       "      <th>4</th>\n",
       "      <td>12/3/2016 1 check-in They are located within ...</td>\n",
       "      <td>[1232016, 1, checkin, they, are, located, with...</td>\n",
       "    </tr>\n",
       "    <tr>\n",
       "      <th>5</th>\n",
       "      <td>11/20/2016 1 check-in Very cute cafe! I think...</td>\n",
       "      <td>[11202016, 1, checkin, very, cute, cafe, i, th...</td>\n",
       "    </tr>\n",
       "    <tr>\n",
       "      <th>6</th>\n",
       "      <td>10/27/2016 2 check-ins Listed in \"Nuptial Cof...</td>\n",
       "      <td>[10272016, 2, checkins, listed, in, nuptial, c...</td>\n",
       "    </tr>\n",
       "    <tr>\n",
       "      <th>7</th>\n",
       "      <td>11/2/2016 2 check-ins Love this place!  5 sta...</td>\n",
       "      <td>[1122016, 2, checkins, love, this, place, 5, s...</td>\n",
       "    </tr>\n",
       "    <tr>\n",
       "      <th>8</th>\n",
       "      <td>10/25/2016 1 check-in Ok, let's try this appr...</td>\n",
       "      <td>[10252016, 1, checkin, ok, lets, try, this, ap...</td>\n",
       "    </tr>\n",
       "    <tr>\n",
       "      <th>9</th>\n",
       "      <td>11/10/2016 3 check-ins This place has been sh...</td>\n",
       "      <td>[11102016, 3, checkins, this, place, has, been...</td>\n",
       "    </tr>\n",
       "  </tbody>\n",
       "</table>\n",
       "</div>"
      ],
      "text/plain": [
       "                                    full_review_text  \\\n",
       "0   11/25/2016 1 check-in Love love loved the atm...   \n",
       "1   12/2/2016 Listed in Date Night: Austin, Ambia...   \n",
       "2   11/30/2016 1 check-in Listed in Brunch Spots ...   \n",
       "3   11/25/2016 Very cool decor! Good drinks Nice ...   \n",
       "4   12/3/2016 1 check-in They are located within ...   \n",
       "5   11/20/2016 1 check-in Very cute cafe! I think...   \n",
       "6   10/27/2016 2 check-ins Listed in \"Nuptial Cof...   \n",
       "7   11/2/2016 2 check-ins Love this place!  5 sta...   \n",
       "8   10/25/2016 1 check-in Ok, let's try this appr...   \n",
       "9   11/10/2016 3 check-ins This place has been sh...   \n",
       "\n",
       "                                              tokens  \n",
       "0  [11252016, 1, checkin, love, love, loved, the,...  \n",
       "1  [1222016, listed, in, date, night, austin, amb...  \n",
       "2  [11302016, 1, checkin, listed, in, brunch, spo...  \n",
       "3  [11252016, very, cool, decor, good, drinks, ni...  \n",
       "4  [1232016, 1, checkin, they, are, located, with...  \n",
       "5  [11202016, 1, checkin, very, cute, cafe, i, th...  \n",
       "6  [10272016, 2, checkins, listed, in, nuptial, c...  \n",
       "7  [1122016, 2, checkins, love, this, place, 5, s...  \n",
       "8  [10252016, 1, checkin, ok, lets, try, this, ap...  \n",
       "9  [11102016, 3, checkins, this, place, has, been...  "
      ]
     },
     "execution_count": 14,
     "metadata": {},
     "output_type": "execute_result"
    }
   ],
   "source": [
    "shops[['full_review_text', 'tokens']][:10]"
   ]
  },
  {
   "cell_type": "code",
   "execution_count": 15,
   "metadata": {},
   "outputs": [
    {
     "data": {
      "text/plain": [
       "[('the', 34809),\n",
       " ('and', 26650),\n",
       " ('a', 22755),\n",
       " ('i', 20237),\n",
       " ('to', 17164),\n",
       " ('of', 12600),\n",
       " ('is', 11999),\n",
       " ('coffee', 10353),\n",
       " ('was', 9707),\n",
       " ('in', 9546)]"
      ]
     },
     "execution_count": 15,
     "metadata": {},
     "output_type": "execute_result"
    }
   ],
   "source": [
    "'''Word/Token count'''\n",
    "#import counter\n",
    "from collections import Counter\n",
    "\n",
    "word_counts = Counter()\n",
    "shops['tokens'].apply(lambda x: word_counts.update(x))\n",
    "#10 most common words\n",
    "word_counts.most_common(10)"
   ]
  },
  {
   "cell_type": "code",
   "execution_count": 18,
   "metadata": {},
   "outputs": [
    {
     "data": {
      "text/plain": [
       "0       [11252016, 1, checkin, love, love, loved, the,...\n",
       "1       [1222016, listed, in, date, night, austin, amb...\n",
       "2       [11302016, 1, checkin, listed, in, brunch, spo...\n",
       "3       [11252016, very, cool, decor, good, drinks, ni...\n",
       "4       [1232016, 1, checkin, they, are, located, with...\n",
       "                              ...                        \n",
       "7611    [2192015, i, actually, step, into, this, resta...\n",
       "7612    [1212016, ok, the, steeping, room, is, awesome...\n",
       "7613    [4302015, loved, coming, here, for, tea, and, ...\n",
       "7614    [822015, the, food, is, just, average, the, bo...\n",
       "7615    [5232015, i, finally, stopped, in, for, lunch,...\n",
       "Name: tokens, Length: 7616, dtype: object"
      ]
     },
     "execution_count": 18,
     "metadata": {},
     "output_type": "execute_result"
    }
   ],
   "source": [
    "shops['tokens']"
   ]
  },
  {
   "cell_type": "code",
   "execution_count": 20,
   "metadata": {},
   "outputs": [],
   "source": [
    "# Function that returns df of word counts\n",
    "def count(docs):\n",
    "\n",
    "        word_counts = Counter()\n",
    "        appears_in = Counter()\n",
    "        \n",
    "        total_docs = len(docs)\n",
    "\n",
    "        for doc in docs:\n",
    "            word_counts.update(doc)\n",
    "            appears_in.update(set(doc))\n",
    "\n",
    "        temp = zip(word_counts.keys(), word_counts.values())\n",
    "        \n",
    "        wc = pd.DataFrame(temp, columns = ['word', 'count'])\n",
    "\n",
    "        wc['rank'] = wc['count'].rank(method='first', ascending=False)\n",
    "        total = wc['count'].sum()\n",
    "\n",
    "        wc['pct_total'] = wc['count'].apply(lambda x: x / total)\n",
    "        \n",
    "        wc = wc.sort_values(by='rank')\n",
    "        wc['cul_pct_total'] = wc['pct_total'].cumsum()\n",
    "\n",
    "        t2 = zip(appears_in.keys(), appears_in.values())\n",
    "        ac = pd.DataFrame(t2, columns=['word', 'appears_in'])\n",
    "        wc = ac.merge(wc, on='word')\n",
    "\n",
    "        wc['appears_in_pct'] = wc['appears_in'].apply(lambda x: x / total_docs)\n",
    "        \n",
    "        return wc.sort_values(by='rank')"
   ]
  },
  {
   "cell_type": "code",
   "execution_count": 21,
   "metadata": {},
   "outputs": [
    {
     "data": {
      "text/html": [
       "<div>\n",
       "<style scoped>\n",
       "    .dataframe tbody tr th:only-of-type {\n",
       "        vertical-align: middle;\n",
       "    }\n",
       "\n",
       "    .dataframe tbody tr th {\n",
       "        vertical-align: top;\n",
       "    }\n",
       "\n",
       "    .dataframe thead th {\n",
       "        text-align: right;\n",
       "    }\n",
       "</style>\n",
       "<table border=\"1\" class=\"dataframe\">\n",
       "  <thead>\n",
       "    <tr style=\"text-align: right;\">\n",
       "      <th></th>\n",
       "      <th>word</th>\n",
       "      <th>appears_in</th>\n",
       "      <th>count</th>\n",
       "      <th>rank</th>\n",
       "      <th>pct_total</th>\n",
       "      <th>cul_pct_total</th>\n",
       "      <th>appears_in_pct</th>\n",
       "    </tr>\n",
       "  </thead>\n",
       "  <tbody>\n",
       "    <tr>\n",
       "      <th>71</th>\n",
       "      <td>the</td>\n",
       "      <td>6847</td>\n",
       "      <td>34809</td>\n",
       "      <td>1.0</td>\n",
       "      <td>0.044537</td>\n",
       "      <td>0.044537</td>\n",
       "      <td>0.899028</td>\n",
       "    </tr>\n",
       "    <tr>\n",
       "      <th>56</th>\n",
       "      <td>and</td>\n",
       "      <td>6864</td>\n",
       "      <td>26650</td>\n",
       "      <td>2.0</td>\n",
       "      <td>0.034098</td>\n",
       "      <td>0.078635</td>\n",
       "      <td>0.901261</td>\n",
       "    </tr>\n",
       "    <tr>\n",
       "      <th>22</th>\n",
       "      <td>a</td>\n",
       "      <td>6246</td>\n",
       "      <td>22755</td>\n",
       "      <td>3.0</td>\n",
       "      <td>0.029114</td>\n",
       "      <td>0.107749</td>\n",
       "      <td>0.820116</td>\n",
       "    </tr>\n",
       "    <tr>\n",
       "      <th>6</th>\n",
       "      <td>i</td>\n",
       "      <td>5528</td>\n",
       "      <td>20237</td>\n",
       "      <td>4.0</td>\n",
       "      <td>0.025893</td>\n",
       "      <td>0.133642</td>\n",
       "      <td>0.725840</td>\n",
       "    </tr>\n",
       "    <tr>\n",
       "      <th>36</th>\n",
       "      <td>to</td>\n",
       "      <td>5653</td>\n",
       "      <td>17164</td>\n",
       "      <td>5.0</td>\n",
       "      <td>0.021961</td>\n",
       "      <td>0.155602</td>\n",
       "      <td>0.742253</td>\n",
       "    </tr>\n",
       "  </tbody>\n",
       "</table>\n",
       "</div>"
      ],
      "text/plain": [
       "   word  appears_in  count  rank  pct_total  cul_pct_total  appears_in_pct\n",
       "71  the        6847  34809   1.0   0.044537       0.044537        0.899028\n",
       "56  and        6864  26650   2.0   0.034098       0.078635        0.901261\n",
       "22    a        6246  22755   3.0   0.029114       0.107749        0.820116\n",
       "6     i        5528  20237   4.0   0.025893       0.133642        0.725840\n",
       "36   to        5653  17164   5.0   0.021961       0.155602        0.742253"
      ]
     },
     "execution_count": 21,
     "metadata": {},
     "output_type": "execute_result"
    }
   ],
   "source": [
    "\n",
    "wc = count(shops['tokens'])\n",
    "wc.head()"
   ]
  },
  {
   "cell_type": "code",
   "execution_count": 22,
   "metadata": {},
   "outputs": [],
   "source": [
    "#Filtering the dataframe to the good and bad coffee shops\n",
    "\n",
    "good_shop = shops[(shops['star_rating'] == ' 5.0 star rating ') | (shops['star_rating'] == ' 4.0 star rating ')]\n",
    "bad_shop = shops[(shops['star_rating'] == ' 1.0 star rating ') | (shops['star_rating'] == ' 2.0 star rating ') | (shops['star_rating'] == ' 3.0 star rating ')]"
   ]
  },
  {
   "cell_type": "code",
   "execution_count": 23,
   "metadata": {},
   "outputs": [
    {
     "data": {
      "text/plain": [
       " 5.0 star rating     3780\n",
       " 4.0 star rating     2360\n",
       "Name: star_rating, dtype: int64"
      ]
     },
     "execution_count": 23,
     "metadata": {},
     "output_type": "execute_result"
    }
   ],
   "source": [
    "good_shop['star_rating'].value_counts()"
   ]
  },
  {
   "cell_type": "code",
   "execution_count": 24,
   "metadata": {},
   "outputs": [
    {
     "data": {
      "text/plain": [
       " 3.0 star rating     738\n",
       " 2.0 star rating     460\n",
       " 1.0 star rating     278\n",
       "Name: star_rating, dtype: int64"
      ]
     },
     "execution_count": 24,
     "metadata": {},
     "output_type": "execute_result"
    }
   ],
   "source": [
    "bad_shop['star_rating'].value_counts()"
   ]
  },
  {
   "cell_type": "code",
   "execution_count": 25,
   "metadata": {},
   "outputs": [],
   "source": [
    "\n",
    "nlp = spacy.load(\"en_core_web_lg\")\n",
    "\n",
    "# Instantiate tokenizer\n",
    "tokenizer = Tokenizer(nlp.vocab)"
   ]
  },
  {
   "cell_type": "code",
   "execution_count": 26,
   "metadata": {},
   "outputs": [],
   "source": [
    "\n",
    "# Additional stop words\n",
    "STOP_WORDS = nlp.Defaults.stop_words.union(['like','good','pretty','great','coffee','place','definitely','austin',' ', \"don't\", '1',\"little\",'-','I','check-in', 'i', \"I'm\",\"i'm\",\"i've\", \"it\", \"it's\", 'it.', 'the', 'this',])"
   ]
  },
  {
   "cell_type": "code",
   "execution_count": 27,
   "metadata": {},
   "outputs": [
    {
     "name": "stderr",
     "output_type": "stream",
     "text": [
      "/opt/anaconda3/envs/U4-S1-NLP/lib/python3.7/site-packages/ipykernel_launcher.py:14: SettingWithCopyWarning: \n",
      "A value is trying to be set on a copy of a slice from a DataFrame.\n",
      "Try using .loc[row_indexer,col_indexer] = value instead\n",
      "\n",
      "See the caveats in the documentation: https://pandas.pydata.org/pandas-docs/stable/user_guide/indexing.html#returning-a-view-versus-a-copy\n",
      "  \n"
     ]
    }
   ],
   "source": [
    "# taking out stop words\n",
    "tokens = []\n",
    "\n",
    "for doc in tokenizer.pipe(good_shop['full_review_text'], batch_size=500):\n",
    "    \n",
    "    doc_tokens = []\n",
    "    \n",
    "    for token in doc: \n",
    "        if token.text.lower() not in STOP_WORDS:\n",
    "            doc_tokens.append(token.text.lower())\n",
    "   \n",
    "    tokens.append(doc_tokens)\n",
    "    \n",
    "good_shop['tokens'] = tokens"
   ]
  },
  {
   "cell_type": "code",
   "execution_count": 28,
   "metadata": {},
   "outputs": [
    {
     "data": {
      "text/html": [
       "<div>\n",
       "<style scoped>\n",
       "    .dataframe tbody tr th:only-of-type {\n",
       "        vertical-align: middle;\n",
       "    }\n",
       "\n",
       "    .dataframe tbody tr th {\n",
       "        vertical-align: top;\n",
       "    }\n",
       "\n",
       "    .dataframe thead th {\n",
       "        text-align: right;\n",
       "    }\n",
       "</style>\n",
       "<table border=\"1\" class=\"dataframe\">\n",
       "  <thead>\n",
       "    <tr style=\"text-align: right;\">\n",
       "      <th></th>\n",
       "      <th>word</th>\n",
       "      <th>appears_in</th>\n",
       "      <th>count</th>\n",
       "      <th>rank</th>\n",
       "      <th>pct_total</th>\n",
       "      <th>cul_pct_total</th>\n",
       "      <th>appears_in_pct</th>\n",
       "    </tr>\n",
       "  </thead>\n",
       "  <tbody>\n",
       "    <tr>\n",
       "      <th>20</th>\n",
       "      <td>love</td>\n",
       "      <td>1263</td>\n",
       "      <td>1604</td>\n",
       "      <td>1.0</td>\n",
       "      <td>0.005698</td>\n",
       "      <td>0.005698</td>\n",
       "      <td>0.205700</td>\n",
       "    </tr>\n",
       "    <tr>\n",
       "      <th>245</th>\n",
       "      <td>nice</td>\n",
       "      <td>962</td>\n",
       "      <td>1101</td>\n",
       "      <td>2.0</td>\n",
       "      <td>0.003911</td>\n",
       "      <td>0.009610</td>\n",
       "      <td>0.156678</td>\n",
       "    </tr>\n",
       "    <tr>\n",
       "      <th>439</th>\n",
       "      <td>best</td>\n",
       "      <td>951</td>\n",
       "      <td>1093</td>\n",
       "      <td>3.0</td>\n",
       "      <td>0.003883</td>\n",
       "      <td>0.013493</td>\n",
       "      <td>0.154886</td>\n",
       "    </tr>\n",
       "    <tr>\n",
       "      <th>163</th>\n",
       "      <td>friendly</td>\n",
       "      <td>986</td>\n",
       "      <td>1014</td>\n",
       "      <td>4.0</td>\n",
       "      <td>0.003602</td>\n",
       "      <td>0.017095</td>\n",
       "      <td>0.160586</td>\n",
       "    </tr>\n",
       "    <tr>\n",
       "      <th>380</th>\n",
       "      <td>food</td>\n",
       "      <td>826</td>\n",
       "      <td>994</td>\n",
       "      <td>5.0</td>\n",
       "      <td>0.003531</td>\n",
       "      <td>0.020627</td>\n",
       "      <td>0.134528</td>\n",
       "    </tr>\n",
       "    <tr>\n",
       "      <th>470</th>\n",
       "      <td>time</td>\n",
       "      <td>835</td>\n",
       "      <td>994</td>\n",
       "      <td>6.0</td>\n",
       "      <td>0.003531</td>\n",
       "      <td>0.024158</td>\n",
       "      <td>0.135993</td>\n",
       "    </tr>\n",
       "    <tr>\n",
       "      <th>38</th>\n",
       "      <td>latte</td>\n",
       "      <td>713</td>\n",
       "      <td>949</td>\n",
       "      <td>7.0</td>\n",
       "      <td>0.003371</td>\n",
       "      <td>0.027529</td>\n",
       "      <td>0.116124</td>\n",
       "    </tr>\n",
       "    <tr>\n",
       "      <th>23</th>\n",
       "      <td>got</td>\n",
       "      <td>743</td>\n",
       "      <td>947</td>\n",
       "      <td>8.0</td>\n",
       "      <td>0.003364</td>\n",
       "      <td>0.030894</td>\n",
       "      <td>0.121010</td>\n",
       "    </tr>\n",
       "    <tr>\n",
       "      <th>303</th>\n",
       "      <td>check-ins</td>\n",
       "      <td>929</td>\n",
       "      <td>930</td>\n",
       "      <td>9.0</td>\n",
       "      <td>0.003304</td>\n",
       "      <td>0.034198</td>\n",
       "      <td>0.151303</td>\n",
       "    </tr>\n",
       "    <tr>\n",
       "      <th>37</th>\n",
       "      <td>shop</td>\n",
       "      <td>775</td>\n",
       "      <td>910</td>\n",
       "      <td>10.0</td>\n",
       "      <td>0.003233</td>\n",
       "      <td>0.037431</td>\n",
       "      <td>0.126221</td>\n",
       "    </tr>\n",
       "  </tbody>\n",
       "</table>\n",
       "</div>"
      ],
      "text/plain": [
       "          word  appears_in  count  rank  pct_total  cul_pct_total  \\\n",
       "20        love        1263   1604   1.0   0.005698       0.005698   \n",
       "245       nice         962   1101   2.0   0.003911       0.009610   \n",
       "439       best         951   1093   3.0   0.003883       0.013493   \n",
       "163   friendly         986   1014   4.0   0.003602       0.017095   \n",
       "380       food         826    994   5.0   0.003531       0.020627   \n",
       "470       time         835    994   6.0   0.003531       0.024158   \n",
       "38       latte         713    949   7.0   0.003371       0.027529   \n",
       "23         got         743    947   8.0   0.003364       0.030894   \n",
       "303  check-ins         929    930   9.0   0.003304       0.034198   \n",
       "37        shop         775    910  10.0   0.003233       0.037431   \n",
       "\n",
       "     appears_in_pct  \n",
       "20         0.205700  \n",
       "245        0.156678  \n",
       "439        0.154886  \n",
       "163        0.160586  \n",
       "380        0.134528  \n",
       "470        0.135993  \n",
       "38         0.116124  \n",
       "23         0.121010  \n",
       "303        0.151303  \n",
       "37         0.126221  "
      ]
     },
     "execution_count": 28,
     "metadata": {},
     "output_type": "execute_result"
    }
   ],
   "source": [
    "\n",
    "wc_good = count(good_shop['tokens'])\n",
    "wc_good.head(10)"
   ]
  },
  {
   "cell_type": "code",
   "execution_count": 29,
   "metadata": {},
   "outputs": [],
   "source": [
    "\n",
    "# Additional stop words\n",
    "STOP_WORDS = nlp.Defaults.stop_words.union(['like','good','pretty','great','coffee','place','definitely','austin',' ', \"don't\", '1',\"little\",'-','I','check-in', 'i', \"I'm\",\"i'm\",\"i've\", \"it\", \"it's\", 'it.', 'the', 'this',])"
   ]
  },
  {
   "cell_type": "code",
   "execution_count": 30,
   "metadata": {},
   "outputs": [
    {
     "name": "stderr",
     "output_type": "stream",
     "text": [
      "/opt/anaconda3/envs/U4-S1-NLP/lib/python3.7/site-packages/ipykernel_launcher.py:14: SettingWithCopyWarning: \n",
      "A value is trying to be set on a copy of a slice from a DataFrame.\n",
      "Try using .loc[row_indexer,col_indexer] = value instead\n",
      "\n",
      "See the caveats in the documentation: https://pandas.pydata.org/pandas-docs/stable/user_guide/indexing.html#returning-a-view-versus-a-copy\n",
      "  \n"
     ]
    }
   ],
   "source": [
    "# taking out stop words\n",
    "tokens = []\n",
    "\n",
    "for doc in tokenizer.pipe(bad_shop['full_review_text'], batch_size=500):\n",
    "    \n",
    "    doc_tokens = []\n",
    "    \n",
    "    for token in doc: \n",
    "        if token.text.lower() not in STOP_WORDS:\n",
    "            doc_tokens.append(token.text.lower())\n",
    "   \n",
    "    tokens.append(doc_tokens)\n",
    "    \n",
    "bad_shop['tokens'] = tokens"
   ]
  },
  {
   "cell_type": "code",
   "execution_count": 31,
   "metadata": {},
   "outputs": [
    {
     "data": {
      "text/html": [
       "<div>\n",
       "<style scoped>\n",
       "    .dataframe tbody tr th:only-of-type {\n",
       "        vertical-align: middle;\n",
       "    }\n",
       "\n",
       "    .dataframe tbody tr th {\n",
       "        vertical-align: top;\n",
       "    }\n",
       "\n",
       "    .dataframe thead th {\n",
       "        text-align: right;\n",
       "    }\n",
       "</style>\n",
       "<table border=\"1\" class=\"dataframe\">\n",
       "  <thead>\n",
       "    <tr style=\"text-align: right;\">\n",
       "      <th></th>\n",
       "      <th>word</th>\n",
       "      <th>appears_in</th>\n",
       "      <th>count</th>\n",
       "      <th>rank</th>\n",
       "      <th>pct_total</th>\n",
       "      <th>cul_pct_total</th>\n",
       "      <th>appears_in_pct</th>\n",
       "    </tr>\n",
       "  </thead>\n",
       "  <tbody>\n",
       "    <tr>\n",
       "      <th>101</th>\n",
       "      <td>food</td>\n",
       "      <td>266</td>\n",
       "      <td>369</td>\n",
       "      <td>1.0</td>\n",
       "      <td>0.004578</td>\n",
       "      <td>0.004578</td>\n",
       "      <td>0.180217</td>\n",
       "    </tr>\n",
       "    <tr>\n",
       "      <th>245</th>\n",
       "      <td>time</td>\n",
       "      <td>264</td>\n",
       "      <td>351</td>\n",
       "      <td>2.0</td>\n",
       "      <td>0.004354</td>\n",
       "      <td>0.008932</td>\n",
       "      <td>0.178862</td>\n",
       "    </tr>\n",
       "    <tr>\n",
       "      <th>532</th>\n",
       "      <td>people</td>\n",
       "      <td>247</td>\n",
       "      <td>327</td>\n",
       "      <td>3.0</td>\n",
       "      <td>0.004057</td>\n",
       "      <td>0.012988</td>\n",
       "      <td>0.167344</td>\n",
       "    </tr>\n",
       "    <tr>\n",
       "      <th>4</th>\n",
       "      <td>service</td>\n",
       "      <td>261</td>\n",
       "      <td>314</td>\n",
       "      <td>4.0</td>\n",
       "      <td>0.003895</td>\n",
       "      <td>0.016884</td>\n",
       "      <td>0.176829</td>\n",
       "    </tr>\n",
       "    <tr>\n",
       "      <th>24</th>\n",
       "      <td>got</td>\n",
       "      <td>237</td>\n",
       "      <td>300</td>\n",
       "      <td>5.0</td>\n",
       "      <td>0.003722</td>\n",
       "      <td>0.020605</td>\n",
       "      <td>0.160569</td>\n",
       "    </tr>\n",
       "    <tr>\n",
       "      <th>353</th>\n",
       "      <td>ordered</td>\n",
       "      <td>240</td>\n",
       "      <td>296</td>\n",
       "      <td>6.0</td>\n",
       "      <td>0.003672</td>\n",
       "      <td>0.024277</td>\n",
       "      <td>0.162602</td>\n",
       "    </tr>\n",
       "    <tr>\n",
       "      <th>461</th>\n",
       "      <td>didn't</td>\n",
       "      <td>222</td>\n",
       "      <td>292</td>\n",
       "      <td>7.0</td>\n",
       "      <td>0.003622</td>\n",
       "      <td>0.027899</td>\n",
       "      <td>0.150407</td>\n",
       "    </tr>\n",
       "    <tr>\n",
       "      <th>114</th>\n",
       "      <td>come</td>\n",
       "      <td>234</td>\n",
       "      <td>285</td>\n",
       "      <td>8.0</td>\n",
       "      <td>0.003535</td>\n",
       "      <td>0.031435</td>\n",
       "      <td>0.158537</td>\n",
       "    </tr>\n",
       "    <tr>\n",
       "      <th>34</th>\n",
       "      <td>nice</td>\n",
       "      <td>226</td>\n",
       "      <td>267</td>\n",
       "      <td>9.0</td>\n",
       "      <td>0.003312</td>\n",
       "      <td>0.034747</td>\n",
       "      <td>0.153117</td>\n",
       "    </tr>\n",
       "    <tr>\n",
       "      <th>380</th>\n",
       "      <td>order</td>\n",
       "      <td>174</td>\n",
       "      <td>253</td>\n",
       "      <td>10.0</td>\n",
       "      <td>0.003139</td>\n",
       "      <td>0.037886</td>\n",
       "      <td>0.117886</td>\n",
       "    </tr>\n",
       "  </tbody>\n",
       "</table>\n",
       "</div>"
      ],
      "text/plain": [
       "        word  appears_in  count  rank  pct_total  cul_pct_total  \\\n",
       "101     food         266    369   1.0   0.004578       0.004578   \n",
       "245     time         264    351   2.0   0.004354       0.008932   \n",
       "532   people         247    327   3.0   0.004057       0.012988   \n",
       "4    service         261    314   4.0   0.003895       0.016884   \n",
       "24       got         237    300   5.0   0.003722       0.020605   \n",
       "353  ordered         240    296   6.0   0.003672       0.024277   \n",
       "461   didn't         222    292   7.0   0.003622       0.027899   \n",
       "114     come         234    285   8.0   0.003535       0.031435   \n",
       "34      nice         226    267   9.0   0.003312       0.034747   \n",
       "380    order         174    253  10.0   0.003139       0.037886   \n",
       "\n",
       "     appears_in_pct  \n",
       "101        0.180217  \n",
       "245        0.178862  \n",
       "532        0.167344  \n",
       "4          0.176829  \n",
       "24         0.160569  \n",
       "353        0.162602  \n",
       "461        0.150407  \n",
       "114        0.158537  \n",
       "34         0.153117  \n",
       "380        0.117886  "
      ]
     },
     "execution_count": 31,
     "metadata": {},
     "output_type": "execute_result"
    }
   ],
   "source": [
    "\n",
    "wc_bad = count(bad_shop['tokens'])\n",
    "wc_bad.head(10)"
   ]
  },
  {
   "cell_type": "markdown",
   "metadata": {},
   "source": [
    "## Can visualize the words with the greatest difference in counts between 'good' & 'bad'?\n",
    "\n",
    "Couple Notes: \n",
    "- Rel. freq. instead of absolute counts b/c of different numbers of reviews\n",
    "- Only look at the top 5-10 words with the greatest differences\n"
   ]
  },
  {
   "cell_type": "code",
   "execution_count": 32,
   "metadata": {},
   "outputs": [
    {
     "data": {
      "image/png": "[encoded data removed]",
      "text/plain": [
       "<Figure size 432x288 with 1 Axes>"
      ]
     },
     "metadata": {
      "needs_background": "light"
     },
     "output_type": "display_data"
    }
   ],
   "source": [
    "# Good words\n",
    "wc_top20_good = wc_good[wc_good['rank'] <= 20]\n",
    "\n",
    "squarify.plot(sizes=wc_top20_good['pct_total'], label=wc_top20_good['word'], alpha=.8 )\n",
    "plt.axis('off')\n",
    "plt.show()"
   ]
  },
  {
   "cell_type": "code",
   "execution_count": 33,
   "metadata": {},
   "outputs": [
    {
     "data": {
      "image/png": "[encoded data removed]",
      "text/plain": [
       "<Figure size 432x288 with 1 Axes>"
      ]
     },
     "metadata": {
      "needs_background": "light"
     },
     "output_type": "display_data"
    }
   ],
   "source": [
    "#Bad words\n",
    "wc_top20_bad = wc_bad[wc_bad['rank'] <= 20]\n",
    "\n",
    "squarify.plot(sizes=wc_top20_bad['pct_total'], label=wc_top20_bad['word'], alpha=.8 )\n",
    "plt.axis('off')\n",
    "plt.show()"
   ]
  },
  {
   "cell_type": "code",
   "execution_count": null,
   "metadata": {},
   "outputs": [],
   "source": []
  },
  {
   "cell_type": "code",
   "execution_count": null,
   "metadata": {},
   "outputs": [],
   "source": []
  },
  {
   "cell_type": "code",
   "execution_count": null,
   "metadata": {},
   "outputs": [],
   "source": []
  },
  {
   "cell_type": "markdown",
   "metadata": {
    "colab_type": "text",
    "id": "1dCb1q8XphcP",
    "toc-hr-collapsed": true
   },
   "source": [
    "## Stretch Goals\n",
    "\n",
    "* Analyze another corpus of documents - such as Indeed.com job listings ;).\n",
    "* Play with the Spacy API to\n",
    " - Extract Named Entities\n",
    " - Extracting 'noun chunks'\n",
    " - Attempt Document Classification with just Spacy\n",
    " - *Note:* This [course](https://course.spacy.io/) will be of interesting in helping you with these stretch goals. \n",
    "* Try to build a plotly dash app with your text data \n",
    "\n"
   ]
  },
  {
   "cell_type": "code",
   "execution_count": null,
   "metadata": {},
   "outputs": [],
   "source": []
  }
 ],
 "metadata": {
  "colab": {
   "collapsed_sections": [],
   "name": "LS_DS_421_Text_Data_Assignment.ipynb",
   "provenance": [],
   "version": "0.3.2"
  },
  "kernelspec": {
   "display_name": "U4-S1-NLP (Python3)",
   "language": "python",
   "name": "u4-s1-nlp"
  },
  "language_info": {
   "codemirror_mode": {
    "name": "ipython",
    "version": 3
   },
   "file_extension": ".py",
   "mimetype": "text/x-python",
   "name": "python",
   "nbconvert_exporter": "python",
   "pygments_lexer": "ipython3",
   "version": "3.7.0"
  },
  "toc-autonumbering": false
 },
 "nbformat": 4,
 "nbformat_minor": 4
}
