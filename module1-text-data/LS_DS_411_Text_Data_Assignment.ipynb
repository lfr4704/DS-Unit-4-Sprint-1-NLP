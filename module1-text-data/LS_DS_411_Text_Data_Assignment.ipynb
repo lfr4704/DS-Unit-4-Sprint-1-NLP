{
 "cells": [
  {
   "cell_type": "markdown",
   "metadata": {},
   "source": [
    "<img align=\"left\" src=\"https://lever-client-logos.s3.amazonaws.com/864372b1-534c-480e-acd5-9711f850815c-1524247202159.png\" width=200>\n",
    "<br></br>\n",
    "<br></br>\n",
    "\n",
    "# Natural Language Processing (NLP)\n",
    "## *Data Science Unit 4 Sprint 1 Assignment 1*\n",
    "\n",
    "Your goal in this assignment: find the attributes of the best & worst coffee shops in the dataset. The text is fairly raw: dates in the review, extra words in the `star_rating` column, etc. You'll probably want to clean that stuff up for a better analysis. \n",
    "\n",
    "Analyze the corpus of text using text visualizations of token frequency. Try cleaning the data as much as possible. Try the following techniques: \n",
    "- Lemmatization\n",
    "- Custom stopword removal\n",
    "\n",
    "Keep in mind the attributes of good tokens. Once you have a solid baseline, layer in the star rating in your visualization(s). Key part of this assignment - produce a write-up of the attributes of the best and worst coffee shops. Based on your analysis, what makes the best the best and the worst the worst. Use graphs and numbesr from your analysis to support your conclusions. There should be plenty of markdown cells! :coffee:"
   ]
  },
  {
   "cell_type": "code",
   "execution_count": 5,
   "metadata": {},
   "outputs": [
    {
     "data": {
      "image/jpeg": "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\n",
      "text/html": [
       "\n",
       "        <iframe\n",
       "            width=\"400\"\n",
       "            height=\"300\"\n",
       "            src=\"https://www.youtube.com/embed/Jml7NVYm8cs\"\n",
       "            frameborder=\"0\"\n",
       "            allowfullscreen\n",
       "        ></iframe>\n",
       "        "
      ],
      "text/plain": [
       "<IPython.lib.display.YouTubeVideo at 0x1243479e8>"
      ]
     },
     "execution_count": 5,
     "metadata": {},
     "output_type": "execute_result"
    }
   ],
   "source": [
    "from IPython.display import YouTubeVideo\n",
    "\n",
    "YouTubeVideo('Jml7NVYm8cs')"
   ]
  },
  {
   "cell_type": "code",
   "execution_count": 2,
   "metadata": {},
   "outputs": [
    {
     "data": {
      "text/plain": [
       "'/Users/jonathansokoll/Documents/lambda/DS-Unit-4-Sprint-1-NLP/module1-text-data'"
      ]
     },
     "execution_count": 2,
     "metadata": {},
     "output_type": "execute_result"
    }
   ],
   "source": [
    "%pwd"
   ]
  },
  {
   "cell_type": "code",
   "execution_count": 1,
   "metadata": {},
   "outputs": [
    {
     "data": {
      "text/html": [
       "<div>\n",
       "<style scoped>\n",
       "    .dataframe tbody tr th:only-of-type {\n",
       "        vertical-align: middle;\n",
       "    }\n",
       "\n",
       "    .dataframe tbody tr th {\n",
       "        vertical-align: top;\n",
       "    }\n",
       "\n",
       "    .dataframe thead th {\n",
       "        text-align: right;\n",
       "    }\n",
       "</style>\n",
       "<table border=\"1\" class=\"dataframe\">\n",
       "  <thead>\n",
       "    <tr style=\"text-align: right;\">\n",
       "      <th></th>\n",
       "      <th>coffee_shop_name</th>\n",
       "      <th>full_review_text</th>\n",
       "      <th>star_rating</th>\n",
       "    </tr>\n",
       "  </thead>\n",
       "  <tbody>\n",
       "    <tr>\n",
       "      <th>0</th>\n",
       "      <td>The Factory - Cafe With a Soul</td>\n",
       "      <td>11/25/2016 1 check-in Love love loved the atm...</td>\n",
       "      <td>5.0 star rating</td>\n",
       "    </tr>\n",
       "    <tr>\n",
       "      <th>1</th>\n",
       "      <td>The Factory - Cafe With a Soul</td>\n",
       "      <td>12/2/2016 Listed in Date Night: Austin, Ambia...</td>\n",
       "      <td>4.0 star rating</td>\n",
       "    </tr>\n",
       "    <tr>\n",
       "      <th>2</th>\n",
       "      <td>The Factory - Cafe With a Soul</td>\n",
       "      <td>11/30/2016 1 check-in Listed in Brunch Spots ...</td>\n",
       "      <td>4.0 star rating</td>\n",
       "    </tr>\n",
       "    <tr>\n",
       "      <th>3</th>\n",
       "      <td>The Factory - Cafe With a Soul</td>\n",
       "      <td>11/25/2016 Very cool decor! Good drinks Nice ...</td>\n",
       "      <td>2.0 star rating</td>\n",
       "    </tr>\n",
       "    <tr>\n",
       "      <th>4</th>\n",
       "      <td>The Factory - Cafe With a Soul</td>\n",
       "      <td>12/3/2016 1 check-in They are located within ...</td>\n",
       "      <td>4.0 star rating</td>\n",
       "    </tr>\n",
       "  </tbody>\n",
       "</table>\n",
       "</div>"
      ],
      "text/plain": [
       "                  coffee_shop_name  \\\n",
       "0  The Factory - Cafe With a Soul    \n",
       "1  The Factory - Cafe With a Soul    \n",
       "2  The Factory - Cafe With a Soul    \n",
       "3  The Factory - Cafe With a Soul    \n",
       "4  The Factory - Cafe With a Soul    \n",
       "\n",
       "                                    full_review_text        star_rating  \n",
       "0   11/25/2016 1 check-in Love love loved the atm...   5.0 star rating   \n",
       "1   12/2/2016 Listed in Date Night: Austin, Ambia...   4.0 star rating   \n",
       "2   11/30/2016 1 check-in Listed in Brunch Spots ...   4.0 star rating   \n",
       "3   11/25/2016 Very cool decor! Good drinks Nice ...   2.0 star rating   \n",
       "4   12/3/2016 1 check-in They are located within ...   4.0 star rating   "
      ]
     },
     "execution_count": 1,
     "metadata": {},
     "output_type": "execute_result"
    }
   ],
   "source": [
    "import pandas as pd\n",
    "\n",
    "url = \"https://raw.githubusercontent.com/LambdaSchool/DS-Unit-4-Sprint-1-NLP/master/module1-text-data/data/yelp_coffeeshop_review_data.csv\"\n",
    "\n",
    "shops = pd.read_csv(url)\n",
    "shops.head()"
   ]
  },
  {
   "cell_type": "code",
   "execution_count": 2,
   "metadata": {},
   "outputs": [],
   "source": [
    "# Start here "
   ]
  },
  {
   "cell_type": "markdown",
   "metadata": {},
   "source": [
    "## How do we want to analyze these coffee shop tokens? \n",
    "\n",
    "- Overall Word / Token Count\n",
    "- View Counts by Rating \n",
    "- *Hint:* a 'bad' coffee shops has a rating betweeen 1 & 3 based on the distribution of ratings. A 'good' coffee shop is a 4 or 5. "
   ]
  },
  {
   "cell_type": "code",
   "execution_count": null,
   "metadata": {},
   "outputs": [],
   "source": []
  },
  {
   "cell_type": "markdown",
   "metadata": {},
   "source": [
    "## Can visualize the words with the greatest difference in counts between 'good' & 'bad'?\n",
    "\n",
    "Couple Notes: \n",
    "- Rel. freq. instead of absolute counts b/c of different numbers of reviews\n",
    "- Only look at the top 5-10 words with the greatest differences\n"
   ]
  },
  {
   "cell_type": "code",
   "execution_count": 46,
   "metadata": {},
   "outputs": [],
   "source": []
  },
  {
   "cell_type": "markdown",
   "metadata": {
    "colab_type": "text",
    "id": "1dCb1q8XphcP",
    "toc-hr-collapsed": true
   },
   "source": [
    "## Stretch Goals\n",
    "\n",
    "* Analyze another corpus of documents - such as Indeed.com job listings ;).\n",
    "* Play with the Spacy API to\n",
    " - Extract Named Entities\n",
    " - Extracting 'noun chunks'\n",
    " - Attempt Document Classification with just Spacy\n",
    " - *Note:* This [course](https://course.spacy.io/) will be of interesting in helping you with these stretch goals. \n",
    "* Try to build a plotly dash app with your text data \n",
    "\n"
   ]
  }
 ],
 "metadata": {
  "colab": {
   "collapsed_sections": [],
   "name": "LS_DS_421_Text_Data_Assignment.ipynb",
   "provenance": [],
   "version": "0.3.2"
  },
  "kernelspec": {
   "display_name": "U4-S1-NLP (Python 3)",
   "language": "python",
   "name": "u4-s1-nlp"
  },
  "language_info": {
   "codemirror_mode": {
    "name": "ipython",
    "version": 3
   },
   "file_extension": ".py",
   "mimetype": "text/x-python",
   "name": "python",
   "nbconvert_exporter": "python",
   "pygments_lexer": "ipython3",
   "version": "3.7.3"
  },
  "toc-autonumbering": false
 },{
 "cells": [
  {
   "cell_type": "markdown",
   "metadata": {},
   "source": [
    "Lambda School Data Science\n",
    "\n",
    "*Unit 4, Sprint 1, Module 2*\n",
    "\n",
    "---\n",
    "\n",
    "# Vector Representations (Prepare)\n",
    "\n",
    "\n",
    "As we learned yesterday, machines cannot interpret raw text. We need to transform that text into something we/machines can more readily analyze. Yesterday, we did simple counts of counts to summarize the content of Amazon reviews. Today, we'll extend those concepts to talk about vector representations such as Bag of Words (BoW) and word embedding models. We'll use those representations for search, visualization, and prepare for our classification day tomorrow. \n",
    "\n",
    "Processing text data to prepare it for machine learning models often means translating the information from documents into a numerical format. Bag-of-Words approaches (sometimes referred to as Frequency-Based word embeddings) accomplish this by \"vectorizing\" tokenized documents. This is done by representing each document as a row in a DataFrame and creating a column for each unique word in the corpora (group of documents). The presence or lack of a given word in a document is then represented either as a raw count of how many times a given word appears in a document (CountVectorizer) or as that word's TF-IDF score (TfidfVectorizer).\n",
    "\n",
    "On the python side, we will be focusing on `sklearn` and `spacy` today.  \n",
    "\n",
    "## Case Study\n",
    "\n",
    "We're going to pretend we're on the datascience team at the BBC. We want to recommend articles to visitors to on the BBC website based on the article they just read. Our team wants \n",
    "\n",
    "**Dataset:**\n",
    "\n",
    "[D. Greene and P. Cunningham. \"Practical Solutions to the Problem of Diagonal Dominance in Kernel Document Clustering\", Proc. ICML 2006.](http://mlg.ucd.ie/datasets/bbc.html)\n",
    "*Please note that the dataset has been sampled down to tech articles only.* \n",
    "\n",
    "## Learning Objectives\n",
    "* <a href=\"#p1\">Part 1</a>: Represent a document as a vector\n",
    "* <a href=\"#p2\">Part 2</a>: Query Documents by Similarity\n",
    "* <a href=\"#p3\">Part 3</a>: Apply word embedding models to create document vectors"
   ]
  },
  {
   "cell_type": "markdown",
   "metadata": {},
   "source": [
    "# Represent a document as a vector (Learn)\n",
    "<a id=\"p1\"></a>"
   ]
  },
  {
   "cell_type": "markdown",
   "metadata": {},
   "source": [
    "## Overview\n",
    "\n",
    "In this section, we are going to create Document Term Matrices (DTM). Each column represents a word. Each row represents a document. The value in each cell can be range of different things. The most traditional: counts of appearances of words, does the word appear at all (binary), and term-frequency inverse-document frequency (TF-IDF). \n",
    "\n",
    "**Discussion:** Don't we loose all the context and grammar if we do this? So Why does it work?"
   ]
  },
  {
   "cell_type": "markdown",
   "metadata": {
    "toc-hr-collapsed": true
   },
   "source": [
    "## Follow Along"
   ]
  },
  {
   "cell_type": "code",
   "execution_count": 1,
   "metadata": {},
   "outputs": [],
   "source": [
    "\"\"\" Import Statements \"\"\"\n",
    "\n",
    "# Classics\n",
    "import pandas as pd\n",
    "import seaborn as sns\n",
    "import matplotlib.pyplot as plt\n",
    "\n",
    "from sklearn.feature_extraction.text import CountVectorizer, TfidfVectorizer\n",
    "from sklearn.metrics.pairwise import cosine_similarity\n",
    "from sklearn.neighbors import NearestNeighbors\n",
    "from sklearn.decomposition import PCA\n",
    "\n",
    "import spacy\n",
    "nlp = spacy.load(\"en_core_web_lg\")"
   ]
  },
  {
   "cell_type": "markdown",
   "metadata": {},
   "source": [
    "**Warm Up (_3 Minutes_)**\n",
    "\n",
    "Extract the tokens from this sentence using Spacy. Text is from [OpenAI](https://openai.com/blog/better-language-models/)"
   ]
  },
  {
   "cell_type": "code",
   "execution_count": 2,
   "metadata": {},
   "outputs": [],
   "source": [
    "text = \"We created a new dataset which emphasizes diversity of content, by scraping content from the Internet. In order to preserve document quality, we used only pages which have been curated/filtered by humans—specifically, we used outbound links from Reddit which received at least 3 karma. This can be thought of as a heuristic indicator for whether other users found the link interesting (whether educational or funny), leading to higher data quality than other similar datasets, such as CommonCrawl.\""
   ]
  },
  {
   "cell_type": "code",
   "execution_count": 3,
   "metadata": {},
   "outputs": [
    {
     "name": "stdout",
     "output_type": "stream",
     "text": [
      "['create', 'new', 'dataset', 'emphasize', 'diversity', 'content', 'scrape', 'content', 'internet', 'order', 'preserve', 'document', 'quality', 'page', 'curate', 'filter', 'human', 'specifically', 'outbound', 'link', 'Reddit', 'receive', '3', 'karma', 'think', 'heuristic', 'indicator', 'user', 'find', 'link', 'interesting', 'educational', 'funny', 'lead', 'high', 'data', 'quality', 'similar', 'dataset', 'CommonCrawl']\n"
     ]
    }
   ],
   "source": [
    "doc = nlp(text)\n",
    "\n",
    "print([token.lemma_ for token in doc if (token.is_stop != True) and (token.is_punct != True)])"
   ]
  },
  {
   "cell_type": "code",
   "execution_count": 52,
   "metadata": {},
   "outputs": [],
   "source": [
    "import os \n",
    "\n",
    "def gather_data(filefolder):\n",
    "    \"\"\" Produces List of Documents from a Directory\n",
    "    \n",
    "    filefolder (str): a path of .txt files\n",
    "    \n",
    "    returns list of strings \n",
    "    \"\"\"\n",
    "    \n",
    "    data = []\n",
    "    \n",
    "    files = os.listdir(filefolder) # Causes variation across machines\n",
    "    \n",
    "    for article in files: \n",
    "        \n",
    "        path = os.path.join(filefolder, article)\n",
    "                    \n",
    "        if  path[-3:] == 'txt': # os ~endswith('txt')\n",
    "            with open(path, 'rb') as f:\n",
    "                data.append(f.read())\n",
    "    \n",
    "    return data"
   ]
  },
  {
   "cell_type": "code",
   "execution_count": null,
   "metadata": {},
   "outputs": [],
   "source": [
    "# from glob import glob\n",
    "# def gather_data_v2(filefloder):\n",
    "#     data=[]\n",
    "    "
   ]
  },
  {
   "cell_type": "code",
   "execution_count": 5,
   "metadata": {},
   "outputs": [],
   "source": [
    "data = gather_data('./data')"
   ]
  },
  {
   "cell_type": "code",
   "execution_count": 6,
   "metadata": {},
   "outputs": [
    {
     "data": {
      "text/plain": [
       "b'Mobiles rack up 20 years of use\\n\\nMobile phones in the UK are celebrating their 20th anniversary this weekend.\\n\\nBritain\\'s first mobile phone call was made across the Vodafone network on 1 January 1985 by veteran comedian Ernie Wise. In the 20 years since that day, mobile phones have become an integral part of modern life and now almost 90% of Britons own a handset. Mobiles have become so popular that many people use their handset as their only phone and rarely use a landline.\\n\\nThe first ever call over a portable phone was made in 1973 in New York but it took 10 years for the first commercial mobile service to be launched. The UK was not far behind the rest of the world in setting up networks in 1985 that let people make calls while they walked. The first call was made from St Katherine\\'s dock to Vodafone\\'s head office in Newbury which at the time was over a curry house. For the first nine days of 1985 Vodafone was the only firm with a mobile network in the UK. Then on 10 January Cellnet (now O2) launched its service. Mike Caudwell, spokesman for Vodafone, said that when phones were launched they were the size of a briefcase, cost about \\xc2\\xa32,000 and had a battery life of little more than 20 minutes.\\n\\n\"Despite that they were hugely popular in the mid-80s,\" he said. \"They became a yuppy must-have and a status symbol among young wealthy business folk.\" This was also despite the fact that the phones used analogue radio signals to communicate which made them very easy to eavesdrop on. He said it took Vodafone almost nine years to rack up its first million customers but only 18 months to get the second million. \"It\\'s very easy to forget that in 1983 when we put the bid document in we were forecasting that the total market would be two million people,\" he said. \"Cellnet was forecasting half that.\" Now Vodafone has 14m customers in the UK alone. Cellnet and Vodafone were the only mobile phone operators in the UK until 1993 when One2One (now T-Mobile) was launched. Orange had its UK launch in 1994. Both newcomers operated digital mobile networks and now all operators use this technology. The analogue spectrum for the old phones has been retired. Called Global System for Mobiles (GSM) this is now the most widely used phone technology on the planet and is used to help more than 1.2 billion people make calls. Mr Caudwell said the advent of digital technology also helped to introduce all those things, such as text messaging and roaming that have made mobiles so popular.\\n'"
      ]
     },
     "execution_count": 6,
     "metadata": {},
     "output_type": "execute_result"
    }
   ],
   "source": [
    "data[0]"
   ]
  },
  {
   "cell_type": "markdown",
   "metadata": {},
   "source": [
    "### CountVectorizer"
   ]
  },
  {
   "cell_type": "code",
   "execution_count": 7,
   "metadata": {},
   "outputs": [],
   "source": [
    "from sklearn.feature_extraction.text import CountVectorizer\n",
    "\n",
    "# list of text documents\n",
    "text = [\"We created a new dataset which emphasizes diversity of content, by scraping content from the Internet.\",\" In order to preserve document quality, we used only pages which have been curated/filtered by humans—specifically, we used outbound links from Reddit which received at least 3 karma.\",\" This can be thought of as a heuristic indicator for whether other users found the link interesting (whether educational or funny), leading to higher data quality than other similar datasets, such as CommonCrawl.\"]\n",
    "\n",
    "# create the transformer\n",
    "vect = CountVectorizer()\n",
    "\n",
    "# build vocab\n",
    "vect.fit(text)\n",
    "\n",
    "# transform text\n",
    "dtm = vect.transform(text)\n",
    "\n",
    "# Create a Vocabulary\n",
    "# The vocabulary establishes all of the possible words that we might use.\n",
    "\n",
    "# The vocabulary dictionary does not represent the counts of words!!\n"
   ]
  },
  {
   "cell_type": "code",
   "execution_count": 8,
   "metadata": {},
   "outputs": [
    {
     "data": {
      "text/plain": [
       "numpy.matrix"
      ]
     },
     "execution_count": 8,
     "metadata": {},
     "output_type": "execute_result"
    }
   ],
   "source": [
    "type(dtm.todense())"
   ]
  },
  {
   "cell_type": "code",
   "execution_count": 9,
   "metadata": {},
   "outputs": [
    {
     "name": "stdout",
     "output_type": "stream",
     "text": [
      "['as', 'at', 'be', 'been', 'by', 'can', 'commoncrawl', 'content', 'created', 'curated', 'data', 'dataset', 'datasets', 'diversity', 'document', 'educational', 'emphasizes', 'filtered', 'for', 'found', 'from', 'funny', 'have', 'heuristic', 'higher', 'humans', 'in', 'indicator', 'interesting', 'internet', 'karma', 'leading', 'least', 'link', 'links', 'new', 'of', 'only', 'or', 'order', 'other', 'outbound', 'pages', 'preserve', 'quality', 'received', 'reddit', 'scraping', 'similar', 'specifically', 'such', 'than', 'the', 'this', 'thought', 'to', 'used', 'users', 'we', 'whether', 'which']\n"
     ]
    }
   ],
   "source": [
    "print(vect.get_feature_names())"
   ]
  },
  {
   "cell_type": "code",
   "execution_count": 10,
   "metadata": {},
   "outputs": [
    {
     "data": {
      "text/plain": [
       "['We created a new dataset which emphasizes diversity of content, by scraping content from the Internet.',\n",
       " ' In order to preserve document quality, we used only pages which have been curated/filtered by humans—specifically, we used outbound links from Reddit which received at least 3 karma.',\n",
       " ' This can be thought of as a heuristic indicator for whether other users found the link interesting (whether educational or funny), leading to higher data quality than other similar datasets, such as CommonCrawl.']"
      ]
     },
     "execution_count": 10,
     "metadata": {},
     "output_type": "execute_result"
    }
   ],
   "source": [
    "text[:25]"
   ]
  },
  {
   "cell_type": "code",
   "execution_count": 11,
   "metadata": {},
   "outputs": [
    {
     "name": "stdout",
     "output_type": "stream",
     "text": [
      "  (0, 4)\t1\n",
      "  (0, 7)\t2\n",
      "  (0, 8)\t1\n",
      "  (0, 11)\t1\n",
      "  (0, 13)\t1\n",
      "  (0, 16)\t1\n",
      "  (0, 20)\t1\n",
      "  (0, 29)\t1\n",
      "  (0, 35)\t1\n",
      "  (0, 36)\t1\n",
      "  (0, 47)\t1\n",
      "  (0, 52)\t1\n",
      "  (0, 58)\t1\n",
      "  (0, 60)\t1\n",
      "  (1, 1)\t1\n",
      "  (1, 3)\t1\n",
      "  (1, 4)\t1\n",
      "  (1, 9)\t1\n",
      "  (1, 14)\t1\n",
      "  (1, 17)\t1\n",
      "  (1, 20)\t1\n",
      "  (1, 22)\t1\n",
      "  (1, 25)\t1\n",
      "  (1, 26)\t1\n",
      "  (1, 30)\t1\n",
      "  :\t:\n",
      "  (2, 10)\t1\n",
      "  (2, 12)\t1\n",
      "  (2, 15)\t1\n",
      "  (2, 18)\t1\n",
      "  (2, 19)\t1\n",
      "  (2, 21)\t1\n",
      "  (2, 23)\t1\n",
      "  (2, 24)\t1\n",
      "  (2, 27)\t1\n",
      "  (2, 28)\t1\n",
      "  (2, 31)\t1\n",
      "  (2, 33)\t1\n",
      "  (2, 36)\t1\n",
      "  (2, 38)\t1\n",
      "  (2, 40)\t2\n",
      "  (2, 44)\t1\n",
      "  (2, 48)\t1\n",
      "  (2, 50)\t1\n",
      "  (2, 51)\t1\n",
      "  (2, 52)\t1\n",
      "  (2, 53)\t1\n",
      "  (2, 54)\t1\n",
      "  (2, 55)\t1\n",
      "  (2, 57)\t1\n",
      "  (2, 59)\t2\n"
     ]
    }
   ],
   "source": [
    "print(dtm)"
   ]
  },
  {
   "cell_type": "code",
   "execution_count": 12,
   "metadata": {},
   "outputs": [
    {
     "data": {
      "text/plain": [
       "matrix([[0, 0, 0, 0, 1, 0, 0, 2, 1, 0, 0, 1, 0, 1, 0, 0, 1, 0, 0, 0, 1,\n",
       "         0, 0, 0, 0, 0, 0, 0, 0, 1, 0, 0, 0, 0, 0, 1, 1, 0, 0, 0, 0, 0,\n",
       "         0, 0, 0, 0, 0, 1, 0, 0, 0, 0, 1, 0, 0, 0, 0, 0, 1, 0, 1],\n",
       "        [0, 1, 0, 1, 1, 0, 0, 0, 0, 1, 0, 0, 0, 0, 1, 0, 0, 1, 0, 0, 1,\n",
       "         0, 1, 0, 0, 1, 1, 0, 0, 0, 1, 0, 1, 0, 1, 0, 0, 1, 0, 1, 0, 1,\n",
       "         1, 1, 1, 1, 1, 0, 0, 1, 0, 0, 0, 0, 0, 1, 2, 0, 2, 0, 2],\n",
       "        [2, 0, 1, 0, 0, 1, 1, 0, 0, 0, 1, 0, 1, 0, 0, 1, 0, 0, 1, 1, 0,\n",
       "         1, 0, 1, 1, 0, 0, 1, 1, 0, 0, 1, 0, 1, 0, 0, 1, 0, 1, 0, 2, 0,\n",
       "         0, 0, 1, 0, 0, 0, 1, 0, 1, 1, 1, 1, 1, 1, 0, 1, 0, 2, 0]])"
      ]
     },
     "execution_count": 12,
     "metadata": {},
     "output_type": "execute_result"
    }
   ],
   "source": [
    "# Dealing with Sparse Matrix\n",
    "dtm.todense()"
   ]
  },
  {
   "cell_type": "code",
   "execution_count": null,
   "metadata": {},
   "outputs": [],
   "source": []
  },
  {
   "cell_type": "code",
   "execution_count": null,
   "metadata": {},
   "outputs": [],
   "source": []
  },
  {
   "cell_type": "code",
   "execution_count": 13,
   "metadata": {},
   "outputs": [
    {
     "data": {
      "text/plain": [
       "scipy.sparse.csr.csr_matrix"
      ]
     },
     "execution_count": 13,
     "metadata": {},
     "output_type": "execute_result"
    }
   ],
   "source": [
    "type(dtm)"
   ]
  },
  {
   "cell_type": "code",
   "execution_count": 14,
   "metadata": {},
   "outputs": [
    {
     "data": {
      "text/html": [
       "<div>\n",
       "<style scoped>\n",
       "    .dataframe tbody tr th:only-of-type {\n",
       "        vertical-align: middle;\n",
       "    }\n",
       "\n",
       "    .dataframe tbody tr th {\n",
       "        vertical-align: top;\n",
       "    }\n",
       "\n",
       "    .dataframe thead th {\n",
       "        text-align: right;\n",
       "    }\n",
       "</style>\n",
       "<table border=\"1\" class=\"dataframe\">\n",
       "  <thead>\n",
       "    <tr style=\"text-align: right;\">\n",
       "      <th></th>\n",
       "      <th>as</th>\n",
       "      <th>at</th>\n",
       "      <th>be</th>\n",
       "      <th>been</th>\n",
       "      <th>by</th>\n",
       "      <th>can</th>\n",
       "      <th>commoncrawl</th>\n",
       "      <th>content</th>\n",
       "      <th>created</th>\n",
       "      <th>curated</th>\n",
       "      <th>...</th>\n",
       "      <th>than</th>\n",
       "      <th>the</th>\n",
       "      <th>this</th>\n",
       "      <th>thought</th>\n",
       "      <th>to</th>\n",
       "      <th>used</th>\n",
       "      <th>users</th>\n",
       "      <th>we</th>\n",
       "      <th>whether</th>\n",
       "      <th>which</th>\n",
       "    </tr>\n",
       "  </thead>\n",
       "  <tbody>\n",
       "    <tr>\n",
       "      <th>0</th>\n",
       "      <td>0</td>\n",
       "      <td>0</td>\n",
       "      <td>0</td>\n",
       "      <td>0</td>\n",
       "      <td>1</td>\n",
       "      <td>0</td>\n",
       "      <td>0</td>\n",
       "      <td>2</td>\n",
       "      <td>1</td>\n",
       "      <td>0</td>\n",
       "      <td>...</td>\n",
       "      <td>0</td>\n",
       "      <td>1</td>\n",
       "      <td>0</td>\n",
       "      <td>0</td>\n",
       "      <td>0</td>\n",
       "      <td>0</td>\n",
       "      <td>0</td>\n",
       "      <td>1</td>\n",
       "      <td>0</td>\n",
       "      <td>1</td>\n",
       "    </tr>\n",
       "    <tr>\n",
       "      <th>1</th>\n",
       "      <td>0</td>\n",
       "      <td>1</td>\n",
       "      <td>0</td>\n",
       "      <td>1</td>\n",
       "      <td>1</td>\n",
       "      <td>0</td>\n",
       "      <td>0</td>\n",
       "      <td>0</td>\n",
       "      <td>0</td>\n",
       "      <td>1</td>\n",
       "      <td>...</td>\n",
       "      <td>0</td>\n",
       "      <td>0</td>\n",
       "      <td>0</td>\n",
       "      <td>0</td>\n",
       "      <td>1</td>\n",
       "      <td>2</td>\n",
       "      <td>0</td>\n",
       "      <td>2</td>\n",
       "      <td>0</td>\n",
       "      <td>2</td>\n",
       "    </tr>\n",
       "    <tr>\n",
       "      <th>2</th>\n",
       "      <td>2</td>\n",
       "      <td>0</td>\n",
       "      <td>1</td>\n",
       "      <td>0</td>\n",
       "      <td>0</td>\n",
       "      <td>1</td>\n",
       "      <td>1</td>\n",
       "      <td>0</td>\n",
       "      <td>0</td>\n",
       "      <td>0</td>\n",
       "      <td>...</td>\n",
       "      <td>1</td>\n",
       "      <td>1</td>\n",
       "      <td>1</td>\n",
       "      <td>1</td>\n",
       "      <td>1</td>\n",
       "      <td>0</td>\n",
       "      <td>1</td>\n",
       "      <td>0</td>\n",
       "      <td>2</td>\n",
       "      <td>0</td>\n",
       "    </tr>\n",
       "  </tbody>\n",
       "</table>\n",
       "<p>3 rows × 61 columns</p>\n",
       "</div>"
      ],
      "text/plain": [
       "   as  at  be  been  by  can  commoncrawl  content  created  curated  ...  \\\n",
       "0   0   0   0     0   1    0            0        2        1        0  ...   \n",
       "1   0   1   0     1   1    0            0        0        0        1  ...   \n",
       "2   2   0   1     0   0    1            1        0        0        0  ...   \n",
       "\n",
       "   than  the  this  thought  to  used  users  we  whether  which  \n",
       "0     0    1     0        0   0     0      0   1        0      1  \n",
       "1     0    0     0        0   1     2      0   2        0      2  \n",
       "2     1    1     1        1   1     0      1   0        2      0  \n",
       "\n",
       "[3 rows x 61 columns]"
      ]
     },
     "execution_count": 14,
     "metadata": {},
     "output_type": "execute_result"
    }
   ],
   "source": [
    "# Get Word Counts for each document\n",
    "dtm = pd.DataFrame(dtm.todense(), columns=vect.get_feature_names())\n",
    "dtm"
   ]
  },
  {
   "cell_type": "code",
   "execution_count": 53,
   "metadata": {},
   "outputs": [
    {
     "data": {
      "text/plain": [
       "' In order to preserve document quality, we used only pages which have been curated/filtered by humans—specifically, we used outbound links from Reddit which received at least 3 karma.'"
      ]
     },
     "execution_count": 53,
     "metadata": {},
     "output_type": "execute_result"
    }
   ],
   "source": [
    "text[1]"
   ]
  },
  {
   "cell_type": "code",
   "execution_count": 15,
   "metadata": {},
   "outputs": [
    {
     "data": {
      "text/plain": [
       "b'Mobiles rack up 20 years '"
      ]
     },
     "execution_count": 15,
     "metadata": {},
     "output_type": "execute_result"
    }
   ],
   "source": [
    "data[0][:25]"
   ]
  },
  {
   "cell_type": "code",
   "execution_count": 16,
   "metadata": {},
   "outputs": [
    {
     "data": {
      "text/plain": [
       "401"
      ]
     },
     "execution_count": 16,
     "metadata": {},
     "output_type": "execute_result"
    }
   ],
   "source": [
    "len(data)"
   ]
  },
  {
   "cell_type": "markdown",
   "metadata": {},
   "source": [
    "**Three Minute Challenge:** \n",
    "* Apply CountVectorizer to our BBC Data\n",
    "* Store results in a dataframe called `dtm`\n",
    "* Extra Challenge - Try to Customize CountVectorizer with Spacy Processing"
   ]
  },
  {
   "cell_type": "code",
   "execution_count": 17,
   "metadata": {},
   "outputs": [],
   "source": [
    "# Apply CountVectorizer to our Data\n",
    "# Use custom Spacy Vectorizer\n",
    "# BBC articles in `data` variable\n",
    "\n",
    "from sklearn.feature_extraction.text import CountVectorizer\n",
    "\n",
    "vect = CountVectorizer(stop_words='english', max_features=1000)\n",
    "\n",
    "#Learn our Vocab\n",
    "vect.fit(data)\n",
    "\n",
    "# Get sparse dtm\n",
    "dtm = vect.transform(data)\n",
    "\n",
    "dtm = pd.DataFrame(dtm.todense(), columns=vect.get_feature_names())"
   ]
  },
  {
   "cell_type": "code",
   "execution_count": 18,
   "metadata": {},
   "outputs": [
    {
     "data": {
      "text/html": [
       "<div>\n",
       "<style scoped>\n",
       "    .dataframe tbody tr th:only-of-type {\n",
       "        vertical-align: middle;\n",
       "    }\n",
       "\n",
       "    .dataframe tbody tr th {\n",
       "        vertical-align: top;\n",
       "    }\n",
       "\n",
       "    .dataframe thead th {\n",
       "        text-align: right;\n",
       "    }\n",
       "</style>\n",
       "<table border=\"1\" class=\"dataframe\">\n",
       "  <thead>\n",
       "    <tr style=\"text-align: right;\">\n",
       "      <th></th>\n",
       "      <th>000</th>\n",
       "      <th>10</th>\n",
       "      <th>100</th>\n",
       "      <th>11</th>\n",
       "      <th>12</th>\n",
       "      <th>14</th>\n",
       "      <th>15</th>\n",
       "      <th>18</th>\n",
       "      <th>20</th>\n",
       "      <th>200</th>\n",
       "      <th>...</th>\n",
       "      <th>worldwide</th>\n",
       "      <th>worm</th>\n",
       "      <th>worth</th>\n",
       "      <th>writing</th>\n",
       "      <th>xbox</th>\n",
       "      <th>xp</th>\n",
       "      <th>yahoo</th>\n",
       "      <th>year</th>\n",
       "      <th>years</th>\n",
       "      <th>york</th>\n",
       "    </tr>\n",
       "  </thead>\n",
       "  <tbody>\n",
       "    <tr>\n",
       "      <th>0</th>\n",
       "      <td>1</td>\n",
       "      <td>2</td>\n",
       "      <td>0</td>\n",
       "      <td>0</td>\n",
       "      <td>0</td>\n",
       "      <td>0</td>\n",
       "      <td>0</td>\n",
       "      <td>1</td>\n",
       "      <td>3</td>\n",
       "      <td>0</td>\n",
       "      <td>...</td>\n",
       "      <td>0</td>\n",
       "      <td>0</td>\n",
       "      <td>0</td>\n",
       "      <td>0</td>\n",
       "      <td>0</td>\n",
       "      <td>0</td>\n",
       "      <td>0</td>\n",
       "      <td>0</td>\n",
       "      <td>4</td>\n",
       "      <td>1</td>\n",
       "    </tr>\n",
       "    <tr>\n",
       "      <th>1</th>\n",
       "      <td>0</td>\n",
       "      <td>0</td>\n",
       "      <td>0</td>\n",
       "      <td>1</td>\n",
       "      <td>0</td>\n",
       "      <td>0</td>\n",
       "      <td>0</td>\n",
       "      <td>1</td>\n",
       "      <td>0</td>\n",
       "      <td>0</td>\n",
       "      <td>...</td>\n",
       "      <td>0</td>\n",
       "      <td>0</td>\n",
       "      <td>0</td>\n",
       "      <td>0</td>\n",
       "      <td>0</td>\n",
       "      <td>0</td>\n",
       "      <td>0</td>\n",
       "      <td>2</td>\n",
       "      <td>0</td>\n",
       "      <td>0</td>\n",
       "    </tr>\n",
       "    <tr>\n",
       "      <th>2</th>\n",
       "      <td>3</td>\n",
       "      <td>0</td>\n",
       "      <td>0</td>\n",
       "      <td>0</td>\n",
       "      <td>0</td>\n",
       "      <td>0</td>\n",
       "      <td>0</td>\n",
       "      <td>0</td>\n",
       "      <td>1</td>\n",
       "      <td>0</td>\n",
       "      <td>...</td>\n",
       "      <td>0</td>\n",
       "      <td>0</td>\n",
       "      <td>0</td>\n",
       "      <td>0</td>\n",
       "      <td>1</td>\n",
       "      <td>0</td>\n",
       "      <td>0</td>\n",
       "      <td>2</td>\n",
       "      <td>2</td>\n",
       "      <td>0</td>\n",
       "    </tr>\n",
       "    <tr>\n",
       "      <th>3</th>\n",
       "      <td>0</td>\n",
       "      <td>0</td>\n",
       "      <td>0</td>\n",
       "      <td>0</td>\n",
       "      <td>0</td>\n",
       "      <td>0</td>\n",
       "      <td>0</td>\n",
       "      <td>0</td>\n",
       "      <td>0</td>\n",
       "      <td>0</td>\n",
       "      <td>...</td>\n",
       "      <td>0</td>\n",
       "      <td>0</td>\n",
       "      <td>0</td>\n",
       "      <td>0</td>\n",
       "      <td>0</td>\n",
       "      <td>0</td>\n",
       "      <td>0</td>\n",
       "      <td>0</td>\n",
       "      <td>0</td>\n",
       "      <td>0</td>\n",
       "    </tr>\n",
       "    <tr>\n",
       "      <th>4</th>\n",
       "      <td>0</td>\n",
       "      <td>0</td>\n",
       "      <td>0</td>\n",
       "      <td>0</td>\n",
       "      <td>0</td>\n",
       "      <td>0</td>\n",
       "      <td>0</td>\n",
       "      <td>0</td>\n",
       "      <td>0</td>\n",
       "      <td>0</td>\n",
       "      <td>...</td>\n",
       "      <td>0</td>\n",
       "      <td>0</td>\n",
       "      <td>0</td>\n",
       "      <td>0</td>\n",
       "      <td>0</td>\n",
       "      <td>0</td>\n",
       "      <td>0</td>\n",
       "      <td>0</td>\n",
       "      <td>1</td>\n",
       "      <td>0</td>\n",
       "    </tr>\n",
       "  </tbody>\n",
       "</table>\n",
       "<p>5 rows × 1000 columns</p>\n",
       "</div>"
      ],
      "text/plain": [
       "   000  10  100  11  12  14  15  18  20  200  ...  worldwide  worm  worth  \\\n",
       "0    1   2    0   0   0   0   0   1   3    0  ...          0     0      0   \n",
       "1    0   0    0   1   0   0   0   1   0    0  ...          0     0      0   \n",
       "2    3   0    0   0   0   0   0   0   1    0  ...          0     0      0   \n",
       "3    0   0    0   0   0   0   0   0   0    0  ...          0     0      0   \n",
       "4    0   0    0   0   0   0   0   0   0    0  ...          0     0      0   \n",
       "\n",
       "   writing  xbox  xp  yahoo  year  years  york  \n",
       "0        0     0   0      0     0      4     1  \n",
       "1        0     0   0      0     2      0     0  \n",
       "2        0     1   0      0     2      2     0  \n",
       "3        0     0   0      0     0      0     0  \n",
       "4        0     0   0      0     0      1     0  \n",
       "\n",
       "[5 rows x 1000 columns]"
      ]
     },
     "execution_count": 18,
     "metadata": {},
     "output_type": "execute_result"
    }
   ],
   "source": [
    "dtm.head()"
   ]
  },
  {
   "cell_type": "code",
   "execution_count": null,
   "metadata": {},
   "outputs": [],
   "source": []
  },
  {
   "cell_type": "code",
   "execution_count": 19,
   "metadata": {},
   "outputs": [],
   "source": [
    "doc_len = [len(doc) for doc in data]"
   ]
  },
  {
   "cell_type": "code",
   "execution_count": 20,
   "metadata": {},
   "outputs": [
    {
     "data": {
      "image/png": "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\n",
      "text/plain": [
       "<Figure size 432x288 with 1 Axes>"
      ]
     },
     "metadata": {
      "needs_background": "light"
     },
     "output_type": "display_data"
    }
   ],
   "source": [
    "import seaborn as sns\n",
    "\n",
    "sns.distplot(doc_len);"
   ]
  },
  {
   "cell_type": "markdown",
   "metadata": {},
   "source": [
    "### TfidfVectorizer\n",
    "\n",
    "## Term Frequency - Inverse Document Frequency (TF-IDF)\n",
    "\n",
    "<center><img src=\"https://mungingdata.files.wordpress.com/2017/11/equation.png?w=430&h=336\" width=\"300\"></center>\n",
    "\n",
    "Term Frequency: Percentage of words in document for each word\n",
    "\n",
    "Document Frequency: A penalty for the word existing in a high number of documents.\n",
    "\n",
    "The purpose of TF-IDF is to find what is **unique** to each document. Because of this we will penalize the term frequencies of words that are common across all documents which will allow for each document's most different topics to rise to the top."
   ]
  },
  {
   "cell_type": "code",
   "execution_count": 21,
   "metadata": {},
   "outputs": [
    {
     "data": {
      "text/html": [
       "<div>\n",
       "<style scoped>\n",
       "    .dataframe tbody tr th:only-of-type {\n",
       "        vertical-align: middle;\n",
       "    }\n",
       "\n",
       "    .dataframe tbody tr th {\n",
       "        vertical-align: top;\n",
       "    }\n",
       "\n",
       "    .dataframe thead th {\n",
       "        text-align: right;\n",
       "    }\n",
       "</style>\n",
       "<table border=\"1\" class=\"dataframe\">\n",
       "  <thead>\n",
       "    <tr style=\"text-align: right;\">\n",
       "      <th></th>\n",
       "      <th>000</th>\n",
       "      <th>10</th>\n",
       "      <th>100</th>\n",
       "      <th>101</th>\n",
       "      <th>104</th>\n",
       "      <th>10m</th>\n",
       "      <th>11</th>\n",
       "      <th>12</th>\n",
       "      <th>120</th>\n",
       "      <th>13</th>\n",
       "      <th>...</th>\n",
       "      <th>yoda</th>\n",
       "      <th>yoran</th>\n",
       "      <th>york</th>\n",
       "      <th>young</th>\n",
       "      <th>younger</th>\n",
       "      <th>youngsters</th>\n",
       "      <th>youth</th>\n",
       "      <th>zafi</th>\n",
       "      <th>zen</th>\n",
       "      <th>zombies</th>\n",
       "    </tr>\n",
       "  </thead>\n",
       "  <tbody>\n",
       "    <tr>\n",
       "      <th>0</th>\n",
       "      <td>0.028940</td>\n",
       "      <td>0.066646</td>\n",
       "      <td>0.0</td>\n",
       "      <td>0.0</td>\n",
       "      <td>0.0</td>\n",
       "      <td>0.0</td>\n",
       "      <td>0.000000</td>\n",
       "      <td>0.0</td>\n",
       "      <td>0.0</td>\n",
       "      <td>0.0</td>\n",
       "      <td>...</td>\n",
       "      <td>0.0</td>\n",
       "      <td>0.0</td>\n",
       "      <td>0.05528</td>\n",
       "      <td>0.058505</td>\n",
       "      <td>0.0</td>\n",
       "      <td>0.0</td>\n",
       "      <td>0.0</td>\n",
       "      <td>0.0</td>\n",
       "      <td>0.0</td>\n",
       "      <td>0.0</td>\n",
       "    </tr>\n",
       "    <tr>\n",
       "      <th>1</th>\n",
       "      <td>0.000000</td>\n",
       "      <td>0.000000</td>\n",
       "      <td>0.0</td>\n",
       "      <td>0.0</td>\n",
       "      <td>0.0</td>\n",
       "      <td>0.0</td>\n",
       "      <td>0.077901</td>\n",
       "      <td>0.0</td>\n",
       "      <td>0.0</td>\n",
       "      <td>0.0</td>\n",
       "      <td>...</td>\n",
       "      <td>0.0</td>\n",
       "      <td>0.0</td>\n",
       "      <td>0.00000</td>\n",
       "      <td>0.000000</td>\n",
       "      <td>0.0</td>\n",
       "      <td>0.0</td>\n",
       "      <td>0.0</td>\n",
       "      <td>0.0</td>\n",
       "      <td>0.0</td>\n",
       "      <td>0.0</td>\n",
       "    </tr>\n",
       "    <tr>\n",
       "      <th>2</th>\n",
       "      <td>0.061896</td>\n",
       "      <td>0.000000</td>\n",
       "      <td>0.0</td>\n",
       "      <td>0.0</td>\n",
       "      <td>0.0</td>\n",
       "      <td>0.0</td>\n",
       "      <td>0.000000</td>\n",
       "      <td>0.0</td>\n",
       "      <td>0.0</td>\n",
       "      <td>0.0</td>\n",
       "      <td>...</td>\n",
       "      <td>0.0</td>\n",
       "      <td>0.0</td>\n",
       "      <td>0.00000</td>\n",
       "      <td>0.000000</td>\n",
       "      <td>0.0</td>\n",
       "      <td>0.0</td>\n",
       "      <td>0.0</td>\n",
       "      <td>0.0</td>\n",
       "      <td>0.0</td>\n",
       "      <td>0.0</td>\n",
       "    </tr>\n",
       "    <tr>\n",
       "      <th>3</th>\n",
       "      <td>0.000000</td>\n",
       "      <td>0.000000</td>\n",
       "      <td>0.0</td>\n",
       "      <td>0.0</td>\n",
       "      <td>0.0</td>\n",
       "      <td>0.0</td>\n",
       "      <td>0.000000</td>\n",
       "      <td>0.0</td>\n",
       "      <td>0.0</td>\n",
       "      <td>0.0</td>\n",
       "      <td>...</td>\n",
       "      <td>0.0</td>\n",
       "      <td>0.0</td>\n",
       "      <td>0.00000</td>\n",
       "      <td>0.000000</td>\n",
       "      <td>0.0</td>\n",
       "      <td>0.0</td>\n",
       "      <td>0.0</td>\n",
       "      <td>0.0</td>\n",
       "      <td>0.0</td>\n",
       "      <td>0.0</td>\n",
       "    </tr>\n",
       "    <tr>\n",
       "      <th>4</th>\n",
       "      <td>0.000000</td>\n",
       "      <td>0.000000</td>\n",
       "      <td>0.0</td>\n",
       "      <td>0.0</td>\n",
       "      <td>0.0</td>\n",
       "      <td>0.0</td>\n",
       "      <td>0.000000</td>\n",
       "      <td>0.0</td>\n",
       "      <td>0.0</td>\n",
       "      <td>0.0</td>\n",
       "      <td>...</td>\n",
       "      <td>0.0</td>\n",
       "      <td>0.0</td>\n",
       "      <td>0.00000</td>\n",
       "      <td>0.000000</td>\n",
       "      <td>0.0</td>\n",
       "      <td>0.0</td>\n",
       "      <td>0.0</td>\n",
       "      <td>0.0</td>\n",
       "      <td>0.0</td>\n",
       "      <td>0.0</td>\n",
       "    </tr>\n",
       "  </tbody>\n",
       "</table>\n",
       "<p>5 rows × 5000 columns</p>\n",
       "</div>"
      ],
      "text/plain": [
       "        000        10  100  101  104  10m        11   12  120   13  ...  yoda  \\\n",
       "0  0.028940  0.066646  0.0  0.0  0.0  0.0  0.000000  0.0  0.0  0.0  ...   0.0   \n",
       "1  0.000000  0.000000  0.0  0.0  0.0  0.0  0.077901  0.0  0.0  0.0  ...   0.0   \n",
       "2  0.061896  0.000000  0.0  0.0  0.0  0.0  0.000000  0.0  0.0  0.0  ...   0.0   \n",
       "3  0.000000  0.000000  0.0  0.0  0.0  0.0  0.000000  0.0  0.0  0.0  ...   0.0   \n",
       "4  0.000000  0.000000  0.0  0.0  0.0  0.0  0.000000  0.0  0.0  0.0  ...   0.0   \n",
       "\n",
       "   yoran     york     young  younger  youngsters  youth  zafi  zen  zombies  \n",
       "0    0.0  0.05528  0.058505      0.0         0.0    0.0   0.0  0.0      0.0  \n",
       "1    0.0  0.00000  0.000000      0.0         0.0    0.0   0.0  0.0      0.0  \n",
       "2    0.0  0.00000  0.000000      0.0         0.0    0.0   0.0  0.0      0.0  \n",
       "3    0.0  0.00000  0.000000      0.0         0.0    0.0   0.0  0.0      0.0  \n",
       "4    0.0  0.00000  0.000000      0.0         0.0    0.0   0.0  0.0      0.0  \n",
       "\n",
       "[5 rows x 5000 columns]"
      ]
     },
     "execution_count": 21,
     "metadata": {},
     "output_type": "execute_result"
    }
   ],
   "source": [
    "from sklearn.feature_extraction.text import TfidfVectorizer\n",
    "\n",
    "# Instantiate vectorizer object\n",
    "tfidf = TfidfVectorizer(stop_words='english', max_features=5000)\n",
    "\n",
    "# Create a vocabulary and get word counts per document\n",
    "# Similiar to fit_predict\n",
    "dtm = tfidf.fit_transform(data)\n",
    "\n",
    "# Print word counts\n",
    "\n",
    "# Get feature names to use as dataframe column headers\n",
    "dtm = pd.DataFrame(dtm.todense(), columns=tfidf.get_feature_names())\n",
    "\n",
    "# View Feature Matrix as DataFrame\n",
    "dtm.head()"
   ]
  },
  {
   "cell_type": "code",
   "execution_count": 22,
   "metadata": {},
   "outputs": [],
   "source": [
    "def tokenize(document):\n",
    "    \n",
    "    doc = nlp(document)\n",
    "    \n",
    "    return [token.lemma_.strip() for token in doc if (token.is_stop != True) and (token.is_punct != True)]"
   ]
  },
  {
   "cell_type": "markdown",
   "metadata": {},
   "source": [
    "text data machines\n",
    "\n",
    "\"text data\" \"data machines\" \"text machines\""
   ]
  },
  {
   "cell_type": "code",
   "execution_count": 23,
   "metadata": {},
   "outputs": [
    {
     "data": {
      "text/html": [
       "<div>\n",
       "<style scoped>\n",
       "    .dataframe tbody tr th:only-of-type {\n",
       "        vertical-align: middle;\n",
       "    }\n",
       "\n",
       "    .dataframe tbody tr th {\n",
       "        vertical-align: top;\n",
       "    }\n",
       "\n",
       "    .dataframe thead th {\n",
       "        text-align: right;\n",
       "    }\n",
       "</style>\n",
       "<table border=\"1\" class=\"dataframe\">\n",
       "  <thead>\n",
       "    <tr style=\"text-align: right;\">\n",
       "      <th></th>\n",
       "      <th>10</th>\n",
       "      <th>15</th>\n",
       "      <th>2004</th>\n",
       "      <th>50</th>\n",
       "      <th>ability</th>\n",
       "      <th>accord</th>\n",
       "      <th>add</th>\n",
       "      <th>airline</th>\n",
       "      <th>announce</th>\n",
       "      <th>anti</th>\n",
       "      <th>...</th>\n",
       "      <th>£ 11.5</th>\n",
       "      <th>£ 132</th>\n",
       "      <th>£ 2,000</th>\n",
       "      <th>£ 20</th>\n",
       "      <th>£ 339</th>\n",
       "      <th>£ 4.99</th>\n",
       "      <th>£ 40</th>\n",
       "      <th>£ 5</th>\n",
       "      <th>£ 50</th>\n",
       "      <th>£ 99</th>\n",
       "    </tr>\n",
       "  </thead>\n",
       "  <tbody>\n",
       "    <tr>\n",
       "      <th>0</th>\n",
       "      <td>0.0</td>\n",
       "      <td>0.0</td>\n",
       "      <td>0.000000</td>\n",
       "      <td>0.0</td>\n",
       "      <td>0.0</td>\n",
       "      <td>0.000000</td>\n",
       "      <td>0.0</td>\n",
       "      <td>0.0</td>\n",
       "      <td>0.0</td>\n",
       "      <td>0.0</td>\n",
       "      <td>...</td>\n",
       "      <td>0.0</td>\n",
       "      <td>0.0</td>\n",
       "      <td>0.066238</td>\n",
       "      <td>0.0</td>\n",
       "      <td>0.0</td>\n",
       "      <td>0.0</td>\n",
       "      <td>0.0</td>\n",
       "      <td>0.0</td>\n",
       "      <td>0.0</td>\n",
       "      <td>0.0</td>\n",
       "    </tr>\n",
       "    <tr>\n",
       "      <th>1</th>\n",
       "      <td>0.0</td>\n",
       "      <td>0.0</td>\n",
       "      <td>0.084072</td>\n",
       "      <td>0.0</td>\n",
       "      <td>0.0</td>\n",
       "      <td>0.073768</td>\n",
       "      <td>0.0</td>\n",
       "      <td>0.0</td>\n",
       "      <td>0.0</td>\n",
       "      <td>0.0</td>\n",
       "      <td>...</td>\n",
       "      <td>0.0</td>\n",
       "      <td>0.0</td>\n",
       "      <td>0.000000</td>\n",
       "      <td>0.0</td>\n",
       "      <td>0.0</td>\n",
       "      <td>0.0</td>\n",
       "      <td>0.0</td>\n",
       "      <td>0.0</td>\n",
       "      <td>0.0</td>\n",
       "      <td>0.0</td>\n",
       "    </tr>\n",
       "    <tr>\n",
       "      <th>2</th>\n",
       "      <td>0.0</td>\n",
       "      <td>0.0</td>\n",
       "      <td>0.000000</td>\n",
       "      <td>0.0</td>\n",
       "      <td>0.0</td>\n",
       "      <td>0.000000</td>\n",
       "      <td>0.0</td>\n",
       "      <td>0.0</td>\n",
       "      <td>0.0</td>\n",
       "      <td>0.0</td>\n",
       "      <td>...</td>\n",
       "      <td>0.0</td>\n",
       "      <td>0.0</td>\n",
       "      <td>0.000000</td>\n",
       "      <td>0.0</td>\n",
       "      <td>0.0</td>\n",
       "      <td>0.0</td>\n",
       "      <td>0.0</td>\n",
       "      <td>0.0</td>\n",
       "      <td>0.0</td>\n",
       "      <td>0.0</td>\n",
       "    </tr>\n",
       "    <tr>\n",
       "      <th>3</th>\n",
       "      <td>0.0</td>\n",
       "      <td>0.0</td>\n",
       "      <td>0.000000</td>\n",
       "      <td>0.0</td>\n",
       "      <td>0.0</td>\n",
       "      <td>0.000000</td>\n",
       "      <td>0.0</td>\n",
       "      <td>0.0</td>\n",
       "      <td>0.0</td>\n",
       "      <td>0.0</td>\n",
       "      <td>...</td>\n",
       "      <td>0.0</td>\n",
       "      <td>0.0</td>\n",
       "      <td>0.000000</td>\n",
       "      <td>0.0</td>\n",
       "      <td>0.0</td>\n",
       "      <td>0.0</td>\n",
       "      <td>0.0</td>\n",
       "      <td>0.0</td>\n",
       "      <td>0.0</td>\n",
       "      <td>0.0</td>\n",
       "    </tr>\n",
       "    <tr>\n",
       "      <th>4</th>\n",
       "      <td>0.0</td>\n",
       "      <td>0.0</td>\n",
       "      <td>0.000000</td>\n",
       "      <td>0.0</td>\n",
       "      <td>0.0</td>\n",
       "      <td>0.000000</td>\n",
       "      <td>0.0</td>\n",
       "      <td>0.0</td>\n",
       "      <td>0.0</td>\n",
       "      <td>0.0</td>\n",
       "      <td>...</td>\n",
       "      <td>0.0</td>\n",
       "      <td>0.0</td>\n",
       "      <td>0.000000</td>\n",
       "      <td>0.0</td>\n",
       "      <td>0.0</td>\n",
       "      <td>0.0</td>\n",
       "      <td>0.0</td>\n",
       "      <td>0.0</td>\n",
       "      <td>0.0</td>\n",
       "      <td>0.0</td>\n",
       "    </tr>\n",
       "  </tbody>\n",
       "</table>\n",
       "<p>5 rows × 8240 columns</p>\n",
       "</div>"
      ],
      "text/plain": [
       "    10   15      2004   50   ability    accord   add   airline   announce  \\\n",
       "0  0.0  0.0  0.000000  0.0       0.0  0.000000   0.0       0.0        0.0   \n",
       "1  0.0  0.0  0.084072  0.0       0.0  0.073768   0.0       0.0        0.0   \n",
       "2  0.0  0.0  0.000000  0.0       0.0  0.000000   0.0       0.0        0.0   \n",
       "3  0.0  0.0  0.000000  0.0       0.0  0.000000   0.0       0.0        0.0   \n",
       "4  0.0  0.0  0.000000  0.0       0.0  0.000000   0.0       0.0        0.0   \n",
       "\n",
       "    anti  ...  £ 11.5  £ 132   £ 2,000  £ 20  £ 339  £ 4.99  £ 40  £ 5  £ 50  \\\n",
       "0    0.0  ...     0.0    0.0  0.066238   0.0    0.0     0.0   0.0  0.0   0.0   \n",
       "1    0.0  ...     0.0    0.0  0.000000   0.0    0.0     0.0   0.0  0.0   0.0   \n",
       "2    0.0  ...     0.0    0.0  0.000000   0.0    0.0     0.0   0.0  0.0   0.0   \n",
       "3    0.0  ...     0.0    0.0  0.000000   0.0    0.0     0.0   0.0  0.0   0.0   \n",
       "4    0.0  ...     0.0    0.0  0.000000   0.0    0.0     0.0   0.0  0.0   0.0   \n",
       "\n",
       "   £ 99  \n",
       "0   0.0  \n",
       "1   0.0  \n",
       "2   0.0  \n",
       "3   0.0  \n",
       "4   0.0  \n",
       "\n",
       "[5 rows x 8240 columns]"
      ]
     },
     "execution_count": 23,
     "metadata": {},
     "output_type": "execute_result"
    }
   ],
   "source": [
    "# Tunning Parameters\n",
    "\n",
    "# Instantiate vectorizer object\n",
    "tfidf = TfidfVectorizer(stop_words='english', \n",
    "                        ngram_range=(1,2),\n",
    "                        max_df=.97,\n",
    "                        min_df=3,\n",
    "                        tokenizer=tokenize)\n",
    "\n",
    "# Create a vocabulary and get word counts per document\n",
    "dtm = tfidf.fit_transform(data) # Similiar to fit_predict\n",
    "\n",
    "# Print word counts\n",
    "\n",
    "# Get feature names to use as dataframe column headers\n",
    "dtm = pd.DataFrame(dtm.todense(), columns=tfidf.get_feature_names())\n",
    "\n",
    "# View Feature Matrix as DataFrame\n",
    "dtm.head()"
   ]
  },
  {
   "cell_type": "code",
   "execution_count": 24,
   "metadata": {},
   "outputs": [
    {
     "data": {
      "text/plain": [
       "(401, 8240)"
      ]
     },
     "execution_count": 24,
     "metadata": {},
     "output_type": "execute_result"
    }
   ],
   "source": [
    "dtm.shape"
   ]
  },
  {
   "cell_type": "markdown",
   "metadata": {},
   "source": [
    "## Challenge\n",
    "\n",
    "During this module's project assignment, you will transform data science job listings to vector representations for analysis downstream. "
   ]
  },
  {
   "cell_type": "markdown",
   "metadata": {},
   "source": [
    "# Query Documents by Similarity (Learn)\n",
    "<a id=\"p2\"></a>"
   ]
  },
  {
   "cell_type": "markdown",
   "metadata": {},
   "source": [
    "## Overview\n",
    "\n",
    "Have you ever considered how a search bar works? You may just think that search bars simply match your input text againist the documents. While there are many different mechanisms for the 'match', one of the most classic is to search by similarity. We will apply n-dimensional distance to measure similarity, and query for input and output. "
   ]
  },
  {
   "cell_type": "markdown",
   "metadata": {
    "toc-hr-collapsed": true
   },
   "source": [
    "## Follow Along"
   ]
  },
  {
   "cell_type": "markdown",
   "metadata": {},
   "source": [
    "### Cosine Similarity (Brute Force)"
   ]
  },
  {
   "cell_type": "code",
   "execution_count": 25,
   "metadata": {},
   "outputs": [],
   "source": [
    "# Calculate Distance of TF-IDF Vectors\n",
    "from sklearn.metrics.pairwise import cosine_similarity\n",
    "\n",
    "dist_matrix  = cosine_similarity(dtm)"
   ]
  },
  {
   "cell_type": "code",
   "execution_count": 26,
   "metadata": {},
   "outputs": [],
   "source": [
    "# Turn it into a DataFrame\n",
    "\n",
    "df = pd.DataFrame(dist_matrix)"
   ]
  },
  {
   "cell_type": "code",
   "execution_count": 27,
   "metadata": {},
   "outputs": [
    {
     "data": {
      "text/plain": [
       "(401, 401)"
      ]
     },
     "execution_count": 27,
     "metadata": {},
     "output_type": "execute_result"
    }
   ],
   "source": [
    "# Our Similarity Matrix is ? size \n",
    "df.shape"
   ]
  },
  {
   "cell_type": "code",
   "execution_count": 28,
   "metadata": {},
   "outputs": [
    {
     "data": {
      "text/plain": [
       "b'Mobiles rack up 20 years of use\\n\\nMobile phones in the UK are celebrating their 20th anniversary this'"
      ]
     },
     "execution_count": 28,
     "metadata": {},
     "output_type": "execute_result"
    }
   ],
   "source": [
    "data[0][:100]"
   ]
  },
  {
   "cell_type": "code",
   "execution_count": 29,
   "metadata": {},
   "outputs": [
    {
     "data": {
      "text/plain": [
       "0    1.000000\n",
       "1    0.071729\n",
       "2    0.033438\n",
       "3    0.007293\n",
       "4    0.066572\n",
       "Name: 0, dtype: float64"
      ]
     },
     "execution_count": 29,
     "metadata": {},
     "output_type": "execute_result"
    }
   ],
   "source": [
    "# Each row is the similarity of one document to all other documents (including itself)\n",
    "df[0][:5]"
   ]
  },
  {
   "cell_type": "code",
   "execution_count": 30,
   "metadata": {},
   "outputs": [
    {
     "data": {
      "text/plain": [
       "92     0.368389\n",
       "297    0.348640\n",
       "300    0.320870\n",
       "187    0.266033\n",
       "63     0.260071\n",
       "Name: 0, dtype: float64"
      ]
     },
     "execution_count": 30,
     "metadata": {},
     "output_type": "execute_result"
    }
   ],
   "source": [
    "# Grab the row\n",
    "df[df[0] < 1][0].sort_values(ascending=False)[:5]"
   ]
  },
  {
   "cell_type": "code",
   "execution_count": 31,
   "metadata": {},
   "outputs": [
    {
     "name": "stdout",
     "output_type": "stream",
     "text": [
      "b\"Mobiles rack up 20 years of use\\n\\nMobile phones in the UK are celebrating their 20th anniversary this weekend.\\n\\nBritain's first mobile phone call was m\"\n"
     ]
    }
   ],
   "source": [
    "print(data[0][:150])"
   ]
  },
  {
   "cell_type": "code",
   "execution_count": 32,
   "metadata": {},
   "outputs": [
    {
     "name": "stdout",
     "output_type": "stream",
     "text": [
      "b\"'Friends fear' with lost mobiles\\n\\nPeople are becoming so dependent on their mobile phones that one in three are concerned that losing their phone woul\"\n"
     ]
    }
   ],
   "source": [
    "print(data[297][:150])"
   ]
  },
  {
   "cell_type": "markdown",
   "metadata": {},
   "source": [
    "### NearestNeighbor (K-NN) \n",
    "\n",
    "To address the computational inefficiencies of the brute-force approach, a variety of tree-based data structures have been invented. In general, these structures attempt to reduce the required number of distance calculations by efficiently encoding aggregate distance information for the sample. The basic idea is that if point  is very distant from point , and point  is very close to point , then we know that points  and  are very distant, without having to explicitly calculate their distance. In this way, the computational cost of a nearest neighbors search can be reduced to  or better. This is a significant improvement over brute-force for large data.\n",
    "\n",
    "To address the inefficiencies of KD Trees in higher dimensions, the ball tree data structure was developed. Where KD trees partition data along Cartesian axes, ball trees partition data in a series of nesting hyper-spheres. This makes tree construction more costly than that of the KD tree, but results in a data structure which can be very efficient on highly structured data, even in very high dimensions.\n",
    "\n",
    "A ball tree recursively divides the data into nodes defined by a centroid  and radius , such that each point in the node lies within the hyper-sphere defined by  and . The number of candidate points for a neighbor search is reduced through use of the triangle inequality:\n",
    "\n",
    "With this setup, a single distance calculation between a test point and the centroid is sufficient to determine a lower and upper bound on the distance to all points within the node. Because of the spherical geometry of the ball tree nodes, it can out-perform a KD-tree in high dimensions, though the actual performance is highly dependent on the structure of the training data. In scikit-learn, ball-tree-based neighbors searches are specified using the keyword algorithm = 'ball_tree', and are computed using the class sklearn.neighbors.BallTree. Alternatively, the user can work with the BallTree class directly."
   ]
  },
  {
   "cell_type": "code",
   "execution_count": 33,
   "metadata": {},
   "outputs": [
    {
     "data": {
      "text/html": [
       "<div>\n",
       "<style scoped>\n",
       "    .dataframe tbody tr th:only-of-type {\n",
       "        vertical-align: middle;\n",
       "    }\n",
       "\n",
       "    .dataframe tbody tr th {\n",
       "        vertical-align: top;\n",
       "    }\n",
       "\n",
       "    .dataframe thead th {\n",
       "        text-align: right;\n",
       "    }\n",
       "</style>\n",
       "<table border=\"1\" class=\"dataframe\">\n",
       "  <thead>\n",
       "    <tr style=\"text-align: right;\">\n",
       "      <th></th>\n",
       "      <th>10</th>\n",
       "      <th>15</th>\n",
       "      <th>2004</th>\n",
       "      <th>50</th>\n",
       "      <th>ability</th>\n",
       "      <th>accord</th>\n",
       "      <th>add</th>\n",
       "      <th>airline</th>\n",
       "      <th>announce</th>\n",
       "      <th>anti</th>\n",
       "      <th>...</th>\n",
       "      <th>£ 11.5</th>\n",
       "      <th>£ 132</th>\n",
       "      <th>£ 2,000</th>\n",
       "      <th>£ 20</th>\n",
       "      <th>£ 339</th>\n",
       "      <th>£ 4.99</th>\n",
       "      <th>£ 40</th>\n",
       "      <th>£ 5</th>\n",
       "      <th>£ 50</th>\n",
       "      <th>£ 99</th>\n",
       "    </tr>\n",
       "  </thead>\n",
       "  <tbody>\n",
       "    <tr>\n",
       "      <th>0</th>\n",
       "      <td>0.0</td>\n",
       "      <td>0.0</td>\n",
       "      <td>0.000000</td>\n",
       "      <td>0.0</td>\n",
       "      <td>0.0</td>\n",
       "      <td>0.000000</td>\n",
       "      <td>0.0</td>\n",
       "      <td>0.0</td>\n",
       "      <td>0.0</td>\n",
       "      <td>0.0</td>\n",
       "      <td>...</td>\n",
       "      <td>0.0</td>\n",
       "      <td>0.0</td>\n",
       "      <td>0.066238</td>\n",
       "      <td>0.0</td>\n",
       "      <td>0.0</td>\n",
       "      <td>0.0</td>\n",
       "      <td>0.0</td>\n",
       "      <td>0.0</td>\n",
       "      <td>0.0</td>\n",
       "      <td>0.0</td>\n",
       "    </tr>\n",
       "    <tr>\n",
       "      <th>1</th>\n",
       "      <td>0.0</td>\n",
       "      <td>0.0</td>\n",
       "      <td>0.084072</td>\n",
       "      <td>0.0</td>\n",
       "      <td>0.0</td>\n",
       "      <td>0.073768</td>\n",
       "      <td>0.0</td>\n",
       "      <td>0.0</td>\n",
       "      <td>0.0</td>\n",
       "      <td>0.0</td>\n",
       "      <td>...</td>\n",
       "      <td>0.0</td>\n",
       "      <td>0.0</td>\n",
       "      <td>0.000000</td>\n",
       "      <td>0.0</td>\n",
       "      <td>0.0</td>\n",
       "      <td>0.0</td>\n",
       "      <td>0.0</td>\n",
       "      <td>0.0</td>\n",
       "      <td>0.0</td>\n",
       "      <td>0.0</td>\n",
       "    </tr>\n",
       "    <tr>\n",
       "      <th>2</th>\n",
       "      <td>0.0</td>\n",
       "      <td>0.0</td>\n",
       "      <td>0.000000</td>\n",
       "      <td>0.0</td>\n",
       "      <td>0.0</td>\n",
       "      <td>0.000000</td>\n",
       "      <td>0.0</td>\n",
       "      <td>0.0</td>\n",
       "      <td>0.0</td>\n",
       "      <td>0.0</td>\n",
       "      <td>...</td>\n",
       "      <td>0.0</td>\n",
       "      <td>0.0</td>\n",
       "      <td>0.000000</td>\n",
       "      <td>0.0</td>\n",
       "      <td>0.0</td>\n",
       "      <td>0.0</td>\n",
       "      <td>0.0</td>\n",
       "      <td>0.0</td>\n",
       "      <td>0.0</td>\n",
       "      <td>0.0</td>\n",
       "    </tr>\n",
       "    <tr>\n",
       "      <th>3</th>\n",
       "      <td>0.0</td>\n",
       "      <td>0.0</td>\n",
       "      <td>0.000000</td>\n",
       "      <td>0.0</td>\n",
       "      <td>0.0</td>\n",
       "      <td>0.000000</td>\n",
       "      <td>0.0</td>\n",
       "      <td>0.0</td>\n",
       "      <td>0.0</td>\n",
       "      <td>0.0</td>\n",
       "      <td>...</td>\n",
       "      <td>0.0</td>\n",
       "      <td>0.0</td>\n",
       "      <td>0.000000</td>\n",
       "      <td>0.0</td>\n",
       "      <td>0.0</td>\n",
       "      <td>0.0</td>\n",
       "      <td>0.0</td>\n",
       "      <td>0.0</td>\n",
       "      <td>0.0</td>\n",
       "      <td>0.0</td>\n",
       "    </tr>\n",
       "    <tr>\n",
       "      <th>4</th>\n",
       "      <td>0.0</td>\n",
       "      <td>0.0</td>\n",
       "      <td>0.000000</td>\n",
       "      <td>0.0</td>\n",
       "      <td>0.0</td>\n",
       "      <td>0.000000</td>\n",
       "      <td>0.0</td>\n",
       "      <td>0.0</td>\n",
       "      <td>0.0</td>\n",
       "      <td>0.0</td>\n",
       "      <td>...</td>\n",
       "      <td>0.0</td>\n",
       "      <td>0.0</td>\n",
       "      <td>0.000000</td>\n",
       "      <td>0.0</td>\n",
       "      <td>0.0</td>\n",
       "      <td>0.0</td>\n",
       "      <td>0.0</td>\n",
       "      <td>0.0</td>\n",
       "      <td>0.0</td>\n",
       "      <td>0.0</td>\n",
       "    </tr>\n",
       "  </tbody>\n",
       "</table>\n",
       "<p>5 rows × 8240 columns</p>\n",
       "</div>"
      ],
      "text/plain": [
       "    10   15      2004   50   ability    accord   add   airline   announce  \\\n",
       "0  0.0  0.0  0.000000  0.0       0.0  0.000000   0.0       0.0        0.0   \n",
       "1  0.0  0.0  0.084072  0.0       0.0  0.073768   0.0       0.0        0.0   \n",
       "2  0.0  0.0  0.000000  0.0       0.0  0.000000   0.0       0.0        0.0   \n",
       "3  0.0  0.0  0.000000  0.0       0.0  0.000000   0.0       0.0        0.0   \n",
       "4  0.0  0.0  0.000000  0.0       0.0  0.000000   0.0       0.0        0.0   \n",
       "\n",
       "    anti  ...  £ 11.5  £ 132   £ 2,000  £ 20  £ 339  £ 4.99  £ 40  £ 5  £ 50  \\\n",
       "0    0.0  ...     0.0    0.0  0.066238   0.0    0.0     0.0   0.0  0.0   0.0   \n",
       "1    0.0  ...     0.0    0.0  0.000000   0.0    0.0     0.0   0.0  0.0   0.0   \n",
       "2    0.0  ...     0.0    0.0  0.000000   0.0    0.0     0.0   0.0  0.0   0.0   \n",
       "3    0.0  ...     0.0    0.0  0.000000   0.0    0.0     0.0   0.0  0.0   0.0   \n",
       "4    0.0  ...     0.0    0.0  0.000000   0.0    0.0     0.0   0.0  0.0   0.0   \n",
       "\n",
       "   £ 99  \n",
       "0   0.0  \n",
       "1   0.0  \n",
       "2   0.0  \n",
       "3   0.0  \n",
       "4   0.0  \n",
       "\n",
       "[5 rows x 8240 columns]"
      ]
     },
     "execution_count": 33,
     "metadata": {},
     "output_type": "execute_result"
    }
   ],
   "source": [
    "dtm.head()"
   ]
  },
  {
   "cell_type": "code",
   "execution_count": 34,
   "metadata": {},
   "outputs": [
    {
     "data": {
      "text/plain": [
       "NearestNeighbors(algorithm='kd_tree', leaf_size=30, metric='minkowski',\n",
       "                 metric_params=None, n_jobs=None, n_neighbors=5, p=2,\n",
       "                 radius=1.0)"
      ]
     },
     "execution_count": 34,
     "metadata": {},
     "output_type": "execute_result"
    }
   ],
   "source": [
    "from sklearn.neighbors import NearestNeighbors\n",
    "\n",
    "# Fit on DTM\n",
    "nn = NearestNeighbors(n_neighbors=5, algorithm='kd_tree')\n",
    "nn.fit(dtm)"
   ]
  },
  {
   "cell_type": "code",
   "execution_count": 35,
   "metadata": {},
   "outputs": [
    {
     "data": {
      "text/plain": [
       "(array([[0.        , 0.        , 1.12393176, 1.1413679 , 1.16544395]]),\n",
       " array([[  0,  62,  92, 297, 300]]))"
      ]
     },
     "execution_count": 35,
     "metadata": {},
     "output_type": "execute_result"
    }
   ],
   "source": [
    "nn.kneighbors([dtm.iloc[0].values])"
   ]
  },
  {
   "cell_type": "code",
   "execution_count": 36,
   "metadata": {},
   "outputs": [
    {
     "data": {
      "text/plain": [
       "(array([[0.        , 0.        , 0.917936  , 1.09676923, 1.12856411]]),\n",
       " array([[256,  12, 121, 155, 351]]))"
      ]
     },
     "execution_count": 36,
     "metadata": {},
     "output_type": "execute_result"
    }
   ],
   "source": [
    "# Query Using kneighbors \n",
    "nn.kneighbors([dtm.iloc[256]])"
   ]
  },
  {
   "cell_type": "code",
   "execution_count": 37,
   "metadata": {},
   "outputs": [
    {
     "data": {
      "text/plain": [
       "b\"Sony PSP console hits US in March\\n\\nUS gamers will be able to buy Sony's PlayStation Portable from 24 March, but there is no news of a Europe debut.\\n\\nThe handheld console will go on sale for $250 (\\xc2\\xa313\""
      ]
     },
     "execution_count": 37,
     "metadata": {},
     "output_type": "execute_result"
    }
   ],
   "source": [
    "data[256][:200]"
   ]
  },
  {
   "cell_type": "code",
   "execution_count": 38,
   "metadata": {},
   "outputs": [
    {
     "data": {
      "text/plain": [
       "b\"Sony PSP handheld console hits US\\n\\nThe latest handheld gaming gadget, Sony's PlayStation Portable, goes on sale in the US on Thursday.\\n\\nThe entertainment device, which also stores images, music and vi\""
      ]
     },
     "execution_count": 38,
     "metadata": {},
     "output_type": "execute_result"
    }
   ],
   "source": [
    "data[121][:200]"
   ]
  },
  {
   "cell_type": "code",
   "execution_count": 39,
   "metadata": {},
   "outputs": [],
   "source": [
    "rndm_tech_article = [ \"\"\"\n",
    "Final Fantasy VII Remake and Marvel’s Avengers, two of this year’s major releases, have both been postponed. Square Enix, the publisher behind the titles, announced the news Tuesday morning.\n",
    "\n",
    "Avengers is being pushed back four months, with its new release date set for September 4. The arrival of Final Fantasy VII Remake has been bumped by one month, moving from March 3 to April 10.\n",
    "\n",
    "Delays for massive blockbuster games are common around this time of year. With the industry preparing for big, anticipated releases slated for spring, summer and the holidays, the news from Square Enix isn’t all that surprising. Early builds for Marvel’s Avengers received a mixed reception at E3 2019 and subsequent, similar events. Final Fantasy VII fans will likely have a critical eye when revisiting the classic, setting a high bar for developers to clear.\n",
    "\n",
    "Final Fantasy VII Remake is among The Washington Post's most anticipated games of 2020.\n",
    "\n",
    "“We are making this tough decision in order to give ourselves a few extra weeks to apply final polish to the game and to deliver you with the best possible experience,” wrote Final Fantasy VII Remake producer Yoshinori Kitase in a statement. “I, on behalf of the whole team, want to apologize to everyone, as I know this means waiting for the game just a little bit longer.”\n",
    "\n",
    "Marvel’s Avengers’s developer Crystal Dynamics released a similar statement, with studio co-heads Scot Amos and Ron Rosenberg citing “fine tuning and polishing” as the reason for the delay. “We will spend this additional development time focusing on fine tuning and polishing the game to the high standards our fans expect and deserve.”\n",
    "\n",
    "\"\"\"]\n"
   ]
  },
  {
   "cell_type": "code",
   "execution_count": 40,
   "metadata": {},
   "outputs": [],
   "source": [
    "# Query for Sim of Random doc to BBC\n",
    "new = tfidf.transform(rndm_tech_article)"
   ]
  },
  {
   "cell_type": "code",
   "execution_count": 41,
   "metadata": {},
   "outputs": [
    {
     "data": {
      "text/plain": [
       "<1x8240 sparse matrix of type '<class 'numpy.float64'>'\n",
       "\twith 98 stored elements in Compressed Sparse Row format>"
      ]
     },
     "execution_count": 41,
     "metadata": {},
     "output_type": "execute_result"
    }
   ],
   "source": [
    "new"
   ]
  },
  {
   "cell_type": "code",
   "execution_count": 42,
   "metadata": {},
   "outputs": [
    {
     "data": {
      "text/plain": [
       "(array([[1.30295088, 1.30449448, 1.30608363, 1.3116966 , 1.31314237]]),\n",
       " array([[241, 368, 140, 293, 195]]))"
      ]
     },
     "execution_count": 42,
     "metadata": {},
     "output_type": "execute_result"
    }
   ],
   "source": [
    "nn.kneighbors(new.todense())"
   ]
  },
  {
   "cell_type": "code",
   "execution_count": 43,
   "metadata": {},
   "outputs": [
    {
     "data": {
      "text/plain": [
       "b'Losing yourself in online gaming\\n\\nOnline role playing games are time-consuming, but enthralling flights from reality. But are some people taking their fantasy lives too seriously?\\n\\nWhen video game World of Warcraft hit the shops in Europe last week fans wrote in to the BBC website to express their delight - and to offer a warning. \"An addiction to a game like this is far more costly in time than any substance could impair - keep track of time,\" wrote Travis Anderson, in Texas. Some of the comments were humorous: \"This game is so good I\\'m not going to get it, there\\'s no way I could limit the hours I\\'d spend playing it,\" wrote Charles MacIntyre, from England.\\n\\nBut some struck a more worrying tone about the Massively Multiplayer Online Role Playing Game (MMORPG): \"\\'You need to get out more\\' could be the motto of any MMORPG. Shame they are getting more popular, as you know this problem is just going to mushroom,\" wrote Stuart Stanton-Davies, in Huddersfield. Scare-mongering articles about \"addictive video games\" have existed since the days the first game of Pong stopped everyone from working at the Atari offices.\\n\\nGaming is like any other pastime - it can quickly become an unhealthy obsession, whether it is spending too much time in the gym, in front of the television, or reading poetry.\\n\\nUnfortunately, gaming and addiction is a far too easy association to make. However, stories about gamers spending 10 to 15 hours a day in front of some video games are becoming more frequent. And the impact that is having on their families is quite distressing for some.\\n\\nMassively multiplayer online role playing games - MMORPGs - allow thousands of gamers to share a common experience of sharing fantasy or science fiction worlds. The scope of these games - like Warcraft, EverQuest, Ultima among others - is epic, and exploration and adventure is almost infinite. Part of the \"problem\" is grinding - by which gamers have to perform long-winded, mindless tasks, to bring up their levels and gain access to more adventure. Such open-endedness brings with it a desire to keep playing; not for no reason is EverQuest (EQ) nicknamed EverCrack. E Hayot, writing in the culture blogzine Print Culture, said recently: \"I used to play the online role-playing game EverQuest a lot. \"By \\'a lot\\', I mean probably 15 to 20 hours a week on average, and on weeks where I didn\\'t have to work, as many as 30 or 40 hours.\"\\n\\nHe says that in the world of online gaming such behaviour \"wasn\\'t that unusual; lots of people I knew in the game played EQ that much\". \"You lie; you don\\'t go into work because you \"had stuff to do at home\"; you cancel or refuse invitations to dinner, you spend much less time watching TV (a good thing, presumably),\" he wrote, explaining how EverQuest took over his time. He quit the game, he says, because he realised life was more fun than EverQuest.\\n\\nLet us be clear - such obsession is rare. But the huge growth in online gaming means a growth in the numbers of people who take their passion for a hobby too far. Almost 400,000 people bought a copy of World of Warcraft in the first two days on sale earlier this month. Only a fraction will descend into obsessives. The thoughts of families and friends of gamers who have been affected by EverQuest can be found on one blog EverQuest Daily Grind. Jane, who runs the website, compiles a chronicle of heart-rending stories. \"I am actually convinced at this point that there are more than \\'some\\' people who spend more times in MMOPRGs than in reality,\" she said. One unnamed correspondent - all are anonymous - wrote: \"On the rare nights when my husband does come to bed at the same time as I do, I find that I am so used to sleeping by myself that it is difficult to get to sleep with another body laying next to me.\\n\\n\"I can\\'t talk to him while he is playing. There is absolutely no point as he doesn\\'t hear me or is so distracted that I get a \\'ummm... ya\\' a few minutes after I ask him a question.\"\\n\\n\"Gaming widows\" has become a comedic term for women who have been shut out by male gamers. But for some it is not in the least funny. Another correspondent wrote: \"I believe that he is addicted to the online gaming, and that is the cause of his depression and restlessness.\" And some of them are even sadder: \"Today our son was five days old. \"The sad truth is my husband spent 11 hours today playing his Warcraft game. He did not interact with our sweet tiny baby because there were important quests waiting online.\" Video game fans often complain that their hobby is misunderstood or marginalised. But as gaming becomes ever more mainstream, and games ever more immersive, there will be no hiding place for social problems.\\n\\n\\n\\nI wish 30-40 hours a week was unusual but I think it probably isn\\'t. An 11 hour stretch isn\\'t that surprising - I\\'ve known people to play 15+ hours at a stretch. I know of people who are spending their week\\'s holiday from work playing Warcraft. I know of people who would play Ever[Crack] in shifts...waking at 3am to take over from their friends and resume waiting for an item they \\'needed\\' to appear. I understand that the key sign of an addiction is if you alter your life around it rather than fit it into your life. By all standards many of us are addicts. So is the solution to force ourselves to stop playing..or do we just need to make real life a bit more interesting?\\n\\nSadly with all the talk of people becoming obsessed with gaming, I find myself longing to have the time to join them. I have been in a long term relationship for over 4 years - since that began, games have become more and more complex. And more and more so I find I have less and less time to play them, with and marriage and work being the main drag on my time.\\n\\nI think the line between playing a game a lot and a gaming addiction is really quite distinct. I play games a lot, definately over 20 hours a week, but I don\\'t go missing work or other commitments in order to play games.\\n\\nI have, about a year ago, deleted every game on my computer. RPGs are the worst - the real world fades and all your worries sorround a new magic staff or mighty sword. Unlike books, or perhaps even TV, you gain absolutely nothing. When you stop playing you\\'re at the same point as when you started; all the achievements of your 10 hour session are irretrievably locked in the game and, since you\\'ve gained nothing in the real world, you may as well pile on more achievement in the fake one.\\n\\nDespite having little monetary value, the \"rewards\" and encouragement offered by these MMORPGs is enough to hook games for hours daily. If only business could learn to leverage that very simply human need for easily measurable progress and recognition. Perhaps the unhealthily obsessed simply need more recognition for their achievements in reality?\\n\\nMy advice to gaming widows is \"if you can\\'t beat \\'em, join \\'em\". That is, try playing it yourself. If he wants to play as well, well at least you\\'ll be together somewhere...\\n\\nI was an addict and it cost me my relationship. I still play now, but without the guilt , hehe, How long have i played in one sitting? From morning till the early hours of the next day, the birds were singing out side and i had to hobble to the bath room cos my bladder was so full i was in pain, i would hardly eat, perhaps some toast, smoke endlessly and drink. Now, thankfully the fascination has worn off and I have a girlfriend but still no job. For the most part online gaming give me an adiction to illusory achievement, and as there is no end in sight you keep going for the mirage of the ultimate.\\n\\nObsessive behaviour is, of course, always cause for concern, but it always bothers me when articles about gaming talk in terms of \"reality\". Obviously, somebody who spends thirty hours a week playing EverQuest has a problem. This problem, however, has nothing to do with a dysfunctional sense of reality. An obsessive EQ player does not consider the game to be \"real\" any more than - for example - an obsessive automotive tinkerer considers their car to be human. If MMORPGs have a unique danger, in terms of encouraging obsessive behaviour, it is not that they create an absorbing virtual world, but rather that they can be easily accessed 24/7. The problem here does not lie with the nature of gaming, but with the nature of modern 24 hour culture.\\n\\nThe problem with these so called MMORPGS is that you can never really complete them, there\\'s always another quest to do. A few of my friends have only had about 10 hours sleep since it was released friday...\\n\\nChampionship Manager consumed my life for years. One particular session started at about 2pm on a Sunday, paused for a brief sleep at 5am on the Monday and after visit to University for classes restarted at about midday for another 10 hour session. The people who tend to hark on about about the problems of \"hardcore gaming\" seem to be those who have rarely allowed themselves to become immersed in a game. I would expect their perspective to change if they were to do that.\\n\\nI used to be an EverQuest addict while I was in college. It came to the point where the gaming world felt more real than the real one. I failed alot of my courses and was able to barely graduate. I was lucky that I came to my senses when I did, others were less fortunate and dropped out of college. Now that I am holding a job, I avoid online RPGS like the plague.\\n\\nWhen I was made redundant I told my partner I had a new job for three months whilst every day I played EverQuest from 7:30am till 5:pm. When She came home I pretended I had just got in as well, hence justifying playing it all evening. I have since quit playing MMORPG and have a good job.\\n\\nWhen I got to the point where I was eating my dinner in front of the PC I realised things were getting silly so I\\'m trying not to spend so much time on there. It\\'s not easy. I feel as if I\\'ve got a real addiction going on here.\\n\\nFor me the problem is that I love to complete a goal. Once it is completed that is it, I am finished, time to move on. I become obsessed to complete the goal, so from that standpoint it is an addiction. In a game where you will never complete an \"ultimate\" goal, well it would be like falling into a black pit. It is easier to escape into a controlled fantasy world than face reality at times - in other words the goal offered in the PC game are \"easier\" and more fun than the real world. Pretty scary implications if you think about it.\\n\\nI can\\'t buy World of Warcraft as it would destroy my marrage, I just know it!!\\n\\nI played Star Wars Galaxies for about a year and can attest to the addictiveness of these games. They are all engineered in such a way that early on in the game you progress quickly, but this progress becomes exponentially slower, requiring more and more time to reach the next level. I\\'m sad to say that at the peak of my addiction I was spending entire weekends in front of my monitor, slowly building up my character, stopping only for food and toilet breaks. Thankfully I made a clean break, and actually managed to sell my Jedi account for \\xc2\\xa3800 - which is my only sanity check in an otherwise completely unproductive time vacuum.\\n\\nSeven years ago, I began playing Ultima Online. This game dominated 2 years of my life. They were 2 wonderful years and I still have vivid memories of the experiences and friends I had. Online gaming can be a world of escapism where you can be yourself without fear of the thoughts of others. Something that cannot always be achieved in the day to day running of a normal life. Whilst I would warn against people giving to much of there life to these games, I believe they are a better way to spend your time than say watching TV.\\n\\nGaming is addictive and should be made a recognised addiction. When I was single I used to play upto eight hours a night after work every night for about a year, building up my stats, completing evermore quests and battling ogres. But somehow I found time to get out, even met someone and got married! Has my life changed? Hell no! I still cast spells and battle till the early hours of the morning. On with the fun!\\n\\nOnline gaming should be enjoyed just as much as you would enjoy watching television, or going to the cinema or the pub with your mates.\\n\\nMany people use recreational drugs on an occasional basis and are able to lead succesfull lives with families, relationships and good careers. A minority allow drugs to take over and destroy their lives and become addicted. According to this article the same is true of MMORPGs. The message to the government is clear, either legalise drugs, or outlaw online gaming!!\\n\\nSounds like there are some sad stories here - and I can believe them all. I play alot of Warcraft myself, and know full well how addictive it is. I am resolute that it will not take over my life. It certainly gets in the way though. I think that some people simply do not know how to draw this line, or lack the willpower to stop themselves stepping over it.\\n\\nI think I\\'m obsessed with gaming in general, I spend far too much time playing games like Everquest 2 and Football Manager rather than going out and interacting with real people and when I do try to, I\\'m always thinking in the back if my mind that I\\'d rather be in front of the computer winning the league with Cambridge United.\\n\\nI am obsessed with online role playing games. It\\'s not so much quests but it has the adrenaline of a real life situation - goals to achieve etc. I spend about five hours per day online playing it and I rarely get more than four to five hours sleep before getting up for work the next morning...\\n\\nAs many of the players spend their time in MMORPGs rather than in front of the TV I fail to see how it will affect players social lives negatively. Furthermore these types of games contain a huge social aspect, whereas other games and some other pursuits (such as being a couch potato) the players could be indulging in are solitary by nature.\\n\\nThese games are like most things -- too much of anything is a bad thing, but as long as you can walk away from the computer to do other things too, they can be great fun.\\n\\nLiving in Korea at the moment, they have lots PC Bangs (Internet Cafes). Nearly most of South Koreans are addicted to online games, and one Korean died because of the lack of food and water he had through playing online games.\\n\\nI play xbox live every day. I find my self lying and rescheduling everything around my gaming fix. The longest I played was a 24 hour straight session. I know I play for to long but it\\'s an obsession that I can\\'t control. Can you reccomend a counsellor - this is not a wind up... but something I\\'m increasingly concerned with...\\n\\nMe and my mate play online for an hour or two a day, we\\'re both aware of how much time can disappear by sitting in front of a TV, trying to \\'frag\\' some individual. It\\'s getting the balance between getting home and relasing the stress of a day by an hour or so gaming, and enjoying \\'real\\' life...\\n\\nI bought the US version of World of Warcraft when it came out. The longest period I played was 23 hrs straight. I gave up the game after a month because it was so addictive, but have subsequently just bought the European version (couldn\\'t help myself). In future, I\\'m going to regulate my time far more strictly. Great game!\\n\\nHaving played MMORPG games for some years I agree that these type of games can be life sucking. But my concern is for the younger generation of gamers that play for hours on end in an adult enviroment. Most MMORPG games you need a credit card to play but I dont think parents know just what they are letting there children into.\\n\\nUnless there is undeniable medical proof that staring at a computer screens for hours at a time can damage a person&#191;s health, you can expect this not to decline but to get worse.\\n\\nThese people are pathetic. They need to get off their machines and notice that our world is being swiftly overcome by issues and troubles that make the trifling worries of and \"online universe\" absolutely meaningless.\\n\\n24hours, when i was a kid at school and i was on half term, Ultima Online was the game, ahhhh them was the days ! LOL\\n'"
      ]
     },
     "execution_count": 43,
     "metadata": {},
     "output_type": "execute_result"
    }
   ],
   "source": [
    "# Inspect Most relevant result\n",
    "data[140]"
   ]
  },
  {
   "cell_type": "markdown",
   "metadata": {},
   "source": [
    "## Challenge\n",
    "\n",
    "In the module project assignment, you will apply one of these search techniques to retrieve documents related to a query document. "
   ]
  },
  {
   "cell_type": "markdown",
   "metadata": {},
   "source": [
    "# Apply word embedding models to create document vectors (Learn)\n",
    "<a id=\"p3\"></a>"
   ]
  },
  {
   "cell_type": "markdown",
   "metadata": {},
   "source": [
    "## Overview\n",
    "### BoW discards textual context\n",
    "\n",
    "One of the limitations of Bag-of-Words approaches is that any information about the textual context surrounding that word is lost. This also means that with bag-of-words approaches often the only tools that we have for identifying words with similar usage or meaning and subsequently consolidating them into a single vector is through the processes of stemming and lemmatization which tend to be quite limited at consolidating words unless the two words are very close in their spelling or in their root parts-of-speech.\n",
    "\n",
    "### Embedding approaches preserve more textual context\n",
    "Word2Vec is an increasingly popular word embedding technique. Like Bag-of-words it learns a real-value vector representation for a predefined fixed-size vocabulary that is generated from a corpus of text. However, in contrast to BoW, Word2Vec approaches are much more capable of accounting for textual context, and are better at discovering words with similar meanings or usages (semantic or syntactic similarity).\n",
    "\n",
    "### Word2Vec Intuition\n",
    "### The Distribution Hypothesis\n",
    "\n",
    "In order to understand how Word2Vec preserves textual context we have to understand what's called the Distribution Hypothesis (Reference: Distribution Hypothesis Theory  -https://en.wikipedia.org/wiki/Distributional_semantics. The Distribution Hypothesis operates under the assumption that words that have similar contexts will have similar meanings. Practically speaking, this means that if two words are found to have similar words both to the right and to the left of them throughout the corpora then those words have the same context and are assumed to have the same meaning. \n",
    "\n",
    "> \"You shall know a word by the company it keeps\" - John Firth\n",
    "\n",
    "This means that we let the usage of a word define its meaning and its \"similarity\" to other words. In the following example, which words would you say have a similar meaning? \n",
    "\n",
    "**Sentence 1**: Traffic was light today\n",
    "\n",
    "**Sentence 2**: Traffic was heavy yesterday\n",
    "\n",
    "**Sentence 3**: Prediction is that traffic will be smooth-flowing tomorrow since it is a national holiday\n",
    "\n",
    "What words in the above sentences seem to have a similar meaning if all you knew about them was the context in which they appeared above? \n",
    "\n",
    "Lets take a look at how this might work in action, the following example is simplified, but will give you an idea of the intuition for how this works.\n",
    "\n",
    "#### Corpora:\n",
    "\n",
    "1) \"It was the sunniest of days.\"\n",
    "\n",
    "2) \"It was the raniest of days.\"\n",
    "\n",
    "#### Vocabulary:\n",
    "\n",
    "{\"it\": 1, \"was\": 2, \"the\": 3, \"of\": 4, \"days\": 5, \"sunniest\": 6, \"raniest\": 7}\n",
    "\n",
    "### Vectorization\n",
    "\n",
    "|       doc   | START_was | it_the | was_sunniest | the_of | sunniest_days | of_it | days_was | it_the | was_raniest | raniest_days | of_END |\n",
    "|----------|-----------|--------|--------------|--------|---------------|-------|----------|--------|-------------|--------------|--------|\n",
    "| it       | 1         | 0      | 0            | 0      | 0             | 0     | 1        | 0      | 0           | 0            | 0      |\n",
    "| was      | 0         | 1      | 0            | 0      | 0             | 0     | 0        | 1      | 0           | 0            | 0      |\n",
    "| the      | 0         | 0      | 1            | 0      | 0             | 0     | 0        | 0      | 1           | 0            | 0      |\n",
    "| sunniest | 0         | 0      | 0            | 1      | 0             | 0     | 0        | 0      | 0           | 0            | 0      |\n",
    "| of       | 0         | 0      | 0            | 0      | 1             | 0     | 0        | 0      | 0           | 1            | 0      |\n",
    "| days     | 0         | 0      | 0            | 0      | 0             | 0     | 0        | 0      | 0           | 0            | 1      |\n",
    "| raniest  | 0         | 0      | 0            | 1      | 0             | 0     | 0        | 0      | 0           | 0            | 0      |\n",
    "\n",
    "Each column vector represents the word's context -in this case defined by the words to the left and right of the center word. How far we look to the left and right of a given word is referred to as our \"window of context.\" Each row vector represents the the different usages of a given word. Word2Vec can consider a larger context than only words that are immediately to the left and right of a given word, but we're going to keep our window of context small for this example. What's most important is that this vectorization has translated our documents from a text representation to a numeric one in a way that preserves information about the underlying context. \n",
    "\n",
    "We can see that words that have a similar context will have similar row-vector representations, but before looking that more in-depth, lets simplify our vectorization slightly. You'll notice that we're repeating the column-vector \"it_the\" twice. Lets combine those into a single vector by adding them element-wise. \n",
    "\n",
    "|       *   | START_was | it_the | was_sunniest | the_of | sunniest_days | of_it | days_was | was_raniest | raniest_days | of_END |\n",
    "|----------|-----------|--------|--------------|--------|---------------|-------|----------|-------------|--------------|--------|\n",
    "| it       | 1         | 0      | 0            | 0      | 0             | 0     | 1        | 0           | 0            | 0      |\n",
    "| was      | 0         | 2      | 0            | 0      | 0             | 0     | 0        | 0           | 0            | 0      |\n",
    "| the      | 0         | 0      | 1            | 0      | 0             | 0     | 0        | 1           | 0            | 0      |\n",
    "| sunniest | 0         | 0      | 0            | 1      | 0             | 0     | 0        | 0           | 0            | 0      |\n",
    "| of       | 0         | 0      | 0            | 0      | 1             | 0     | 0        | 0           | 1            | 0      |\n",
    "| days     | 0         | 0      | 0            | 0      | 0             | 0     | 0        | 0           | 0            | 1      |\n",
    "| raniest  | 0         | 0      | 0            | 1      | 0             | 0     | 0        | 0           | 0            | 0      |\n",
    "\n",
    "Now, can you spot which words have a similar row-vector representation? Hint: Look for values that are repeated in a given column. Each column represents the context that word was found in. If there are multiple words that share a context then those words are understood to have a closer meaning with each other than with other words in the text.\n",
    "\n",
    "Lets look specifically at the words sunniest and raniest. You'll notice that these two words have exactly the same 10-dimensional vector representation. Based on this very small corpora of text we would conclude that these two words have the same meaning because they share the same usage. Is this a good assumption? Well, they are both referring to the weather outside so that's better than nothing. You could imagine that as our corpora grows larger we will be exposed a greater number of contexts and the Distribution Hypothesis assumption will improve. \n",
    "\n",
    "### Word2Vec Variants\n",
    "\n",
    "#### Skip-Gram\n",
    "\n",
    "The Skip-Gram method predicts the neighbors’ of a word given a center word. In the skip-gram model, we take a center word and a window of context (neighbors) words to train the model and then predict context words out to some window size for each center word.\n",
    "\n",
    "This notion of “context” or “neighboring” words is best described by considering a center word and a window of words around it. \n",
    "\n",
    "For example, if we consider the sentence **“The speedy Porsche drove past the elegant Rolls-Royce”** and a window size of 2, we’d have the following pairs for the skip-gram model:\n",
    "\n",
    "**Text:**\n",
    "**The**\tspeedy\tPorsche\tdrove\tpast\tthe\telegant\tRolls-Royce\n",
    "\n",
    "*Training Sample with window of 2*: (the, speedy), (the, Porsche)\n",
    "\n",
    "**Text:**\n",
    "The\t**speedy**\tPorsche\tdrove\tpast\tthe\telegant\tRolls-Royce\n",
    "\n",
    "*Training Sample with window of 2*: (speedy, the), (speedy, Porsche), (speedy, drove)\n",
    "\n",
    "**Text:**\n",
    "The\tspeedy\t**Porsche**\tdrove\tpast\tthe\telegant\tRolls-Royce\n",
    "\n",
    "*Training Sample with window of 2*: (Porsche, the), (Porsche, speedy), (Porsche, drove), (Porsche, past)\n",
    "\n",
    "**Text:**\n",
    "The\tspeedy\tPorsche\t**drove**\tpast\tthe\telegant\tRolls-Royce\n",
    "\n",
    "*Training Sample with window of 2*: (drove, speedy), (drove, Porsche), (drove, past), (drove, the)\n",
    "\n",
    "The **Skip-gram model** is going to output a probability distribution i.e. the probability of a word appearing in context given a center word and we are going to select the vector representation that maximizes the probability.\n",
    "\n",
    "With CountVectorizer and TF-IDF the best we could do for context was to look at common bi-grams and tri-grams (n-grams). Well, skip-grams go far beyond that and give our model much stronger contextual information.\n",
    "\n",
    "![alt text](https://www.dropbox.com/s/c7mwy6dk9k99bgh/Image%202%20-%20SkipGrams.jpg?raw=1)\n",
    "\n",
    "## Continuous Bag of Words\n",
    "\n",
    "This model takes thes opposite approach from the skip-gram model in that it tries to predict a center word based on the neighboring words. In the case of the CBOW model, we input the context words within the window (such as “the”, “Proshe”, “drove”) and aim to predict the target or center word “speedy” (the input to the prediction pipeline is reversed as compared to the SkipGram model).\n",
    "\n",
    "A graphical depiction of the input to output prediction pipeline for both variants of the Word2vec model is attached. The graphical depiction will help crystallize the difference between SkipGrams and Continuous Bag of Words.\n",
    "\n",
    "![alt text](https://www.dropbox.com/s/k3ddmbtd52wq2li/Image%203%20-%20CBOW%20Model.jpg?raw=1)\n",
    "\n",
    "## Notable Differences between Word Embedding methods:\n",
    "\n",
    "1) W2V focuses less document topic-modeling. You'll notice that the vectorizations don't really retain much information about the original document that the information came from. At least not in our examples.\n",
    "\n",
    "2) W2V can result in really large and complex vectorizations. In fact, you need Deep Neural Networks to train your Word2Vec models from scratch, but we can use helpful pretrained embeddings (thank you Google) to do really cool things!\n",
    "\n",
    "*^ All that noise....AND Spacy has pretrained a Word2Vec model you can just use? WTF JC?*\n",
    "\n",
    "Let's take a look at how to do it. "
   ]
  },
  {
   "cell_type": "code",
   "execution_count": 44,
   "metadata": {},
   "outputs": [
    {
     "name": "stdout",
     "output_type": "stream",
     "text": [
      "[ 2.07984239e-01 -2.60890484e-01 -1.15457252e-01 -1.96443751e-01\n",
      " -2.83249468e-03  3.55849974e-02 -2.05170006e-01 -2.27374747e-01\n",
      "  8.56052488e-02  1.36894751e+00 -5.74124977e-02  8.06210041e-02\n",
      "  2.37275064e-02  1.17454052e-01 -6.53099641e-03 -1.24400005e-01\n",
      "  1.99086756e-01  6.37722552e-01  1.52916998e-01 -2.33504996e-01\n",
      " -2.40909994e-01 -7.11500049e-02 -9.10753161e-02  7.16734976e-02\n",
      "  1.16262749e-01 -3.91372502e-01  1.13048747e-01 -2.11327493e-01\n",
      "  1.09019078e-01 -2.44885415e-01  3.00577488e-02  4.77855802e-02\n",
      "  7.37800002e-02  2.57142037e-01  2.62586236e-01 -1.66897491e-01\n",
      "  1.87596500e-01 -1.23680010e-02 -1.76299751e-01  1.11685000e-01\n",
      "  1.82024967e-02  9.86500084e-03 -3.58770013e-01 -2.23265499e-01\n",
      " -4.37720008e-02  3.63999486e-01  7.42954984e-02  1.21225506e-01\n",
      "  1.37013003e-01 -5.50666526e-02  2.66017504e-02  8.87180045e-02\n",
      " -1.14092499e-01 -2.02865750e-01  3.63092512e-01 -3.08394760e-01\n",
      "  1.13859497e-01  3.13650146e-02  2.62076259e-01  1.90399922e-02\n",
      "  7.24634901e-02  2.79004984e-02  8.65525007e-02  6.92452565e-02\n",
      " -9.77424979e-02 -1.47966757e-01  2.32025003e-03  1.62278250e-01\n",
      "  1.59857497e-02  3.52048993e-01 -5.51802553e-02  2.13179991e-01\n",
      "  3.63152504e-01  1.01501703e-01  1.73463732e-01  9.20909941e-02\n",
      "  1.27134249e-01  1.00527555e-02  2.44570002e-01 -6.89124968e-03\n",
      "  6.30075037e-02  1.31706819e-01 -1.36811763e-01 -3.73892523e-02\n",
      " -1.71941705e-02 -1.47585243e-01  2.69147515e-01  1.97296605e-01\n",
      " -1.14209257e-01  7.49210045e-02  1.12407543e-02  6.53382465e-02\n",
      "  7.39065409e-02 -1.47568747e-01 -9.98437554e-02  2.56100774e-01\n",
      "  3.41899954e-02 -1.95817441e-01  1.52259752e-01 -2.98299998e-01\n",
      "  3.71480025e-02  1.38142243e-01 -3.84989977e-02 -2.02540010e-02\n",
      "  2.38000415e-03 -8.94232512e-01  1.20125249e-01 -1.48699433e-03\n",
      "  3.07812482e-01  1.31904989e-01  2.28665009e-01 -4.28467512e-01\n",
      " -1.50100499e-01 -3.99947166e-05  7.09750131e-03 -9.08460468e-02\n",
      "  1.15139998e-01  2.73323029e-01  6.97097555e-02  1.37960017e-01\n",
      " -7.76264742e-02 -3.58945057e-02  1.47073746e-01 -2.70538747e-01\n",
      " -4.16769907e-02 -2.20907256e-01  1.29162997e-01  5.66806756e-02\n",
      " -2.10923001e-01 -1.12912245e-01 -1.24349967e-02  2.90902629e-02\n",
      " -9.14399922e-02  1.48545001e-02  1.73015013e-01  2.45295018e-01\n",
      "  2.36412495e-01  1.51691005e-01 -6.30199909e-02  2.67812014e-01\n",
      " -1.31286001e+00 -7.58474991e-02  1.29823506e-01 -1.51231751e-01\n",
      " -8.19625035e-02  1.39788002e-01 -1.48047015e-01  6.38692454e-02\n",
      "  2.33854756e-01 -9.88075137e-03  1.93658501e-01  2.27525085e-03\n",
      "  4.02045511e-02 -4.90897447e-02 -3.33292484e-01 -2.25562245e-01\n",
      " -2.13249400e-03 -1.25110000e-01 -2.07584769e-01 -8.20675045e-02\n",
      " -3.08577478e-01  2.42340490e-01  1.01082012e-01  1.69142485e-02\n",
      " -2.96225518e-01 -2.39765748e-01 -2.06788242e-01 -2.19947502e-01\n",
      "  1.32491991e-01  2.83937510e-02 -2.12792531e-02  2.11183250e-01\n",
      "  7.47520030e-02  5.15667535e-02 -2.79584527e-01  5.96700013e-02\n",
      " -1.40897244e-01 -7.72149861e-03  9.76998210e-02 -2.29924992e-01\n",
      " -3.91512439e-02 -2.62144983e-01 -9.46324915e-02 -1.49488509e-01\n",
      " -4.47402522e-02  4.87175062e-02 -1.00491997e-02 -1.57508999e-01\n",
      "  1.83425248e-01 -7.38234967e-02 -5.53542078e-02  3.62554997e-01\n",
      "  6.00774996e-02 -3.51069048e-02 -2.12482512e-02 -5.44437282e-02\n",
      "  5.77000529e-03 -4.17417213e-02 -2.30720505e-01  3.05450335e-03\n",
      " -2.60736495e-01  9.90725309e-03  1.44257501e-01  1.58988327e-01\n",
      "  3.12480003e-01 -4.21992540e-02  1.47941500e-01 -2.60480493e-03\n",
      " -1.18254803e-01  3.76944989e-02  8.56549889e-02  2.98762500e-01\n",
      " -1.82907507e-01 -5.01237512e-01 -3.22812736e-01 -1.04721501e-01\n",
      " -2.11069018e-01 -1.58998221e-01 -1.63172990e-01 -1.53411508e-01\n",
      " -4.72389996e-01 -2.52688266e-02  6.80677444e-02 -3.47925007e-01\n",
      "  1.00139998e-01  3.17759998e-02 -2.02882513e-02  2.72649899e-02\n",
      "  2.80047543e-02  6.36423454e-02 -2.32529998e-01  1.78696245e-01\n",
      " -4.16299030e-02 -6.78092465e-02 -1.87866479e-01 -3.47625017e-01\n",
      "  5.43992445e-02 -1.05034754e-01  3.68332490e-02  2.01451257e-01\n",
      " -2.68060744e-01 -7.03077465e-02 -3.46807480e-01  1.18331507e-01\n",
      "  3.82332467e-02 -1.15444995e-01 -9.92614999e-02 -4.42850590e-03\n",
      " -3.42225015e-01  3.17104995e-01 -1.48628756e-01 -6.13242462e-02\n",
      " -8.43070000e-02  1.16139993e-01  1.61483496e-01  1.70949996e-01\n",
      "  1.95979327e-01  2.56112486e-01 -2.15889998e-02 -2.78974995e-02\n",
      "  2.59169757e-01  1.79182500e-01 -2.46662006e-01  1.68815508e-01\n",
      " -3.45774740e-03  2.30412483e-01 -1.22785002e-01  2.36632437e-01\n",
      " -4.52876002e-01 -3.92082512e-01 -2.01881751e-01 -1.27992496e-01\n",
      "  2.75517516e-02  5.54060042e-02 -3.12609941e-01  1.01338752e-01\n",
      "  1.83728248e-01  4.08405006e-01  1.23905048e-01  4.37955022e-01\n",
      "  2.54640013e-01 -6.01055101e-02 -2.90097505e-01  7.99837485e-02\n",
      "  6.81065023e-02  6.80774972e-02  1.45408496e-01 -1.65033251e-01\n",
      " -6.48526996e-02 -1.71237499e-01 -5.75472489e-02 -4.43175063e-03\n",
      "  2.72267759e-01 -2.11504504e-01 -2.87027508e-01  3.25110495e-01\n",
      " -4.72727492e-02 -3.86672527e-01  2.08224997e-01  1.24032997e-01]\n"
     ]
    }
   ],
   "source": [
    "# Process a text\n",
    "nlp = spacy.load('en_core_web_lg')\n",
    "\n",
    "doc = nlp(\"Two bananas in pyjamas\")\n",
    "\n",
    "# Get the vector for the token \"bananas\"\n",
    "bananas_vector = doc.vector\n",
    "print(bananas_vector)"
   ]
  },
  {
   "cell_type": "code",
   "execution_count": 45,
   "metadata": {},
   "outputs": [
    {
     "data": {
      "text/plain": [
       "300"
      ]
     },
     "execution_count": 45,
     "metadata": {},
     "output_type": "execute_result"
    }
   ],
   "source": [
    "len(bananas_vector)"
   ]
  },
  {
   "cell_type": "code",
   "execution_count": 46,
   "metadata": {},
   "outputs": [
    {
     "name": "stdout",
     "output_type": "stream",
     "text": [
      "0.6325917019333428\n"
     ]
    }
   ],
   "source": [
    "doc1 = nlp(\"It's a warm summer day\")\n",
    "doc2 = nlp(\"I like dogs.\")\n",
    "\n",
    "# Get the similarity of doc1 and doc2\n",
    "similarity = doc1.similarity(doc2)\n",
    "print(similarity)"
   ]
  },
  {
   "cell_type": "code",
   "execution_count": 47,
   "metadata": {},
   "outputs": [
    {
     "data": {
      "text/plain": [
       "array([[ 5.15021219, -1.02589405],\n",
       "       [ 4.68847306, -0.32752874],\n",
       "       [ 4.18183622, -1.25490821],\n",
       "       [ 2.3045236 , -0.62841121],\n",
       "       [-1.6975279 , -1.26790577],\n",
       "       [-2.19008419,  0.0674359 ],\n",
       "       [-2.41987038, -1.23168885],\n",
       "       [-2.4303113 , -2.84156896],\n",
       "       [-1.9405539 , -2.55571106],\n",
       "       [-2.16312982, -2.6337209 ],\n",
       "       [ 0.66759362,  0.42236702],\n",
       "       [-0.36687779,  4.15296085],\n",
       "       [-1.89448123,  1.39241361],\n",
       "       [-1.44081158,  2.52885279],\n",
       "       [-0.87134078,  2.86535252],\n",
       "       [ 0.42235018,  2.33795505]])"
      ]
     },
     "execution_count": 47,
     "metadata": {},
     "output_type": "execute_result"
    }
   ],
   "source": [
    "# import the PCA module from sklearn\n",
    "from sklearn.decomposition import PCA\n",
    "\n",
    "def get_word_vectors(words):\n",
    "    # converts a list of words into their word vectors\n",
    "    return [nlp(word).vector for word in words]\n",
    "\n",
    "words = ['car', 'truck', 'suv', 'race', 'elves', 'dragon', 'sword', 'king', 'queen', 'prince', 'horse', 'fish' , 'lion', 'tiger', 'lynx', 'potato']\n",
    "\n",
    "# intialise pca model and tell it to project data down onto 2 dimensions\n",
    "pca = PCA(n_components=2)\n",
    "\n",
    "# fit the pca model to our 300D data, this will work out which is the best \n",
    "# way to project the data down that will best maintain the relative distances \n",
    "# between data points. It will store these intructioons on how to transform the data.\n",
    "pca.fit(get_word_vectors(words))\n",
    "\n",
    "# Tell our (fitted) pca model to transform our 300D data down onto 2D using the \n",
    "# instructions it learnt during the fit phase.\n",
    "word_vecs_2d = pca.transform(get_word_vectors(words))\n",
    "\n",
    "# let's look at our new 2D word vectors\n",
    "word_vecs_2d"
   ]
  },
  {
   "cell_type": "code",
   "execution_count": 48,
   "metadata": {},
   "outputs": [
    {
     "data": {
      "image/png": "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\n",
      "text/plain": [
       "<Figure size 1440x1080 with 1 Axes>"
      ]
     },
     "metadata": {
      "needs_background": "light"
     },
     "output_type": "display_data"
    }
   ],
   "source": [
    "# create a nice big plot \n",
    "plt.figure(figsize=(20,15))\n",
    "\n",
    "# plot the scatter plot of where the words will be\n",
    "plt.scatter(word_vecs_2d[:,0], word_vecs_2d[:,1])\n",
    "\n",
    "# for each word and coordinate pair: draw the text on the plot\n",
    "for word, coord in zip(words, word_vecs_2d):\n",
    "    x, y = coord\n",
    "    plt.text(x, y, word, size= 15)\n",
    "\n",
    "# show the plot\n",
    "plt.show()"
   ]
  },
  {
   "cell_type": "markdown",
   "metadata": {},
   "source": [
    "## Follow Along\n",
    "### Extract Document Vectors\n",
    "\n",
    "Let's see how much the quality of our query will work when we try a new embedding model.\n",
    "\n",
    "Steps:\n",
    "* Extract Vectors from Each Document\n",
    "* Search using KNN\n"
   ]
  },
  {
   "cell_type": "code",
   "execution_count": 49,
   "metadata": {},
   "outputs": [],
   "source": [
    "X = [nlp(str(d)).vector for d in data]"
   ]
  },
  {
   "cell_type": "code",
   "execution_count": 50,
   "metadata": {},
   "outputs": [
    {
     "data": {
      "text/plain": [
       "(401, 300)"
      ]
     },
     "execution_count": 50,
     "metadata": {},
     "output_type": "execute_result"
    }
   ],
   "source": [
    "pd.DataFrame(X).shape"
   ]
  },
  {
   "cell_type": "markdown",
   "metadata": {},
   "source": [
    "## Challenge\n",
    "\n",
    "You will extract word embeddings from documents using Spacy's pre-trained model in the upcoming module project. "
   ]
  },
  {
   "cell_type": "markdown",
   "metadata": {},
   "source": [
    "# Review\n",
    "For your module project assignment you will create vector representations of indeed.com Data Science job listings. You will then estimate a similarity model to perform searches for job descriptions. Get started with your [module project here](./LS_DS_412_Vector_Representations_Assignment.ipynb)"
   ]
  },
  {
   "cell_type": "markdown",
   "metadata": {},
   "source": [
    "# Sources\n",
    "\n",
    "* Spacy 101 - https://course.spacy.io\n",
    "* NLTK Book - https://www.nltk.org/book/\n",
    "* An Introduction to Information Retrieval - https://nlp.stanford.edu/IR-book/pdf/irbookonlinereading.pdf"
   ]
  },
  {
   "cell_type": "code",
   "execution_count": null,
   "metadata": {},
   "outputs": [],
   "source": []
  },
  {
   "cell_type": "code",
   "execution_count": null,
   "metadata": {},
   "outputs": [],
   "source": []
  }
 ],
 "metadata": {
  "kernelspec": {
   "display_name": "U4-S1-NLP (Python3)",
   "language": "python",
   "name": "u4-s1-nlp"
  },
  "language_info": {
   "codemirror_mode": {
    "name": "ipython",
    "version": 3
   },
   "file_extension": ".py",
   "mimetype": "text/x-python",
   "name": "python",
   "nbconvert_exporter": "python",
   "pygments_lexer": "ipython3",
   "version": "3.7.0"
  }
 },
 "nbformat": 4,
 "nbformat_minor": 4
}

 "nbformat": 4,
 "nbformat_minor": 4
}
