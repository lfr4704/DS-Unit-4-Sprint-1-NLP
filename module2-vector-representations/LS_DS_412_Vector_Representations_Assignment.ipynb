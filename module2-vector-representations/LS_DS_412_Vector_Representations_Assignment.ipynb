{
 "cells": [
  {
   "cell_type": "markdown",
   "metadata": {},{
 "cells": [
  {
   "cell_type": "markdown",
   "metadata": {},
   "source": [
    "<img align=\"left\" src=\"https://lever-client-logos.s3.amazonaws.com/864372b1-534c-480e-acd5-9711f850815c-1524247202159.png\" width=200>\n",
    "<br></br>\n",
    "\n",
    "# Vector Representations\n",
    "## *Data Science Unit 4 Sprint 2 Assignment 2*"
   ]
  },
  {
   "cell_type": "code",
   "execution_count": 1,
   "metadata": {
    "colab": {
     "base_uri": "https://localhost:8080/",
     "height": 159
    },
    "colab_type": "code",
    "id": "hyj-f9FDcVFp",
    "outputId": "5dd045fe-6e4c-458c-e2fc-253c3da9c805"
   },
   "outputs": [],
   "source": [
    "import re\n",
    "import string\n",
    "\n",
    "from sklearn.feature_extraction.text import CountVectorizer, TfidfVectorizer\n",
    "import matplotlib.pyplot as plt\n",
    "import pandas as pd\n",
    "import numpy as np\n",
    "import spacy\n",
    "\n",
    "from bs4 import BeautifulSoup"
   ]
  },
  {
   "cell_type": "markdown",
   "metadata": {
    "colab_type": "text",
    "id": "M7bcmqfGXrFG"
   },
   "source": [
    "## 1) *Clean:* Job Listings from indeed.com that contain the title \"Data Scientist\" \n",
    "\n",
    "You have `job_listings.csv` in the data folder for this module. The text data in the description column is still messy - full of html tags. Use the [BeautifulSoup](https://www.crummy.com/software/BeautifulSoup/bs4/doc/) library to clean up this column. You will need to read through the documentation to accomplish this task. "
   ]
  },
  {
   "cell_type": "code",
   "execution_count": 2,
   "metadata": {
    "colab": {},
    "colab_type": "code",
    "id": "KcYlc1URXhlC"
   },
   "outputs": [
    {
     "data": {
      "text/html": [
       "<div>\n",
       "<style scoped>\n",
       "    .dataframe tbody tr th:only-of-type {\n",
       "        vertical-align: middle;\n",
       "    }\n",
       "\n",
       "    .dataframe tbody tr th {\n",
       "        vertical-align: top;\n",
       "    }\n",
       "\n",
       "    .dataframe thead th {\n",
       "        text-align: right;\n",
       "    }\n",
       "</style>\n",
       "<table border=\"1\" class=\"dataframe\">\n",
       "  <thead>\n",
       "    <tr style=\"text-align: right;\">\n",
       "      <th></th>\n",
       "      <th>Unnamed: 0</th>\n",
       "      <th>description</th>\n",
       "      <th>title</th>\n",
       "    </tr>\n",
       "  </thead>\n",
       "  <tbody>\n",
       "    <tr>\n",
       "      <th>0</th>\n",
       "      <td>0</td>\n",
       "      <td>b\"&lt;div&gt;&lt;div&gt;Job Requirements:&lt;/div&gt;&lt;ul&gt;&lt;li&gt;&lt;p&gt;...</td>\n",
       "      <td>Data scientist</td>\n",
       "    </tr>\n",
       "    <tr>\n",
       "      <th>1</th>\n",
       "      <td>1</td>\n",
       "      <td>b'&lt;div&gt;Job Description&lt;br/&gt;\\n&lt;br/&gt;\\n&lt;p&gt;As a Da...</td>\n",
       "      <td>Data Scientist I</td>\n",
       "    </tr>\n",
       "    <tr>\n",
       "      <th>2</th>\n",
       "      <td>2</td>\n",
       "      <td>b'&lt;div&gt;&lt;p&gt;As a Data Scientist you will be work...</td>\n",
       "      <td>Data Scientist - Entry Level</td>\n",
       "    </tr>\n",
       "    <tr>\n",
       "      <th>3</th>\n",
       "      <td>3</td>\n",
       "      <td>b'&lt;div class=\"jobsearch-JobMetadataHeader icl-...</td>\n",
       "      <td>Data Scientist</td>\n",
       "    </tr>\n",
       "    <tr>\n",
       "      <th>4</th>\n",
       "      <td>4</td>\n",
       "      <td>b'&lt;ul&gt;&lt;li&gt;Location: USA \\xe2\\x80\\x93 multiple ...</td>\n",
       "      <td>Data Scientist</td>\n",
       "    </tr>\n",
       "  </tbody>\n",
       "</table>\n",
       "</div>"
      ],
      "text/plain": [
       "   Unnamed: 0                                        description  \\\n",
       "0           0  b\"<div><div>Job Requirements:</div><ul><li><p>...   \n",
       "1           1  b'<div>Job Description<br/>\\n<br/>\\n<p>As a Da...   \n",
       "2           2  b'<div><p>As a Data Scientist you will be work...   \n",
       "3           3  b'<div class=\"jobsearch-JobMetadataHeader icl-...   \n",
       "4           4  b'<ul><li>Location: USA \\xe2\\x80\\x93 multiple ...   \n",
       "\n",
       "                          title  \n",
       "0               Data scientist   \n",
       "1              Data Scientist I  \n",
       "2  Data Scientist - Entry Level  \n",
       "3                Data Scientist  \n",
       "4                Data Scientist  "
      ]
     },
     "execution_count": 2,
     "metadata": {},
     "output_type": "execute_result"
    }
   ],
   "source": [
    "from bs4 import BeautifulSoup\n",
    "import requests\n",
    "\n",
    "#create dataframe\n",
    "jobs = pd.read_csv('./data/job_listings.csv')\n",
    "jobs.head()\n",
    "\n",
    "                \n"
   ]
  },
  {
   "cell_type": "code",
   "execution_count": 3,
   "metadata": {},
   "outputs": [
    {
     "data": {
      "text/plain": [
       "'b\"<div><div>Job Requirements:</div><ul><li><p>\\\\nConceptual understanding in Machine Learning models like Nai\\\\xc2\\\\xa8ve Bayes, K-Means, SVM, Apriori, Linear/ Logistic Regression, Neural, Random Forests, Decision Trees, K-NN along with hands-on experience in at least 2 of them</p>\\\\n</li><li><p>Intermediate to expert level coding skills in Python/R. (Ability to write functions, clean and efficient data manipulation are mandatory for this role)</p>\\\\n</li><li><p>Exposure to packages like NumPy, SciPy, Pandas, Matplotlib etc in Python or GGPlot2, dplyr, tidyR in R</p>\\\\n</li><li><p>Ability to communicate Model findings to both Technical and Non-Technical stake holders</p>\\\\n</li><li><p>Hands on experience in SQL/Hive or similar programming language</p>\\\\n</li><li><p>Must show past work via GitHub, Kaggle or any other published article</p>\\\\n</li><li><p>Master\\'s degree in Statistics/Mathematics/Computer Science or any other quant specific field.</p></li></ul><div><div><div><div><div><div>\\\\nApply Now</div></div></div></div></div></div></div><div></div>\"'"
      ]
     },
     "execution_count": 3,
     "metadata": {},
     "output_type": "execute_result"
    }
   ],
   "source": [
    "jobs['description'][0]"
   ]
  },
  {
   "cell_type": "code",
   "execution_count": 8,
   "metadata": {},
   "outputs": [],
   "source": [
    "def make_soup(html):\n",
    "    html = html.lstrip('b\"\\'').rstrip('\"\\'')\n",
    "    \n",
    "    soup = BeautifulSoup(html, 'html.parser')\n",
    "\n",
    "    return soup.get_text()"
   ]
  },
  {
   "cell_type": "code",
   "execution_count": 10,
   "metadata": {},
   "outputs": [
    {
     "data": {
      "text/html": [
       "<div>\n",
       "<style scoped>\n",
       "    .dataframe tbody tr th:only-of-type {\n",
       "        vertical-align: middle;\n",
       "    }\n",
       "\n",
       "    .dataframe tbody tr th {\n",
       "        vertical-align: top;\n",
       "    }\n",
       "\n",
       "    .dataframe thead th {\n",
       "        text-align: right;\n",
       "    }\n",
       "</style>\n",
       "<table border=\"1\" class=\"dataframe\">\n",
       "  <thead>\n",
       "    <tr style=\"text-align: right;\">\n",
       "      <th></th>\n",
       "      <th>Unnamed: 0</th>\n",
       "      <th>description</th>\n",
       "      <th>title</th>\n",
       "      <th>description_clean</th>\n",
       "    </tr>\n",
       "  </thead>\n",
       "  <tbody>\n",
       "    <tr>\n",
       "      <th>0</th>\n",
       "      <td>0</td>\n",
       "      <td>b\"&lt;div&gt;&lt;div&gt;Job Requirements:&lt;/div&gt;&lt;ul&gt;&lt;li&gt;&lt;p&gt;...</td>\n",
       "      <td>Data scientist</td>\n",
       "      <td>Job Requirements:\\nConceptual understanding in...</td>\n",
       "    </tr>\n",
       "    <tr>\n",
       "      <th>1</th>\n",
       "      <td>1</td>\n",
       "      <td>b'&lt;div&gt;Job Description&lt;br/&gt;\\n&lt;br/&gt;\\n&lt;p&gt;As a Da...</td>\n",
       "      <td>Data Scientist I</td>\n",
       "      <td>Job Description\\n\\nAs a Data Scientist 1, you ...</td>\n",
       "    </tr>\n",
       "    <tr>\n",
       "      <th>2</th>\n",
       "      <td>2</td>\n",
       "      <td>b'&lt;div&gt;&lt;p&gt;As a Data Scientist you will be work...</td>\n",
       "      <td>Data Scientist - Entry Level</td>\n",
       "      <td>As a Data Scientist you will be working on con...</td>\n",
       "    </tr>\n",
       "    <tr>\n",
       "      <th>3</th>\n",
       "      <td>3</td>\n",
       "      <td>b'&lt;div class=\"jobsearch-JobMetadataHeader icl-...</td>\n",
       "      <td>Data Scientist</td>\n",
       "      <td>$4,969 - $6,756 a monthContractUnder the gener...</td>\n",
       "    </tr>\n",
       "    <tr>\n",
       "      <th>4</th>\n",
       "      <td>4</td>\n",
       "      <td>b'&lt;ul&gt;&lt;li&gt;Location: USA \\xe2\\x80\\x93 multiple ...</td>\n",
       "      <td>Data Scientist</td>\n",
       "      <td>Location: USA \\xe2\\x80\\x93 multiple locations\\...</td>\n",
       "    </tr>\n",
       "  </tbody>\n",
       "</table>\n",
       "</div>"
      ],
      "text/plain": [
       "   Unnamed: 0                                        description  \\\n",
       "0           0  b\"<div><div>Job Requirements:</div><ul><li><p>...   \n",
       "1           1  b'<div>Job Description<br/>\\n<br/>\\n<p>As a Da...   \n",
       "2           2  b'<div><p>As a Data Scientist you will be work...   \n",
       "3           3  b'<div class=\"jobsearch-JobMetadataHeader icl-...   \n",
       "4           4  b'<ul><li>Location: USA \\xe2\\x80\\x93 multiple ...   \n",
       "\n",
       "                          title  \\\n",
       "0               Data scientist    \n",
       "1              Data Scientist I   \n",
       "2  Data Scientist - Entry Level   \n",
       "3                Data Scientist   \n",
       "4                Data Scientist   \n",
       "\n",
       "                                   description_clean  \n",
       "0  Job Requirements:\\nConceptual understanding in...  \n",
       "1  Job Description\\n\\nAs a Data Scientist 1, you ...  \n",
       "2  As a Data Scientist you will be working on con...  \n",
       "3  $4,969 - $6,756 a monthContractUnder the gener...  \n",
       "4  Location: USA \\xe2\\x80\\x93 multiple locations\\...  "
      ]
     },
     "execution_count": 10,
     "metadata": {},
     "output_type": "execute_result"
    }
   ],
   "source": [
    "\n",
    "jobs['description_clean'] = jobs['description'].apply(make_soup)\n",
    "jobs.head()"
   ]
  },
  {
   "cell_type": "markdown",
   "metadata": {
    "colab_type": "text",
    "id": "5C4xFZNtX1m2"
   },
   "source": [
    "## 2) Use Spacy to tokenize the listings "
   ]
  },
  {
   "cell_type": "code",
   "execution_count": 4,
   "metadata": {
    "colab": {},
    "colab_type": "code",
    "id": "dhUHuMr-X-II"
   },
   "outputs": [],
   "source": [
    "#instantiating spacy\n",
    "nlp = spacy.load(\"en_core_web_lg\")"
   ]
  },
  {
   "cell_type": "code",
   "execution_count": 7,
   "metadata": {},
   "outputs": [],
   "source": [
    "#tokenizer function\n",
    "def tokenize(document):\n",
    "    \n",
    "    doc = nlp(document)\n",
    "    \n",
    "    return [token.lemma_.strip() for token in doc if (token.is_stop != True) and (token.is_punct != True)]"
   ]
  },
  {
   "cell_type": "code",
   "execution_count": 15,
   "metadata": {},
   "outputs": [
    {
     "data": {
      "text/html": [
       "<div>\n",
       "<style scoped>\n",
       "    .dataframe tbody tr th:only-of-type {\n",
       "        vertical-align: middle;\n",
       "    }\n",
       "\n",
       "    .dataframe tbody tr th {\n",
       "        vertical-align: top;\n",
       "    }\n",
       "\n",
       "    .dataframe thead th {\n",
       "        text-align: right;\n",
       "    }\n",
       "</style>\n",
       "<table border=\"1\" class=\"dataframe\">\n",
       "  <thead>\n",
       "    <tr style=\"text-align: right;\">\n",
       "      <th></th>\n",
       "      <th>Unnamed: 0</th>\n",
       "      <th>description</th>\n",
       "      <th>title</th>\n",
       "      <th>description_clean</th>\n",
       "      <th>tokens</th>\n",
       "    </tr>\n",
       "  </thead>\n",
       "  <tbody>\n",
       "    <tr>\n",
       "      <th>0</th>\n",
       "      <td>0</td>\n",
       "      <td>b\"&lt;div&gt;&lt;div&gt;Job Requirements:&lt;/div&gt;&lt;ul&gt;&lt;li&gt;&lt;p&gt;...</td>\n",
       "      <td>Data scientist</td>\n",
       "      <td>Job Requirements:\\nConceptual understanding in...</td>\n",
       "      <td>[job, requirements:\\nconceptual, understanding...</td>\n",
       "    </tr>\n",
       "    <tr>\n",
       "      <th>1</th>\n",
       "      <td>1</td>\n",
       "      <td>b'&lt;div&gt;Job Description&lt;br/&gt;\\n&lt;br/&gt;\\n&lt;p&gt;As a Da...</td>\n",
       "      <td>Data Scientist I</td>\n",
       "      <td>Job Description\\n\\nAs a Data Scientist 1, you ...</td>\n",
       "      <td>[job, description\\n\\na, Data, Scientist, 1, he...</td>\n",
       "    </tr>\n",
       "    <tr>\n",
       "      <th>2</th>\n",
       "      <td>2</td>\n",
       "      <td>b'&lt;div&gt;&lt;p&gt;As a Data Scientist you will be work...</td>\n",
       "      <td>Data Scientist - Entry Level</td>\n",
       "      <td>As a Data Scientist you will be working on con...</td>\n",
       "      <td>[Data, scientist, work, consult, business, res...</td>\n",
       "    </tr>\n",
       "    <tr>\n",
       "      <th>3</th>\n",
       "      <td>3</td>\n",
       "      <td>b'&lt;div class=\"jobsearch-JobMetadataHeader icl-...</td>\n",
       "      <td>Data Scientist</td>\n",
       "      <td>$4,969 - $6,756 a monthContractUnder the gener...</td>\n",
       "      <td>[$, 4,969, $, 6,756, monthcontractunder, gener...</td>\n",
       "    </tr>\n",
       "    <tr>\n",
       "      <th>4</th>\n",
       "      <td>4</td>\n",
       "      <td>b'&lt;ul&gt;&lt;li&gt;Location: USA \\xe2\\x80\\x93 multiple ...</td>\n",
       "      <td>Data Scientist</td>\n",
       "      <td>Location: USA \\xe2\\x80\\x93 multiple locations\\...</td>\n",
       "      <td>[location, USA, \\xe2\\x80\\x93, multiple, locati...</td>\n",
       "    </tr>\n",
       "  </tbody>\n",
       "</table>\n",
       "</div>"
      ],
      "text/plain": [
       "   Unnamed: 0                                        description  \\\n",
       "0           0  b\"<div><div>Job Requirements:</div><ul><li><p>...   \n",
       "1           1  b'<div>Job Description<br/>\\n<br/>\\n<p>As a Da...   \n",
       "2           2  b'<div><p>As a Data Scientist you will be work...   \n",
       "3           3  b'<div class=\"jobsearch-JobMetadataHeader icl-...   \n",
       "4           4  b'<ul><li>Location: USA \\xe2\\x80\\x93 multiple ...   \n",
       "\n",
       "                          title  \\\n",
       "0               Data scientist    \n",
       "1              Data Scientist I   \n",
       "2  Data Scientist - Entry Level   \n",
       "3                Data Scientist   \n",
       "4                Data Scientist   \n",
       "\n",
       "                                   description_clean  \\\n",
       "0  Job Requirements:\\nConceptual understanding in...   \n",
       "1  Job Description\\n\\nAs a Data Scientist 1, you ...   \n",
       "2  As a Data Scientist you will be working on con...   \n",
       "3  $4,969 - $6,756 a monthContractUnder the gener...   \n",
       "4  Location: USA \\xe2\\x80\\x93 multiple locations\\...   \n",
       "\n",
       "                                              tokens  \n",
       "0  [job, requirements:\\nconceptual, understanding...  \n",
       "1  [job, description\\n\\na, Data, Scientist, 1, he...  \n",
       "2  [Data, scientist, work, consult, business, res...  \n",
       "3  [$, 4,969, $, 6,756, monthcontractunder, gener...  \n",
       "4  [location, USA, \\xe2\\x80\\x93, multiple, locati...  "
      ]
     },
     "execution_count": 15,
     "metadata": {},
     "output_type": "execute_result"
    }
   ],
   "source": [
    "#create new column with tokenized data\n",
    "jobs['tokens'] = jobs['description_clean'].apply(tokenize)\n",
    "jobs.head()"
   ]
  },
  {
   "cell_type": "code",
   "execution_count": null,
   "metadata": {},
   "outputs": [],
   "source": []
  },
  {
   "cell_type": "markdown",
   "metadata": {
    "colab_type": "text",
    "id": "-lgCZNL_YycP"
   },
   "source": [
    "## 3) Use Scikit-Learn's CountVectorizer to get word counts for each listing."
   ]
  },
  {
   "cell_type": "code",
   "execution_count": 16,
   "metadata": {
    "colab": {},
    "colab_type": "code",
    "id": "X2PZ8Pj_YxcF"
   },
   "outputs": [],
   "source": [
    "def get_data(jobs_column):\n",
    "    \"\"\"Produces list of documents from a df column \n",
    "        returns lis of strings\n",
    "    \"\"\"\n",
    "    data = []\n",
    "    for row in jobs_column:\n",
    "        data.append(row)\n",
    "    return data"
   ]
  },
  {
   "cell_type": "code",
   "execution_count": 17,
   "metadata": {},
   "outputs": [
    {
     "data": {
      "text/plain": [
       "\"Job Requirements:\\\\nConceptual understanding in Machine Learning models like Nai\\\\xc2\\\\xa8ve Bayes, K-Means, SVM, Apriori, Linear/ Logistic Regression, Neural, Random Forests, Decision Trees, K-NN along with hands-on experience in at least 2 of them\\\\nIntermediate to expert level coding skills in Python/R. (Ability to write functions, clean and efficient data manipulation are mandatory for this role)\\\\nExposure to packages like NumPy, SciPy, Pandas, Matplotlib etc in Python or GGPlot2, dplyr, tidyR in R\\\\nAbility to communicate Model findings to both Technical and Non-Technical stake holders\\\\nHands on experience in SQL/Hive or similar programming language\\\\nMust show past work via GitHub, Kaggle or any other published article\\\\nMaster's degree in Statistics/Mathematics/Computer Science or any other quant specific field.\\\\nApply Now\""
      ]
     },
     "execution_count": 17,
     "metadata": {},
     "output_type": "execute_result"
    }
   ],
   "source": [
    "data = get_data(jobs['description_clean'])\n",
    "data[0]"
   ]
  },
  {
   "cell_type": "code",
   "execution_count": 18,
   "metadata": {},
   "outputs": [],
   "source": [
    "#create transformer\n",
    "vect = CountVectorizer(stop_words=\"english\", max_features =1000)\n",
    "\n",
    "#learn our vocab\n",
    "vect.fit(data)\n",
    "\n",
    "#get sparse dtm\n",
    "dtm = vect.transform(data)\n",
    "\n",
    "#get word count\n",
    "dtm = pd.DataFrame(dtm.todense(), columns=vect.get_feature_names())"
   ]
  },
  {
   "cell_type": "code",
   "execution_count": 19,
   "metadata": {},
   "outputs": [
    {
     "data": {
      "text/html": [
       "<div>\n",
       "<style scoped>\n",
       "    .dataframe tbody tr th:only-of-type {\n",
       "        vertical-align: middle;\n",
       "    }\n",
       "\n",
       "    .dataframe tbody tr th {\n",
       "        vertical-align: top;\n",
       "    }\n",
       "\n",
       "    .dataframe thead th {\n",
       "        text-align: right;\n",
       "    }\n",
       "</style>\n",
       "<table border=\"1\" class=\"dataframe\">\n",
       "  <thead>\n",
       "    <tr style=\"text-align: right;\">\n",
       "      <th></th>\n",
       "      <th>000</th>\n",
       "      <th>10</th>\n",
       "      <th>100</th>\n",
       "      <th>2019</th>\n",
       "      <th>40</th>\n",
       "      <th>abilities</th>\n",
       "      <th>ability</th>\n",
       "      <th>able</th>\n",
       "      <th>academic</th>\n",
       "      <th>access</th>\n",
       "      <th>...</th>\n",
       "      <th>xa6</th>\n",
       "      <th>xae</th>\n",
       "      <th>xb7</th>\n",
       "      <th>xbb</th>\n",
       "      <th>xc2</th>\n",
       "      <th>xe2</th>\n",
       "      <th>xef</th>\n",
       "      <th>year</th>\n",
       "      <th>years</th>\n",
       "      <th>york</th>\n",
       "    </tr>\n",
       "  </thead>\n",
       "  <tbody>\n",
       "    <tr>\n",
       "      <th>0</th>\n",
       "      <td>0</td>\n",
       "      <td>0</td>\n",
       "      <td>0</td>\n",
       "      <td>0</td>\n",
       "      <td>0</td>\n",
       "      <td>0</td>\n",
       "      <td>1</td>\n",
       "      <td>0</td>\n",
       "      <td>0</td>\n",
       "      <td>0</td>\n",
       "      <td>...</td>\n",
       "      <td>0</td>\n",
       "      <td>0</td>\n",
       "      <td>0</td>\n",
       "      <td>0</td>\n",
       "      <td>1</td>\n",
       "      <td>0</td>\n",
       "      <td>0</td>\n",
       "      <td>0</td>\n",
       "      <td>0</td>\n",
       "      <td>0</td>\n",
       "    </tr>\n",
       "    <tr>\n",
       "      <th>1</th>\n",
       "      <td>0</td>\n",
       "      <td>0</td>\n",
       "      <td>0</td>\n",
       "      <td>0</td>\n",
       "      <td>0</td>\n",
       "      <td>0</td>\n",
       "      <td>1</td>\n",
       "      <td>0</td>\n",
       "      <td>0</td>\n",
       "      <td>0</td>\n",
       "      <td>...</td>\n",
       "      <td>2</td>\n",
       "      <td>0</td>\n",
       "      <td>0</td>\n",
       "      <td>0</td>\n",
       "      <td>0</td>\n",
       "      <td>8</td>\n",
       "      <td>0</td>\n",
       "      <td>1</td>\n",
       "      <td>0</td>\n",
       "      <td>0</td>\n",
       "    </tr>\n",
       "    <tr>\n",
       "      <th>2</th>\n",
       "      <td>0</td>\n",
       "      <td>0</td>\n",
       "      <td>0</td>\n",
       "      <td>0</td>\n",
       "      <td>0</td>\n",
       "      <td>0</td>\n",
       "      <td>0</td>\n",
       "      <td>0</td>\n",
       "      <td>0</td>\n",
       "      <td>0</td>\n",
       "      <td>...</td>\n",
       "      <td>0</td>\n",
       "      <td>0</td>\n",
       "      <td>0</td>\n",
       "      <td>0</td>\n",
       "      <td>0</td>\n",
       "      <td>0</td>\n",
       "      <td>0</td>\n",
       "      <td>0</td>\n",
       "      <td>0</td>\n",
       "      <td>0</td>\n",
       "    </tr>\n",
       "    <tr>\n",
       "      <th>3</th>\n",
       "      <td>0</td>\n",
       "      <td>0</td>\n",
       "      <td>0</td>\n",
       "      <td>0</td>\n",
       "      <td>0</td>\n",
       "      <td>0</td>\n",
       "      <td>0</td>\n",
       "      <td>0</td>\n",
       "      <td>0</td>\n",
       "      <td>0</td>\n",
       "      <td>...</td>\n",
       "      <td>0</td>\n",
       "      <td>0</td>\n",
       "      <td>0</td>\n",
       "      <td>0</td>\n",
       "      <td>0</td>\n",
       "      <td>0</td>\n",
       "      <td>0</td>\n",
       "      <td>1</td>\n",
       "      <td>0</td>\n",
       "      <td>0</td>\n",
       "    </tr>\n",
       "    <tr>\n",
       "      <th>4</th>\n",
       "      <td>0</td>\n",
       "      <td>0</td>\n",
       "      <td>0</td>\n",
       "      <td>0</td>\n",
       "      <td>0</td>\n",
       "      <td>0</td>\n",
       "      <td>0</td>\n",
       "      <td>0</td>\n",
       "      <td>0</td>\n",
       "      <td>0</td>\n",
       "      <td>...</td>\n",
       "      <td>0</td>\n",
       "      <td>0</td>\n",
       "      <td>0</td>\n",
       "      <td>0</td>\n",
       "      <td>0</td>\n",
       "      <td>1</td>\n",
       "      <td>0</td>\n",
       "      <td>0</td>\n",
       "      <td>1</td>\n",
       "      <td>0</td>\n",
       "    </tr>\n",
       "  </tbody>\n",
       "</table>\n",
       "<p>5 rows × 1000 columns</p>\n",
       "</div>"
      ],
      "text/plain": [
       "   000  10  100  2019  40  abilities  ability  able  academic  access  ...  \\\n",
       "0    0   0    0     0   0          0        1     0         0       0  ...   \n",
       "1    0   0    0     0   0          0        1     0         0       0  ...   \n",
       "2    0   0    0     0   0          0        0     0         0       0  ...   \n",
       "3    0   0    0     0   0          0        0     0         0       0  ...   \n",
       "4    0   0    0     0   0          0        0     0         0       0  ...   \n",
       "\n",
       "   xa6  xae  xb7  xbb  xc2  xe2  xef  year  years  york  \n",
       "0    0    0    0    0    1    0    0     0      0     0  \n",
       "1    2    0    0    0    0    8    0     1      0     0  \n",
       "2    0    0    0    0    0    0    0     0      0     0  \n",
       "3    0    0    0    0    0    0    0     1      0     0  \n",
       "4    0    0    0    0    0    1    0     0      1     0  \n",
       "\n",
       "[5 rows x 1000 columns]"
      ]
     },
     "execution_count": 19,
     "metadata": {},
     "output_type": "execute_result"
    }
   ],
   "source": [
    "dtm.head()"
   ]
  },
  {
   "cell_type": "markdown",
   "metadata": {
    "colab_type": "text",
    "id": "Zo1iH_UeY7_n"
   },
   "source": [
    "## 4) Visualize the most common word counts"
   ]
  },
  {
   "cell_type": "code",
   "execution_count": 20,
   "metadata": {},
   "outputs": [],
   "source": [
    "doc_len = [len(doc) for doc in data]"
   ]
  },
  {
   "cell_type": "code",
   "execution_count": 22,
   "metadata": {},
   "outputs": [
    {
     "data": {
      "image/png": "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\n",
      "text/plain": [
       "<Figure size 432x288 with 1 Axes>"
      ]
     },
     "metadata": {
      "needs_background": "light"
     },
     "output_type": "display_data"
    }
   ],
   "source": [
    "import seaborn as sns\n",
    "sns.distplot(doc_len);"
   ]
  },
  {
   "cell_type": "code",
   "execution_count": null,
   "metadata": {
    "colab": {},
    "colab_type": "code",
    "id": "M5LB00uyZKV5"
   },
   "outputs": [],
   "source": [
    "##### Your Code Here #####\n",
    "raise Exception(\"\\nThis task is not complete. \\nReplace this line with your code for the task.\""
   ]
  },
  {
   "cell_type": "markdown",
   "metadata": {
    "colab_type": "text",
    "id": "bwFsTqrVZMYi"
   },
   "source": [
    "## 5) Use Scikit-Learn's tfidfVectorizer to get a TF-IDF feature matrix"
   ]
  },
  {
   "cell_type": "code",
   "execution_count": 23,
   "metadata": {
    "colab": {},
    "colab_type": "code",
    "id": "-gx2gZCbl5Np"
   },
   "outputs": [
    {
     "data": {
      "text/html": [
       "<div>\n",
       "<style scoped>\n",
       "    .dataframe tbody tr th:only-of-type {\n",
       "        vertical-align: middle;\n",
       "    }\n",
       "\n",
       "    .dataframe tbody tr th {\n",
       "        vertical-align: top;\n",
       "    }\n",
       "\n",
       "    .dataframe thead th {\n",
       "        text-align: right;\n",
       "    }\n",
       "</style>\n",
       "<table border=\"1\" class=\"dataframe\">\n",
       "  <thead>\n",
       "    <tr style=\"text-align: right;\">\n",
       "      <th></th>\n",
       "      <th>$</th>\n",
       "      <th>+</th>\n",
       "      <th>.\\n\\nabout</th>\n",
       "      <th>.\\n\\nperks\\n\\nhealth</th>\n",
       "      <th>/or</th>\n",
       "      <th>0</th>\n",
       "      <th>1</th>\n",
       "      <th>10</th>\n",
       "      <th>100</th>\n",
       "      <th>100,000</th>\n",
       "      <th>...</th>\n",
       "      <th>york</th>\n",
       "      <th>you.\\n\\nabout</th>\n",
       "      <th>you\\'ll</th>\n",
       "      <th>you\\'re</th>\n",
       "      <th>you\\n\\nyou</th>\n",
       "      <th>you\\xe2\\x80\\x99ll</th>\n",
       "      <th>you\\xe2\\x80\\x99re</th>\n",
       "      <th>you\\xe2\\x80\\x99ve</th>\n",
       "      <th>|</th>\n",
       "      <th>||</th>\n",
       "    </tr>\n",
       "  </thead>\n",
       "  <tbody>\n",
       "    <tr>\n",
       "      <th>0</th>\n",
       "      <td>0.000000</td>\n",
       "      <td>0.000000</td>\n",
       "      <td>0.0</td>\n",
       "      <td>0.0</td>\n",
       "      <td>0.0</td>\n",
       "      <td>0.0</td>\n",
       "      <td>0.000000</td>\n",
       "      <td>0.0</td>\n",
       "      <td>0.0</td>\n",
       "      <td>0.0</td>\n",
       "      <td>...</td>\n",
       "      <td>0.0</td>\n",
       "      <td>0.0</td>\n",
       "      <td>0.0</td>\n",
       "      <td>0.0</td>\n",
       "      <td>0.0</td>\n",
       "      <td>0.0</td>\n",
       "      <td>0.0</td>\n",
       "      <td>0.0</td>\n",
       "      <td>0.0</td>\n",
       "      <td>0.0</td>\n",
       "    </tr>\n",
       "    <tr>\n",
       "      <th>1</th>\n",
       "      <td>0.000000</td>\n",
       "      <td>0.032246</td>\n",
       "      <td>0.0</td>\n",
       "      <td>0.0</td>\n",
       "      <td>0.0</td>\n",
       "      <td>0.0</td>\n",
       "      <td>0.121591</td>\n",
       "      <td>0.0</td>\n",
       "      <td>0.0</td>\n",
       "      <td>0.0</td>\n",
       "      <td>...</td>\n",
       "      <td>0.0</td>\n",
       "      <td>0.0</td>\n",
       "      <td>0.0</td>\n",
       "      <td>0.0</td>\n",
       "      <td>0.0</td>\n",
       "      <td>0.0</td>\n",
       "      <td>0.0</td>\n",
       "      <td>0.0</td>\n",
       "      <td>0.0</td>\n",
       "      <td>0.0</td>\n",
       "    </tr>\n",
       "    <tr>\n",
       "      <th>2</th>\n",
       "      <td>0.000000</td>\n",
       "      <td>0.000000</td>\n",
       "      <td>0.0</td>\n",
       "      <td>0.0</td>\n",
       "      <td>0.0</td>\n",
       "      <td>0.0</td>\n",
       "      <td>0.000000</td>\n",
       "      <td>0.0</td>\n",
       "      <td>0.0</td>\n",
       "      <td>0.0</td>\n",
       "      <td>...</td>\n",
       "      <td>0.0</td>\n",
       "      <td>0.0</td>\n",
       "      <td>0.0</td>\n",
       "      <td>0.0</td>\n",
       "      <td>0.0</td>\n",
       "      <td>0.0</td>\n",
       "      <td>0.0</td>\n",
       "      <td>0.0</td>\n",
       "      <td>0.0</td>\n",
       "      <td>0.0</td>\n",
       "    </tr>\n",
       "    <tr>\n",
       "      <th>3</th>\n",
       "      <td>0.256067</td>\n",
       "      <td>0.000000</td>\n",
       "      <td>0.0</td>\n",
       "      <td>0.0</td>\n",
       "      <td>0.0</td>\n",
       "      <td>0.0</td>\n",
       "      <td>0.000000</td>\n",
       "      <td>0.0</td>\n",
       "      <td>0.0</td>\n",
       "      <td>0.0</td>\n",
       "      <td>...</td>\n",
       "      <td>0.0</td>\n",
       "      <td>0.0</td>\n",
       "      <td>0.0</td>\n",
       "      <td>0.0</td>\n",
       "      <td>0.0</td>\n",
       "      <td>0.0</td>\n",
       "      <td>0.0</td>\n",
       "      <td>0.0</td>\n",
       "      <td>0.0</td>\n",
       "      <td>0.0</td>\n",
       "    </tr>\n",
       "    <tr>\n",
       "      <th>4</th>\n",
       "      <td>0.000000</td>\n",
       "      <td>0.171414</td>\n",
       "      <td>0.0</td>\n",
       "      <td>0.0</td>\n",
       "      <td>0.0</td>\n",
       "      <td>0.0</td>\n",
       "      <td>0.000000</td>\n",
       "      <td>0.0</td>\n",
       "      <td>0.0</td>\n",
       "      <td>0.0</td>\n",
       "      <td>...</td>\n",
       "      <td>0.0</td>\n",
       "      <td>0.0</td>\n",
       "      <td>0.0</td>\n",
       "      <td>0.0</td>\n",
       "      <td>0.0</td>\n",
       "      <td>0.0</td>\n",
       "      <td>0.0</td>\n",
       "      <td>0.0</td>\n",
       "      <td>0.0</td>\n",
       "      <td>0.0</td>\n",
       "    </tr>\n",
       "  </tbody>\n",
       "</table>\n",
       "<p>5 rows × 3343 columns</p>\n",
       "</div>"
      ],
      "text/plain": [
       "          $         +  .\\n\\nabout  .\\n\\nperks\\n\\nhealth  /or    0         1  \\\n",
       "0  0.000000  0.000000         0.0                   0.0  0.0  0.0  0.000000   \n",
       "1  0.000000  0.032246         0.0                   0.0  0.0  0.0  0.121591   \n",
       "2  0.000000  0.000000         0.0                   0.0  0.0  0.0  0.000000   \n",
       "3  0.256067  0.000000         0.0                   0.0  0.0  0.0  0.000000   \n",
       "4  0.000000  0.171414         0.0                   0.0  0.0  0.0  0.000000   \n",
       "\n",
       "    10  100  100,000  ...  york  you.\\n\\nabout  you\\'ll  you\\'re  you\\n\\nyou  \\\n",
       "0  0.0  0.0      0.0  ...   0.0            0.0      0.0      0.0         0.0   \n",
       "1  0.0  0.0      0.0  ...   0.0            0.0      0.0      0.0         0.0   \n",
       "2  0.0  0.0      0.0  ...   0.0            0.0      0.0      0.0         0.0   \n",
       "3  0.0  0.0      0.0  ...   0.0            0.0      0.0      0.0         0.0   \n",
       "4  0.0  0.0      0.0  ...   0.0            0.0      0.0      0.0         0.0   \n",
       "\n",
       "   you\\xe2\\x80\\x99ll  you\\xe2\\x80\\x99re  you\\xe2\\x80\\x99ve    |   ||  \n",
       "0                0.0                0.0                0.0  0.0  0.0  \n",
       "1                0.0                0.0                0.0  0.0  0.0  \n",
       "2                0.0                0.0                0.0  0.0  0.0  \n",
       "3                0.0                0.0                0.0  0.0  0.0  \n",
       "4                0.0                0.0                0.0  0.0  0.0  \n",
       "\n",
       "[5 rows x 3343 columns]"
      ]
     },
     "execution_count": 23,
     "metadata": {},
     "output_type": "execute_result"
    }
   ],
   "source": [
    "\n",
    "# Tunning Parameters\n",
    "\n",
    "# Instantiate vectorizer object\n",
    "tfidf = TfidfVectorizer(stop_words='english',\n",
    "                        max_df=.97,\n",
    "                        min_df=3,\n",
    "                        tokenizer=tokenize)\n",
    "\n",
    "# Create a vocabulary and get word counts per document\n",
    "dtm = tfidf.fit_transform(data)\n",
    "\n",
    "\n",
    "# Get feature names to use as dataframe column headers\n",
    "dtm = pd.DataFrame(dtm.todense(), columns=tfidf.get_feature_names())\n",
    "\n",
    "# View Feature Matrix as DataFrame\n",
    "dtm.head()\n"
   ]
  },
  {
   "cell_type": "code",
   "execution_count": null,
   "metadata": {},
   "outputs": [],
   "source": []
  },
  {
   "cell_type": "markdown",
   "metadata": {},
   "source": [
    "## 6) Create a NearestNeighbor Model. Write the description of your ideal datascience job and query your job listings. "
   ]
  },
  {
   "cell_type": "code",
   "execution_count": 25,
   "metadata": {
    "collapsed": false,
    "inputHidden": false,
    "jupyter": {
     "outputs_hidden": false
    },
    "outputHidden": false
   },
   "outputs": [
    {
     "data": {
      "text/plain": [
       "NearestNeighbors(algorithm='kd_tree', leaf_size=30, metric='minkowski',\n",
       "                 metric_params=None, n_jobs=None, n_neighbors=5, p=2,\n",
       "                 radius=1.0)"
      ]
     },
     "execution_count": 25,
     "metadata": {},
     "output_type": "execute_result"
    }
   ],
   "source": [
    "from sklearn.neighbors import NearestNeighbors\n",
    "\n",
    "# Fit on TF-IDF Vectors\n",
    "nn  = NearestNeighbors(n_neighbors=5, algorithm='kd_tree')\n",
    "nn.fit(dtm)"
   ]
  },
  {
   "cell_type": "code",
   "execution_count": 26,
   "metadata": {},
   "outputs": [
    {
     "data": {
      "text/plain": [
       "(array([[0.        , 0.        , 1.21280741, 1.25073189, 1.2511004 ]]),\n",
       " array([[ 47, 100, 201, 331, 217]]))"
      ]
     },
     "execution_count": 26,
     "metadata": {},
     "output_type": "execute_result"
    }
   ],
   "source": [
    "#query using kneighbors\n",
    "nn.kneighbors([dtm.iloc[100]])"
   ]
  },
  {
   "cell_type": "code",
   "execution_count": 27,
   "metadata": {},
   "outputs": [
    {
     "data": {
      "text/plain": [
       "'Description\\\\nA rare opportunity to join the development division within Information Systems at Steward Health Care, the top leader in the competitive for-profit hospital industry. We are seeking a motivated and experienced Data Scientist to contribute to the software development initiatives that improve the quality of health care across the country. This individual will be working with programmers'"
      ]
     },
     "execution_count": 27,
     "metadata": {},
     "output_type": "execute_result"
    }
   ],
   "source": [
    "data[100][:400]"
   ]
  },
  {
   "cell_type": "code",
   "execution_count": 28,
   "metadata": {},
   "outputs": [
    {
     "data": {
      "text/plain": [
       "'Discover business insights, identify opportunities and provide solutions and recommendations to solve business problems through the use of statistical, algorithmic, data mining and visualization techniques.\\\\nLevel 1\\\\nUnder close supervision, conduct predictive analyses for population health management, marketing campaign management and forecasting,\\\\nAnalyze and design solutions using healthcare da'"
      ]
     },
     "execution_count": 28,
     "metadata": {},
     "output_type": "execute_result"
    }
   ],
   "source": [
    "data[336][:400]"
   ]
  },
  {
   "cell_type": "code",
   "execution_count": 29,
   "metadata": {},
   "outputs": [],
   "source": [
    "my_job_description = [ \"\"\"\n",
    "I would like to work remotely and make 130000. I would like to become a product manager in a couple of years \n",
    "\"\"\"]"
   ]
  },
  {
   "cell_type": "code",
   "execution_count": 30,
   "metadata": {},
   "outputs": [
    {
     "data": {
      "text/plain": [
       "(array([[1.30358963, 1.30758548, 1.30758548, 1.32807695, 1.33185232]]),\n",
       " array([[ 17,  23, 123, 354, 286]]))"
      ]
     },
     "execution_count": 30,
     "metadata": {},
     "output_type": "execute_result"
    }
   ],
   "source": [
    "# Query for Sim of Random doc to BBC\n",
    "new = tfidf.transform(my_job_description)\n",
    "nn.kneighbors(new.todense())"
   ]
  },
  {
   "cell_type": "code",
   "execution_count": 31,
   "metadata": {},
   "outputs": [
    {
     "data": {
      "text/plain": [
       "'ContractWe are looking to hire for a Data Scientist (Remote).\\\\n\\\\nQualifications:\\\\nThis job is for a Data Scientist who is an expert in Python.\\\\nDeveloper should also have basic experience with postgres database.\\\\nGoal is to develop a general purpose script that creates various models for user imported datasets and choose the best model for making predictions.\\\\nMust be American citizen/authorized to work in US.\\\\n\\\\nOverview of work :\\\\nDeveloper will be working on an already built product that requires new features and bug fixing .\\\\nSelf testing and bug fixing is an important part of the job. Product is a tool that automates machine learning and makes natural language search and predictions on user imported data.\\\\nDeveloper will be working on a flexible schedule. He will be part of a remotely working team collaborating through Skype and needs to take part in daily calls.\\\\n\\\\nJob Type: Contract to hire'"
      ]
     },
     "execution_count": 31,
     "metadata": {},
     "output_type": "execute_result"
    }
   ],
   "source": [
    "# Inspect Most relevant result\n",
    "data[17]"
   ]
  },
  {
   "cell_type": "markdown",
   "metadata": {
    "colab_type": "text",
    "id": "FiDfTWceoRkH"
   },
   "source": [
    "## Stretch Goals\n",
    "\n",
    " - Try different visualizations for words and frequencies - what story do you want to tell with the data?\n",
    " - Scrape Job Listings for the job title \"Data Analyst\". How do these differ from Data Scientist Job Listings\n",
    " - Try and identify requirements for experience specific technologies that are asked for in the job listings. How are those distributed among the job listings?\n",
    " - Use a clustering algorithm to cluster documents by their most important terms. Do the clusters reveal any common themes?\n",
    "  - **Hint:** K-means might not be the best algorithm for this. Do a little bit of research to see what might be good for this. Also, remember that algorithms that depend on Euclidean distance break down with high dimensional data.\n",
    " - Create a labeled dataset - which jobs will you apply for? Train a model to select the jobs you are most likely to apply for. :) "
   ]
  }
 ],
 "metadata": {
  "colab": {
   "collapsed_sections": [],
   "name": "LS_DS_422_BOW_Assignment.ipynb",
   "provenance": [],
   "version": "0.3.2"
  },
  "kernel_info": {
   "name": "python3"
  },
  "kernelspec": {
   "display_name": "U4-S1-NLP (Python3)",
   "language": "python",
   "name": "u4-s1-nlp"
  },
  "language_info": {
   "codemirror_mode": {
    "name": "ipython",
    "version": 3
   },
   "file_extension": ".py",
   "mimetype": "text/x-python",
   "name": "python",
   "nbconvert_exporter": "python",
   "pygments_lexer": "ipython3",
   "version": "3.7.0"
  },
  "nteract": {
   "version": "0.14.3"
  }
 },
 "nbformat": 4,
 "nbformat_minor": 4
}

   "source": [
    "<img align=\"left\" src=\"https://lever-client-logos.s3.amazonaws.com/864372b1-534c-480e-acd5-9711f850815c-1524247202159.png\" width=200>\n",
    "<br></br>\n",
    "\n",
    "# Vector Representations\n",
    "## *Data Science Unit 4 Sprint 2 Assignment 2*"
   ]
  },
  {
   "cell_type": "code",
   "execution_count": 1,
   "metadata": {
    "colab": {
     "base_uri": "https://localhost:8080/",
     "height": 159
    },
    "colab_type": "code",
    "id": "hyj-f9FDcVFp",
    "outputId": "5dd045fe-6e4c-458c-e2fc-253c3da9c805"
   },
   "outputs": [],
   "source": [
    "import re\n",
    "import string\n",
    "\n",
    "from sklearn.feature_extraction.text import CountVectorizer, TfidfVectorizer\n",
    "import matplotlib.pyplot as plt\n",
    "import pandas as pd\n",
    "import numpy as np\n",
    "import spacy\n",
    "\n",
    "from bs4 import BeautifulSoup"
   ]
  },
  {
   "cell_type": "markdown",
   "metadata": {
    "colab_type": "text",
    "id": "M7bcmqfGXrFG"
   },
   "source": [
    "## 1) *Clean:* Job Listings from indeed.com that contain the title \"Data Scientist\" \n",
    "\n",
    "You have `job_listings.csv` in the data folder for this module. The text data in the description column is still messy - full of html tags. Use the [BeautifulSoup](https://www.crummy.com/software/BeautifulSoup/bs4/doc/) library to clean up this column. You will need to read through the documentation to accomplish this task. "
   ]
  },
  {
   "cell_type": "code",
   "execution_count": null,
   "metadata": {
    "colab": {},
    "colab_type": "code",
    "id": "KcYlc1URXhlC"
   },
   "outputs": [],
   "source": [
    "from bs4 import BeautifulSoup\n",
    "import requests\n",
    "\n",
    "##### Your Code Here #####\n",
    "raise Exception(\"\\nThis task is not complete. \\nReplace this line with your code for the task.\")\n",
    "                \n"
   ]
  },
  {
   "cell_type": "markdown",
   "metadata": {
    "colab_type": "text",
    "id": "5C4xFZNtX1m2"
   },
   "source": [
    "## 2) Use Spacy to tokenize the listings "
   ]
  },
  {
   "cell_type": "code",
   "execution_count": null,
   "metadata": {
    "colab": {},
    "colab_type": "code",
    "id": "dhUHuMr-X-II"
   },
   "outputs": [],
   "source": [
    "##### Your Code Here #####\n",
    "raise Exception(\"\\nThis task is not complete. \\nReplace this line with your code for the task.\""
   ]
  },
  {
   "cell_type": "markdown",
   "metadata": {
    "colab_type": "text",
    "id": "-lgCZNL_YycP"
   },
   "source": [
    "## 3) Use Scikit-Learn's CountVectorizer to get word counts for each listing."
   ]
  },
  {
   "cell_type": "code",
   "execution_count": null,
   "metadata": {
    "colab": {},
    "colab_type": "code",
    "id": "X2PZ8Pj_YxcF"
   },
   "outputs": [],
   "source": [
    "##### Your Code Here #####\n",
    "raise Exception(\"\\nThis task is not complete. \\nReplace this line with your code for the task.\""
   ]
  },
  {
   "cell_type": "markdown",
   "metadata": {
    "colab_type": "text",
    "id": "Zo1iH_UeY7_n"
   },
   "source": [
    "## 4) Visualize the most common word counts"
   ]
  },
  {
   "cell_type": "code",
   "execution_count": null,
   "metadata": {
    "colab": {},
    "colab_type": "code",
    "id": "M5LB00uyZKV5"
   },
   "outputs": [],
   "source": [
    "##### Your Code Here #####\n",
    "raise Exception(\"\\nThis task is not complete. \\nReplace this line with your code for the task.\""
   ]
  },
  {
   "cell_type": "markdown",
   "metadata": {
    "colab_type": "text",
    "id": "bwFsTqrVZMYi"
   },
   "source": [
    "## 5) Use Scikit-Learn's tfidfVectorizer to get a TF-IDF feature matrix"
   ]
  },
  {
   "cell_type": "code",
   "execution_count": null,
   "metadata": {
    "colab": {},
    "colab_type": "code",
    "id": "-gx2gZCbl5Np"
   },
   "outputs": [],
   "source": [
    "##### Your Code Here #####\n",
    "raise Exception(\"\\nThis task is not complete. \\nReplace this line with your code for the task.\""
   ]
  },
  {
   "cell_type": "markdown",
   "metadata": {},
   "source": [
    "## 6) Create a NearestNeighbor Model. Write the description of your ideal datascience job and query your job listings. "
   ]
  },
  {
   "cell_type": "code",
   "execution_count": null,
   "metadata": {
    "collapsed": false,
    "inputHidden": false,
    "jupyter": {
     "outputs_hidden": false
    },
    "outputHidden": false
   },
   "outputs": [],
   "source": [
    "##### Your Code Here #####\n",
    "raise Exception(\"\\nThis task is not complete. \\nReplace this line with your code for the task.\""
   ]
  },
  {
   "cell_type": "markdown",
   "metadata": {
    "colab_type": "text",
    "id": "FiDfTWceoRkH"
   },
   "source": [
    "## Stretch Goals\n",
    "\n",
    " - Try different visualizations for words and frequencies - what story do you want to tell with the data?\n",
    " - Scrape Job Listings for the job title \"Data Analyst\". How do these differ from Data Scientist Job Listings\n",
    " - Try and identify requirements for experience specific technologies that are asked for in the job listings. How are those distributed among the job listings?\n",
    " - Use a clustering algorithm to cluster documents by their most important terms. Do the clusters reveal any common themes?\n",
    "  - **Hint:** K-means might not be the best algorithm for this. Do a little bit of research to see what might be good for this. Also, remember that algorithms that depend on Euclidean distance break down with high dimensional data.\n",
    " - Create a labeled dataset - which jobs will you apply for? Train a model to select the jobs you are most likely to apply for. :) "
   ]
  }
 ],
 "metadata": {
  "colab": {
   "collapsed_sections": [],
   "name": "LS_DS_422_BOW_Assignment.ipynb",
   "provenance": [],
   "version": "0.3.2"
  },
  "kernel_info": {
   "name": "python3"
  },
  "kernelspec": {
   "display_name": "U4S1-TEST",
   "language": "python",
   "name": "u4s1-test"
  },
  "language_info": {
   "codemirror_mode": {
    "name": "ipython",
    "version": 3
   },
   "file_extension": ".py",
   "mimetype": "text/x-python",
   "name": "python",
   "nbconvert_exporter": "python",
   "pygments_lexer": "ipython3",
   "version": "3.7.0"
  },
  "nteract": {
   "version": "0.14.3"
  }
 },
 "nbformat": 4,
 "nbformat_minor": 4
}
